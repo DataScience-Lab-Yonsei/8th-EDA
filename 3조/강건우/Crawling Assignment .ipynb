{
 "cells": [
  {
   "cell_type": "code",
   "execution_count": 110,
   "id": "40b20bb6",
   "metadata": {},
   "outputs": [],
   "source": [
    "import requests\n",
    "from bs4 import BeautifulSoup "
   ]
  },
  {
   "cell_type": "code",
   "execution_count": 111,
   "id": "99c8b1c1",
   "metadata": {},
   "outputs": [],
   "source": [
    "headers = {'User-Agent' : 'Mozilla/5.0 (Windows NT 10.0; Win64; x64) AppleWebKit/537.36 (KHTML, like Gecko) Chrome/102.0.0.0 Safari/537.36'}"
   ]
  },
  {
   "cell_type": "code",
   "execution_count": 119,
   "id": "18886944",
   "metadata": {},
   "outputs": [],
   "source": [
    "url = 'https://news.naver.com/main/main.naver?mode=LSD&mid=shm&sid1=101#&date=%2000:00:00&page={i}'\n",
    "res = requests.get(url, headers = headers)\n",
    "res.raise_for_status()\n",
    "soup = BeautifulSoup(res.text, 'lxml') "
   ]
  },
  {
   "cell_type": "code",
   "execution_count": 120,
   "id": "deeb96eb",
   "metadata": {},
   "outputs": [
    {
     "data": {
      "text/plain": [
       "<div class=\"cluster_text\">\n",
       "<a class=\"cluster_text_headline nclicks(cls_eco.clsart)\" href=\"https://n.news.naver.com/mnews/article/003/0011321072?sid=101\">`치솟던' 광주 휘발유가격 1900원대 진입…경유도 하락세</a>\n",
       "<div class=\"cluster_text_lede\">기사내용 요약 유류세 인하·국제유가 하락 영향… 당분간 하락세 전망 글로벌 경기 침체 우려로 국제 유가가 하락하고 정부의 유류세 추가 인하 효과가 더해져 …</div>\n",
       "<div class=\"cluster_text_info _rcount\" data-comment=\"{gno:'news003,0011321072',params:{sid1:'101'},nclicks:'cmt.count','type':'sectionHomeCluster'}\">\n",
       "<div class=\"cluster_text_press\">뉴시스</div>\n",
       "</div>\n",
       "</div>"
      ]
     },
     "execution_count": 120,
     "metadata": {},
     "output_type": "execute_result"
    }
   ],
   "source": [
    "div1 = soup.find('div', attrs = {'class' : 'cluster_text'})\n",
    "div1"
   ]
  },
  {
   "cell_type": "code",
   "execution_count": 121,
   "id": "108dd85a",
   "metadata": {},
   "outputs": [
    {
     "data": {
      "text/plain": [
       "<a class=\"cluster_text_headline nclicks(cls_eco.clsart)\" href=\"https://n.news.naver.com/mnews/article/003/0011321072?sid=101\">`치솟던' 광주 휘발유가격 1900원대 진입…경유도 하락세</a>"
      ]
     },
     "execution_count": 121,
     "metadata": {},
     "output_type": "execute_result"
    }
   ],
   "source": [
    "div1.a"
   ]
  },
  {
   "cell_type": "code",
   "execution_count": 122,
   "id": "291b12c7",
   "metadata": {},
   "outputs": [
    {
     "data": {
      "text/plain": [
       "{'href': 'https://n.news.naver.com/mnews/article/003/0011321072?sid=101',\n",
       " 'class': ['cluster_text_headline', 'nclicks(cls_eco.clsart)']}"
      ]
     },
     "execution_count": 122,
     "metadata": {},
     "output_type": "execute_result"
    }
   ],
   "source": [
    "div1.a.attrs"
   ]
  },
  {
   "cell_type": "code",
   "execution_count": 123,
   "id": "487628a8",
   "metadata": {},
   "outputs": [
    {
     "data": {
      "text/plain": [
       "['cluster_text_headline', 'nclicks(cls_eco.clsart)']"
      ]
     },
     "execution_count": 123,
     "metadata": {},
     "output_type": "execute_result"
    }
   ],
   "source": [
    "div1.a['class']"
   ]
  },
  {
   "cell_type": "code",
   "execution_count": 124,
   "id": "ac24e446",
   "metadata": {},
   "outputs": [
    {
     "data": {
      "text/plain": [
       "\"`치솟던' 광주 휘발유가격 1900원대 진입…경유도 하락세\""
      ]
     },
     "execution_count": 124,
     "metadata": {},
     "output_type": "execute_result"
    }
   ],
   "source": [
    "div1.a.get_text()"
   ]
  },
  {
   "cell_type": "code",
   "execution_count": 127,
   "id": "8c96e331",
   "metadata": {},
   "outputs": [
    {
     "data": {
      "text/plain": [
       "[<a class=\"cluster_text_headline nclicks(cls_eco.clsart)\" href=\"https://n.news.naver.com/mnews/article/003/0011321072?sid=101\">`치솟던' 광주 휘발유가격 1900원대 진입…경유도 하락세</a>,\n",
       " <a class=\"cluster_text_headline nclicks(cls_eco.clsart)\" href=\"https://n.news.naver.com/mnews/article/009/0004995375?sid=101\">국내 휘발유 가격 3주 연속 하락세…ℓ당 2013원</a>,\n",
       " <a class=\"cluster_text_headline nclicks(cls_eco.clsart)\" href=\"https://n.news.naver.com/mnews/article/421/0006235776?sid=101\">충북 경유 1900원대 하락 주유소 일주일 전보다 100배 증가</a>,\n",
       " <a class=\"cluster_text_headline nclicks(cls_eco.clsart)\" href=\"https://n.news.naver.com/mnews/article/008/0004774206?sid=101\">\"휘발유 1983원인데, 경유 2050원\"...역대급 가격차이, 왜?</a>,\n",
       " <a class=\"cluster_text_headline nclicks(cls_eco.clsart)\" href=\"https://n.news.naver.com/mnews/article/057/0001678741?sid=101\">스타벅스 증정품 냄새 심하더니 발암물질까지?…스타벅스 \"검사 의뢰\"</a>,\n",
       " <a class=\"cluster_text_headline nclicks(cls_eco.clsart)\" href=\"https://n.news.naver.com/mnews/article/016/0002019606?sid=101\">스타벅스, ‘오징어 냄새 논란’ 서머 캐리백 교환 돌입</a>,\n",
       " <a class=\"cluster_text_headline nclicks(cls_eco.clsart)\" href=\"https://n.news.naver.com/mnews/article/023/0003705705?sid=101\">“음료 3잔 줄게요”… 스타벅스, ‘유해물질 의혹’ 증정품 교환 조치</a>,\n",
       " <a class=\"cluster_text_headline nclicks(cls_eco.clsart)\" href=\"https://n.news.naver.com/mnews/article/055/0000987966?sid=101\">스타벅스, '유해물질 논란' 증정품 교환</a>,\n",
       " <a class=\"cluster_text_headline nclicks(cls_eco.clsart)\" href=\"https://n.news.naver.com/mnews/article/008/0004774266?sid=101\">4대 금융지주 상반기 9조 벌었다…이자이익 두자릿수 껑충(종합)</a>,\n",
       " <a class=\"cluster_text_headline nclicks(cls_eco.clsart)\" href=\"https://n.news.naver.com/mnews/article/003/0011321419?sid=101\">하나금융, 상반기 순이익 1조7274억원…주당 800원 중간배당(종합)</a>,\n",
       " <a class=\"cluster_text_headline nclicks(cls_eco.clsart)\" href=\"https://n.news.naver.com/mnews/article/025/0003211636?sid=101\">'이자장사' 덕 톡톡히 봤다? 4대 금융사 상반기 순익 무려 9조</a>,\n",
       " <a class=\"cluster_text_headline nclicks(cls_eco.clsart)\" href=\"https://n.news.naver.com/mnews/article/277/0005122154?sid=101\">2Q 순위 뒤바뀐 4대금융…신한·KB·우리·하나 순</a>,\n",
       " <a class=\"cluster_text_headline nclicks(cls_eco.clsart)\" href=\"https://n.news.naver.com/mnews/article/025/0003211556?sid=101\">'1000원대 소고기' 여기 가면 팔아요…\"저녁에 실컷 드세요\"</a>,\n",
       " <a class=\"cluster_text_headline nclicks(cls_eco.clsart)\" href=\"https://n.news.naver.com/mnews/article/009/0004995048?sid=101\">롯데마트, 소고기 1000원대 판매한다는데…</a>,\n",
       " <a class=\"cluster_text_headline nclicks(cls_eco.clsart)\" href=\"https://n.news.naver.com/mnews/article/003/0011321759?sid=101\">뉴욕증시, 스냅發 어닝 쇼크 공포에 일제 하락…나스닥 225P↓(종합)</a>,\n",
       " <a class=\"cluster_text_headline nclicks(cls_eco.clsart)\" href=\"https://n.news.naver.com/mnews/article/011/0004079436?sid=101\">'39% 폭락' 스냅 쇼크에 뉴욕증시 '털썩'…나스닥 1.87%↓[데일리 국제금융시장]</a>,\n",
       " <a class=\"cluster_text_headline nclicks(cls_eco.clsart)\" href=\"https://n.news.naver.com/mnews/article/052/0001767382?sid=101\">손태승 우리금융 회장, 'DLF 징계 취소' 2심도 승소</a>,\n",
       " <a class=\"cluster_text_headline nclicks(cls_eco.clsart)\" href=\"https://n.news.naver.com/mnews/article/469/0000687651?sid=101\">\"문책 징계 취소하라\" 판결에 웃은 손태승... 연임 청신호</a>,\n",
       " <a class=\"cluster_text_headline nclicks(cls_eco.clsart)\" href=\"https://n.news.naver.com/mnews/article/003/0011320865?sid=101\">완주 쿠팡 물류센터 건립 사실상 무산</a>,\n",
       " <a class=\"cluster_text_headline nclicks(cls_eco.clsart)\" href=\"https://n.news.naver.com/mnews/article/018/0005274245?sid=101\">쿠팡, 경주시와 소상공인 온라인 진출 지원사업</a>,\n",
       " <a class=\"cluster_text_headline nclicks(cls_eco.clsart)\" href=\"https://n.news.naver.com/mnews/article/011/0004079182?sid=101\">SK온, 에코프로와 양극재 공장 증축</a>,\n",
       " <a class=\"cluster_text_headline nclicks(cls_eco.clsart)\" href=\"https://n.news.naver.com/mnews/article/008/0004774064?sid=101\">SK온·포드·에코프로비엠, 북미 황금 삼각편대 구축한다</a>,\n",
       " <a class=\"cluster_text_headline nclicks(cls_eco.clsart)\" href=\"https://n.news.naver.com/mnews/article/056/0011307379?sid=101\">“휴가 반납, 납기일을 맞춘다”…내일부터 선박 건조</a>,\n",
       " <a class=\"cluster_text_headline nclicks(cls_eco.clsart)\" href=\"https://n.news.naver.com/mnews/article/015/0004728082?sid=101\">대우조선, 하청노조 점거농성하던 도크 속 선박 진수작업 재개</a>,\n",
       " <a class=\"cluster_text_headline nclicks(cls_eco.clsart)\" href=\"https://n.news.naver.com/mnews/article/015/0004727818?sid=101\">\"장보기가 두렵다\"…올 들어 공급가 10% 이상 오른 상품 172개 [조미현의 외환·금융 워치]</a>,\n",
       " <a class=\"cluster_text_headline nclicks(cls_eco.clsart)\" href=\"https://n.news.naver.com/mnews/article/469/0000687624?sid=101\">생산자물가 또 최고치 갈아치워... 물가 더 오른다</a>,\n",
       " <a class=\"cluster_text_headline nclicks(cls_eco.clsart)\" href=\"https://n.news.naver.com/mnews/article/023/0003705688?sid=101\">美 기준금리 0.75%P 인상? “이젠 아무도 믿을 수 없다” [Market Watch]</a>,\n",
       " <a class=\"cluster_text_headline nclicks(cls_eco.clsart)\" href=\"https://n.news.naver.com/mnews/article/374/0000295904?sid=101\">FOMC에 쏠리는 시선…美 연준, 연속 '자이언트 스텝' 밟을까?</a>,\n",
       " <a class=\"cluster_text_headline nclicks(cls_eco.clsart)\" href=\"https://n.news.naver.com/mnews/article/023/0003705647?sid=101\">고금리에 허리 휘는데… 4대은행, 상반기만 이자수익 15조</a>,\n",
       " <a class=\"cluster_text_headline nclicks(cls_eco.clsart)\" href=\"https://n.news.naver.com/mnews/article/469/0000687681?sid=101\">최대 이자수익이 걱정인 4대 금융지주... \"금리 압박\" 이어질 듯</a>]"
      ]
     },
     "execution_count": 127,
     "metadata": {},
     "output_type": "execute_result"
    }
   ],
   "source": [
    "a1 = soup.findAll('a', attrs = {'class' : 'cluster_text_headline nclicks(cls_eco.clsart)'})\n",
    "a1\n"
   ]
  },
  {
   "cell_type": "code",
   "execution_count": 128,
   "id": "bb615e75",
   "metadata": {},
   "outputs": [
    {
     "name": "stdout",
     "output_type": "stream",
     "text": [
      "기사 제목 : `치솟던' 광주 휘발유가격 1900원대 진입…경유도 하락세\n",
      "(링크 : https://n.news.naver.com/mnews/article/003/0011321072?sid=101)\n",
      "기사 제목 : 국내 휘발유 가격 3주 연속 하락세…ℓ당 2013원\n",
      "(링크 : https://n.news.naver.com/mnews/article/009/0004995375?sid=101)\n",
      "기사 제목 : 충북 경유 1900원대 하락 주유소 일주일 전보다 100배 증가\n",
      "(링크 : https://n.news.naver.com/mnews/article/421/0006235776?sid=101)\n",
      "기사 제목 : \"휘발유 1983원인데, 경유 2050원\"...역대급 가격차이, 왜?\n",
      "(링크 : https://n.news.naver.com/mnews/article/008/0004774206?sid=101)\n",
      "기사 제목 : 스타벅스 증정품 냄새 심하더니 발암물질까지?…스타벅스 \"검사 의뢰\"\n",
      "(링크 : https://n.news.naver.com/mnews/article/057/0001678741?sid=101)\n",
      "기사 제목 : 스타벅스, ‘오징어 냄새 논란’ 서머 캐리백 교환 돌입\n",
      "(링크 : https://n.news.naver.com/mnews/article/016/0002019606?sid=101)\n",
      "기사 제목 : “음료 3잔 줄게요”… 스타벅스, ‘유해물질 의혹’ 증정품 교환 조치\n",
      "(링크 : https://n.news.naver.com/mnews/article/023/0003705705?sid=101)\n",
      "기사 제목 : 스타벅스, '유해물질 논란' 증정품 교환\n",
      "(링크 : https://n.news.naver.com/mnews/article/055/0000987966?sid=101)\n",
      "기사 제목 : 4대 금융지주 상반기 9조 벌었다…이자이익 두자릿수 껑충(종합)\n",
      "(링크 : https://n.news.naver.com/mnews/article/008/0004774266?sid=101)\n",
      "기사 제목 : 하나금융, 상반기 순이익 1조7274억원…주당 800원 중간배당(종합)\n",
      "(링크 : https://n.news.naver.com/mnews/article/003/0011321419?sid=101)\n",
      "기사 제목 : '이자장사' 덕 톡톡히 봤다? 4대 금융사 상반기 순익 무려 9조\n",
      "(링크 : https://n.news.naver.com/mnews/article/025/0003211636?sid=101)\n",
      "기사 제목 : 2Q 순위 뒤바뀐 4대금융…신한·KB·우리·하나 순\n",
      "(링크 : https://n.news.naver.com/mnews/article/277/0005122154?sid=101)\n",
      "기사 제목 : '1000원대 소고기' 여기 가면 팔아요…\"저녁에 실컷 드세요\"\n",
      "(링크 : https://n.news.naver.com/mnews/article/025/0003211556?sid=101)\n",
      "기사 제목 : 롯데마트, 소고기 1000원대 판매한다는데…\n",
      "(링크 : https://n.news.naver.com/mnews/article/009/0004995048?sid=101)\n",
      "기사 제목 : 뉴욕증시, 스냅發 어닝 쇼크 공포에 일제 하락…나스닥 225P↓(종합)\n",
      "(링크 : https://n.news.naver.com/mnews/article/003/0011321759?sid=101)\n",
      "기사 제목 : '39% 폭락' 스냅 쇼크에 뉴욕증시 '털썩'…나스닥 1.87%↓[데일리 국제금융시장]\n",
      "(링크 : https://n.news.naver.com/mnews/article/011/0004079436?sid=101)\n",
      "기사 제목 : 손태승 우리금융 회장, 'DLF 징계 취소' 2심도 승소\n",
      "(링크 : https://n.news.naver.com/mnews/article/052/0001767382?sid=101)\n",
      "기사 제목 : \"문책 징계 취소하라\" 판결에 웃은 손태승... 연임 청신호\n",
      "(링크 : https://n.news.naver.com/mnews/article/469/0000687651?sid=101)\n",
      "기사 제목 : 완주 쿠팡 물류센터 건립 사실상 무산\n",
      "(링크 : https://n.news.naver.com/mnews/article/003/0011320865?sid=101)\n",
      "기사 제목 : 쿠팡, 경주시와 소상공인 온라인 진출 지원사업\n",
      "(링크 : https://n.news.naver.com/mnews/article/018/0005274245?sid=101)\n",
      "기사 제목 : SK온, 에코프로와 양극재 공장 증축\n",
      "(링크 : https://n.news.naver.com/mnews/article/011/0004079182?sid=101)\n",
      "기사 제목 : SK온·포드·에코프로비엠, 북미 황금 삼각편대 구축한다\n",
      "(링크 : https://n.news.naver.com/mnews/article/008/0004774064?sid=101)\n",
      "기사 제목 : “휴가 반납, 납기일을 맞춘다”…내일부터 선박 건조\n",
      "(링크 : https://n.news.naver.com/mnews/article/056/0011307379?sid=101)\n",
      "기사 제목 : 대우조선, 하청노조 점거농성하던 도크 속 선박 진수작업 재개\n",
      "(링크 : https://n.news.naver.com/mnews/article/015/0004728082?sid=101)\n",
      "기사 제목 : \"장보기가 두렵다\"…올 들어 공급가 10% 이상 오른 상품 172개 [조미현의 외환·금융 워치]\n",
      "(링크 : https://n.news.naver.com/mnews/article/015/0004727818?sid=101)\n",
      "기사 제목 : 생산자물가 또 최고치 갈아치워... 물가 더 오른다\n",
      "(링크 : https://n.news.naver.com/mnews/article/469/0000687624?sid=101)\n",
      "기사 제목 : 美 기준금리 0.75%P 인상? “이젠 아무도 믿을 수 없다” [Market Watch]\n",
      "(링크 : https://n.news.naver.com/mnews/article/023/0003705688?sid=101)\n",
      "기사 제목 : FOMC에 쏠리는 시선…美 연준, 연속 '자이언트 스텝' 밟을까?\n",
      "(링크 : https://n.news.naver.com/mnews/article/374/0000295904?sid=101)\n",
      "기사 제목 : 고금리에 허리 휘는데… 4대은행, 상반기만 이자수익 15조\n",
      "(링크 : https://n.news.naver.com/mnews/article/023/0003705647?sid=101)\n",
      "기사 제목 : 최대 이자수익이 걱정인 4대 금융지주... \"금리 압박\" 이어질 듯\n",
      "(링크 : https://n.news.naver.com/mnews/article/469/0000687681?sid=101)\n"
     ]
    }
   ],
   "source": [
    "for a in a1:\n",
    "    title = a.get_text()\n",
    "    link = a['href']\n",
    "    print(f'기사 제목 : {title}') \n",
    "    print(f'(링크 : {link})')"
   ]
  },
  {
   "cell_type": "code",
   "execution_count": 132,
   "id": "be7ea517",
   "metadata": {},
   "outputs": [
    {
     "name": "stdout",
     "output_type": "stream",
     "text": [
      "기사 제목 : 스타벅스 굿즈서 발암물질 검출\n",
      "(링크 : https://n.news.naver.com/mnews/article/016/0002019348?sid=101)\n",
      "기사 제목 : “서머 캐리백에 발암물질 검출”…스타벅스, 정밀검사 착수\n",
      "(링크 : https://n.news.naver.com/mnews/article/056/0011307125?sid=101)\n",
      "기사 제목 : ‘오징어 냄새 난다’던 스타벅스 굿즈, 폼알데히드 검출 논란\n",
      "(링크 : https://n.news.naver.com/mnews/article/016/0002019189?sid=101)\n",
      "기사 제목 : 서머 캐리백서 발암물질이? 스타벅스 “사실관계 파악 중”\n",
      "(링크 : https://n.news.naver.com/mnews/article/020/0003441586?sid=101)\n",
      "기사 제목 : 삼성전자, 美텍사스주에 '20년간 250조원' 투자계획서 제출\n",
      "(링크 : https://n.news.naver.com/mnews/article/009/0004995272?sid=101)\n",
      "기사 제목 : 삼성, 미 텍사스에 20년간 250조원 투자해 반도체공장 11곳 신설 구상\n",
      "(링크 : https://n.news.naver.com/mnews/article/032/0003161618?sid=101)\n",
      "기사 제목 : 삼성 \"美텍사스에 또 251조 규모 공장\"...주지사도 판사도 환호\n",
      "(링크 : https://n.news.naver.com/mnews/article/025/0003211576?sid=101)\n",
      "기사 제목 : 삼성전자 '美 보조금' 발판 삼아 생산기지 대전환…TSMC 추격 앞당긴다\n",
      "(링크 : https://n.news.naver.com/mnews/article/011/0004079365?sid=101)\n",
      "기사 제목 : SK온·에코프로비엠, 포드와 북미 양극재 생산시설 공동 투자\n",
      "(링크 : https://n.news.naver.com/mnews/article/366/0000829260?sid=101)\n",
      "기사 제목 : SK온, 포드·에코프로비엠과 양극재 생산시설 공동투자\n",
      "(링크 : https://n.news.naver.com/mnews/article/277/0005121702?sid=101)\n",
      "기사 제목 : LG에너지솔루션·SK온, 포드와 협력 강화…북미시장 공략\n",
      "(링크 : https://n.news.naver.com/mnews/article/082/0001166224?sid=101)\n",
      "기사 제목 : SK온, 포드·에코프로비엠과 북미에 1조규모 양극재 공장\n",
      "(링크 : https://n.news.naver.com/mnews/article/009/0004995275?sid=101)\n",
      "기사 제목 : 기아, 영업이익 첫 2조 돌파…고수익 친환경차 '효자노릇'\n",
      "(링크 : https://n.news.naver.com/mnews/article/011/0004079358?sid=101)\n",
      "기사 제목 : 믹스개선-환율로 반도체난 극복…기아, 매출 20조-영업익 2조 달성\n",
      "(링크 : https://n.news.naver.com/mnews/article/001/0013328827?sid=101)\n",
      "기사 제목 : LG생활건강, '가습기 살균제' 성분 검출 '유아용 물티슈' 전량 회수\n",
      "(링크 : https://n.news.naver.com/mnews/article/018/0005274768?sid=101)\n",
      "기사 제목 : LG생건, '가습기 살균제' 성분 물티슈 회수 조치\n",
      "(링크 : https://n.news.naver.com/mnews/article/011/0004079394?sid=101)\n",
      "기사 제목 : SK텔레콤·하나금융그룹, 총 4000억원대 지분교환…\"전략적 협력 강화\"\n",
      "(링크 : https://n.news.naver.com/mnews/article/015/0004727962?sid=101)\n",
      "기사 제목 : SKT-하나금융, 4000억대 지분 교환…ICT·금융 협력 강화\n",
      "(링크 : https://n.news.naver.com/mnews/article/020/0003441671?sid=101)\n",
      "기사 제목 : '리딩뱅크' 경쟁 치열…2분기는 신한·상반기는 KB금융지주가 앞서\n",
      "(링크 : https://n.news.naver.com/mnews/article/031/0000687407?sid=101)\n",
      "기사 제목 : 우리금융, 상반기 당기순익 1조7614억원…사상 최대실적\n",
      "(링크 : https://n.news.naver.com/mnews/article/030/0003032336?sid=101)\n",
      "기사 제목 : 산은 \"파업에 따른 자금난엔 대우조선 지원 불가\"\n",
      "(링크 : https://n.news.naver.com/mnews/article/422/0000552338?sid=101)\n",
      "기사 제목 : 7.1조 혈세들인 대우조선, 파업에 1일 300억 피해…산은 \"지원 끝\"\n",
      "(링크 : https://n.news.naver.com/mnews/article/008/0004774123?sid=101)\n",
      "기사 제목 : '신진에스엠 먹튀' 슈퍼개미, 똑같은 수법 쓰려다 덜미\n",
      "(링크 : https://n.news.naver.com/mnews/article/008/0004774313?sid=101)\n",
      "기사 제목 : 신진에스엠 '먹튀' 슈퍼개미, 양지사 단순투자로 변경 \"시장 오해 일으켜 죄송\"\n",
      "(링크 : https://n.news.naver.com/mnews/article/008/0004774298?sid=101)\n",
      "기사 제목 : 삼성전자, 美 250조 투자 소식에도 소폭 하락\n",
      "(링크 : https://n.news.naver.com/mnews/article/018/0005274629?sid=101)\n",
      "기사 제목 : 외국인 돌아오니…삼성전자 떠나는 개미들\n",
      "(링크 : https://n.news.naver.com/mnews/article/003/0011321866?sid=101)\n",
      "기사 제목 : '치킨 가격 얼마가 적당한가요?' 치킨값 고공행진에 불매운동 조짐\n",
      "(링크 : https://n.news.naver.com/mnews/article/629/0000162616?sid=101)\n",
      "기사 제목 : 치킨·피자 프랜차이즈도 '위기 경영'…하반기 돌파구 찾는다\n",
      "(링크 : https://n.news.naver.com/mnews/article/003/0011321808?sid=101)\n",
      "기사 제목 : 40%폭락 스냅 발 SNS 몰락 [월가월부]\n",
      "(링크 : https://n.news.naver.com/mnews/article/009/0004995364?sid=101)\n",
      "기사 제목 : 스냅 39% 폭락, 美 SNS 시총 하루만에 170조 증발\n",
      "(링크 : https://n.news.naver.com/mnews/article/421/0006235737?sid=101)\n",
      "기사 제목 : 금리 뛰어 힘든데…4대 금융그룹 반기 이자이익 19조\n",
      "(링크 : https://n.news.naver.com/mnews/article/422/0000552410?sid=101)\n",
      "기사 제목 : 4대 금융지주, 상반기 ‘이자수익’ 덕에 역대급 실적…‘고통분담’ 책임 압박 커질듯\n",
      "(링크 : https://n.news.naver.com/mnews/article/081/0003289415?sid=101)\n",
      "기사 제목 : 고금리에 허리 휘는데… 4대은행, 상반기만 이자수익 15조\n",
      "(링크 : https://n.news.naver.com/mnews/article/023/0003705647?sid=101)\n",
      "기사 제목 : 최대 이자수익이 걱정인 4대 금융지주... \"금리 압박\" 이어질 듯\n",
      "(링크 : https://n.news.naver.com/mnews/article/469/0000687681?sid=101)\n",
      "기사 제목 : 휘발유값, 서울 등 3개 지역 빼고 1900원대…하락세 지속할까\n",
      "(링크 : https://n.news.naver.com/mnews/article/003/0011321718?sid=101)\n",
      "기사 제목 : 국내 휘발유 가격 3주 연속 하락세…ℓ당 2013원\n",
      "(링크 : https://n.news.naver.com/mnews/article/016/0002019536?sid=101)\n",
      "기사 제목 : \"휘발유 1983원인데, 경유 2050원\"...역대급 가격차이, 왜?\n",
      "(링크 : https://n.news.naver.com/mnews/article/008/0004774206?sid=101)\n",
      "기사 제목 : `치솟던' 광주 휘발유가격 1900원대 진입…경유도 하락세\n",
      "(링크 : https://n.news.naver.com/mnews/article/003/0011321072?sid=101)\n",
      "기사 제목 : 스타벅스, ‘화학물질 검출 의혹’ 서머 캐리백 교환 절차 진행\n",
      "(링크 : https://n.news.naver.com/mnews/article/056/0011307623?sid=101)\n",
      "기사 제목 : 스타벅스 ‘서머캐리백’서 1군 발암물질 검출 의혹 제기\n",
      "(링크 : https://n.news.naver.com/mnews/article/022/0003717928?sid=101)\n",
      "기사 제목 : ‘오징어 냄새 난다’던 스타벅스 굿즈, 폼알데히드 검출 논란\n",
      "(링크 : https://n.news.naver.com/mnews/article/016/0002019189?sid=101)\n",
      "기사 제목 : 유해 물질 검출 의혹에…스타벅스, '서머 캐리백' 교환  돌입\n",
      "(링크 : https://n.news.naver.com/mnews/article/011/0004079476?sid=101)\n",
      "기사 제목 : [영상] 두번째 일요일에도 마트 갈까…의무휴업 폐지 기대↑ [언박싱]\n",
      "(링크 : https://n.news.naver.com/mnews/article/016/0002019525?sid=101)\n",
      "기사 제목 : 대형마트 의무휴업 폐지될까…대통령실 온라인투표 1위\n",
      "(링크 : https://n.news.naver.com/mnews/article/448/0000367067?sid=101)\n",
      "기사 제목 : SK온, 포드·에코프로비엠과 양극재 공장\n",
      "(링크 : https://n.news.naver.com/mnews/article/016/0002019294?sid=101)\n",
      "기사 제목 : SK온, 포드·에코프로비엠과 북미에 1조규모 양극재 공장\n",
      "(링크 : https://n.news.naver.com/mnews/article/009/0004995275?sid=101)\n",
      "기사 제목 : '아! 환율' 하나금융, 4대지주중 혼자 역성장\n",
      "(링크 : https://n.news.naver.com/mnews/article/648/0000009311?sid=101)\n",
      "기사 제목 : 하나금융, 상반기 순이익 1조7274억원… 전년比 1.4% 감소\n",
      "(링크 : https://n.news.naver.com/mnews/article/366/0000829393?sid=101)\n",
      "기사 제목 : '어닝쇼크' 스냅, 하루 39% 폭락...나스닥·S&P도 충격 [뉴욕마감]\n",
      "(링크 : https://n.news.naver.com/mnews/article/008/0004774361?sid=101)\n",
      "기사 제목 : 스냅 39% 폭락, 美 SNS 시총 하루만에 170조 증발\n",
      "(링크 : https://n.news.naver.com/mnews/article/421/0006235737?sid=101)\n",
      "기사 제목 : LG생활건강, 가습기 살균제 성분 검출 물티슈 전품목 회수\n",
      "(링크 : https://n.news.naver.com/mnews/article/032/0003161704?sid=101)\n",
      "기사 제목 : LG생활건강, 베비언스 온리7 물티슈 전 품목 자진회수 결정\n",
      "(링크 : https://n.news.naver.com/mnews/article/008/0004774314?sid=101)\n",
      "기사 제목 : 기아, 2분기 매출 21.9조·영업익 2.2조원…역대 최대\n",
      "(링크 : https://n.news.naver.com/mnews/article/003/0011320866?sid=101)\n",
      "기사 제목 : 기아, 사상 첫 분기 영업익 2조원 돌파…두 자릿수 영업이익률 새역사[컨콜 종합]\n",
      "(링크 : https://n.news.naver.com/mnews/article/031/0000687310?sid=101)\n",
      "기사 제목 : 현대차가 미국에서 최대규모 세금혜택을 받았다\n",
      "(링크 : https://n.news.naver.com/mnews/article/009/0004995412?sid=101)\n",
      "기사 제목 : 美 조지아주, 현대차 인센티브 확정…2조 4천억 원 지원\n",
      "(링크 : https://n.news.naver.com/mnews/article/374/0000295896?sid=101)\n",
      "기사 제목 : LG엔솔·SK온, 포드와 협력 강화… 북미시장 공략 속도\n",
      "(링크 : https://n.news.naver.com/mnews/article/022/0003718088?sid=101)\n",
      "기사 제목 : 포드, 테슬라 잡기위해 中 CATL과 '저가형 배터리'  장기공급 계약 추진\n",
      "(링크 : https://n.news.naver.com/mnews/article/138/0002129243?sid=101)\n",
      "기사 제목 : 하계휴가 앞둔 대우조선 파업 분수령…산은 '파산' 언급\n",
      "(링크 : https://n.news.naver.com/mnews/article/374/0000295801?sid=101)\n",
      "기사 제목 : 산은 \"파업에 따른 자금난엔 대우조선 지원 불가\"\n",
      "(링크 : https://n.news.naver.com/mnews/article/422/0000552338?sid=101)\n",
      "기사 제목 : 美 조지아주, 현대차 공장에 감세 혜택 등 2조 원 이상 지원\n",
      "(링크 : https://n.news.naver.com/mnews/article/214/0001210981?sid=101)\n",
      "기사 제목 : 美 조지아, 현대차 EV 공장에 감세 포함 18억 달러 지원\n",
      "(링크 : https://n.news.naver.com/mnews/article/021/0002523349?sid=101)\n",
      "기사 제목 : 美 조지아 현대차 공장에 감세 혜택 등 2조4천억원 지원\n",
      "(링크 : https://n.news.naver.com/mnews/article/001/0013329563?sid=101)\n",
      "기사 제목 : 美 조지아, 현대차 EV공장에 감세 혜택 등 2조4000억 지원\n",
      "(링크 : https://n.news.naver.com/mnews/article/011/0004079455?sid=101)\n",
      "기사 제목 : 스타벅스, 유해물질 논란 ‘서머캐리백’ 음료 3잔으로 교환\n",
      "(링크 : https://n.news.naver.com/mnews/article/119/0002623636?sid=101)\n",
      "기사 제목 : 서머 캐리백서 발암물질이? 스타벅스 “사실관계 파악 중”\n",
      "(링크 : https://n.news.naver.com/mnews/article/020/0003441586?sid=101)\n",
      "기사 제목 : 오징어 냄새 난다던 '스벅 캐리백'서 발암물질이?\n",
      "(링크 : https://n.news.naver.com/mnews/article/656/0000019893?sid=101)\n",
      "기사 제목 : '발암물질 캐리백 논란' 스타벅스 \"음료 3잔으로 바꿔준다\" 교환 시작\n",
      "(링크 : https://n.news.naver.com/mnews/article/277/0005122165?sid=101)\n",
      "기사 제목 : ‘칩4 동맹’ 뭐길래…삼성전자·SK하이닉스가 숨죽이는 이유는 [비즈360]\n",
      "(링크 : https://n.news.naver.com/mnews/article/016/0002019531?sid=101)\n",
      "기사 제목 : 美에 250조원 역대급 돈보따리…삼성은 다 계획이 있구나 [MK위클리반도체]\n",
      "(링크 : https://n.news.naver.com/mnews/article/009/0004995406?sid=101)\n",
      "기사 제목 : 미 상무장관 \"삼성 텍사스 투자 환영…반도체 법안 처리해야\"\n",
      "(링크 : https://n.news.naver.com/mnews/article/055/0000987758?sid=101)\n",
      "기사 제목 : 삼성 \"美텍사스에 또 251조 규모 공장\"...주지사도 판사도 환호\n",
      "(링크 : https://n.news.naver.com/mnews/article/025/0003211576?sid=101)\n",
      "기사 제목 : 머스크 비트코인 매도에 테슬라 주주 웃고, 코인 투자자 울상\n",
      "(링크 : https://n.news.naver.com/mnews/article/366/0000829320?sid=101)\n",
      "기사 제목 : 가상화폐 비트코인 29,980,000원(-0.33%) 거래중\n",
      "(링크 : https://n.news.naver.com/mnews/article/215/0001044508?sid=101)\n",
      "기사 제목 : '점거 해제' 대우조선해양, 정상화 시동…진수작업 재개\n",
      "(링크 : https://n.news.naver.com/mnews/article/018/0005275229?sid=101)\n",
      "기사 제목 : 대우조선, '하청노조 점거 농성' 도크 진수작업 재개\n",
      "(링크 : https://n.news.naver.com/mnews/article/277/0005122164?sid=101)\n",
      "기사 제목 : 고금리에 사라진 '내집마련'…8주째 '뚝뚝'서울집값·얼어붙은 '노도강'\n",
      "(링크 : https://n.news.naver.com/mnews/article/421/0006235707?sid=101)\n",
      "기사 제목 : 강세 보였던 서울 강남·용산도 ‘흔들’…외곽지역 집값 내림세 더 두드러져\n",
      "(링크 : https://n.news.naver.com/mnews/article/022/0003718133?sid=101)\n",
      "기사 제목 : 기재부 \"법인세 낮추면 투자·고용 증가…다양한 실증연구 있다\"\n",
      "(링크 : https://n.news.naver.com/mnews/article/001/0013329128?sid=101)\n",
      "기사 제목 : ‘법인세 인하 효과 불확실’ 비판에 기재부 “투자·고용 증가 효과”\n",
      "(링크 : https://n.news.naver.com/mnews/article/022/0003718049?sid=101)\n",
      "기사 제목 : 美 기준금리 0.75%P 인상? “이젠 아무도 믿을 수 없다” [Market Watch]\n",
      "(링크 : https://n.news.naver.com/mnews/article/023/0003705688?sid=101)\n",
      "기사 제목 : 하나증권 \"연준, 7월 FOMC서 기준금리 0.75%p 인상 가능성 커\"\n",
      "(링크 : https://n.news.naver.com/mnews/article/001/0013327482?sid=101)\n",
      "기사 제목 : SK온, 포드·에코프로비엠과 양극재 생산시설 공동투자\n",
      "(링크 : https://n.news.naver.com/mnews/article/448/0000366989?sid=101)\n",
      "기사 제목 : SK온, 포드·에코프로비엠과 양극재 생산시설 공동투자\n",
      "(링크 : https://n.news.naver.com/mnews/article/277/0005121702?sid=101)\n",
      "기사 제목 : 기아 ‘사상 최초’ 분기 영업이익 2조원대… 이익률도 최초 두 자릿수\n",
      "(링크 : https://n.news.naver.com/mnews/article/366/0000829343?sid=101)\n",
      "기사 제목 : 2Q 역대급 실적 거둔 기아…영업익 첫 2조 원 돌파·이익률 10.2% ‘역대 최고’\n",
      "(링크 : https://n.news.naver.com/mnews/article/011/0004079264?sid=101)\n",
      "기사 제목 : KB·신한·우리 상반기 역대 최대 순익 기록…하나는 1.4% 하락\n",
      "(링크 : https://n.news.naver.com/mnews/article/032/0003161679?sid=101)\n",
      "기사 제목 : 신한금융, 상반기 순익 2.7조…은행·카드 기여에 '사상최대'\n",
      "(링크 : https://n.news.naver.com/mnews/article/003/0011320212?sid=101)\n",
      "기사 제목 : [속보]'스냅 쇼크' 하루만에 무너진 기술주…나스닥 1.9%↓\n",
      "(링크 : https://n.news.naver.com/mnews/article/018/0005275129?sid=101)\n",
      "기사 제목 : '스냅 쇼크' 증시 털썩…내주 기술주 랠리 분수령[뉴욕증시]\n",
      "(링크 : https://n.news.naver.com/mnews/article/018/0005275135?sid=101)\n"
     ]
    },
    {
     "name": "stdout",
     "output_type": "stream",
     "text": [
      "기사 제목 : 이자 확 늘어 6개월 9조 벌었다…'고통분담' 공언한 금융지주\n",
      "(링크 : https://n.news.naver.com/mnews/article/008/0004774370?sid=101)\n",
      "기사 제목 : 최대 이자수익이 걱정인 4대 금융지주... \"금리 압박\" 이어질 듯\n",
      "(링크 : https://n.news.naver.com/mnews/article/469/0000687681?sid=101)\n",
      "기사 제목 : ‘이자장사’ 논란 속…4대 금융그룹 상반기 순이익 9조 육박\n",
      "(링크 : https://n.news.naver.com/mnews/article/020/0003441672?sid=101)\n",
      "기사 제목 : 금리 뛰어 힘든데…4대 금융그룹 반기 이자이익 19조\n",
      "(링크 : https://n.news.naver.com/mnews/article/422/0000552410?sid=101)\n",
      "기사 제목 : “오징어 냄새나”…스타벅스 ‘서머 캐리백’서 1군 발암물질 검출 의혹\n",
      "(링크 : https://n.news.naver.com/mnews/article/081/0003289240?sid=101)\n",
      "기사 제목 : '발암물질 논란' 스벅 서머캐리백, 음료 3잔으로 바꿔준다\n",
      "(링크 : https://n.news.naver.com/mnews/article/009/0004995414?sid=101)\n",
      "기사 제목 : 스타벅스, '서머 캐리백' 교환 시작…\"신속·성실 조치 취할 것\"\n",
      "(링크 : https://n.news.naver.com/mnews/article/421/0006235977?sid=101)\n",
      "기사 제목 : 스타벅스, 발암물질 검출 의혹 ‘서머 캐리백’ 교환해준다\n",
      "(링크 : https://n.news.naver.com/mnews/article/022/0003718175?sid=101)\n",
      "기사 제목 : 국내 휘발유 가격 하락세…2000원 미만 주유소 60% 넘어\n",
      "(링크 : https://n.news.naver.com/mnews/article/277/0005122128?sid=101)\n",
      "기사 제목 : 국내 휘발윳값 리터당 67.6원↓…3주째 하락세\n",
      "(링크 : https://n.news.naver.com/mnews/article/437/0000306805?sid=101)\n",
      "기사 제목 : 휘발유값 3주째 하락세라는데…우리 동네는 왜이래\n",
      "(링크 : https://n.news.naver.com/mnews/article/437/0000306828?sid=101)\n",
      "기사 제목 : 국내 휘발유 가격 3주째 하락세…이번 주에만 67.6원 내려\n",
      "(링크 : https://n.news.naver.com/mnews/article/018/0005275159?sid=101)\n",
      "기사 제목 : \"구매 대기 물량 51만대\"…기아, 올해 최대 실적 예고\n",
      "(링크 : https://n.news.naver.com/mnews/article/215/0001044441?sid=101)\n",
      "기사 제목 : 기아, '제값 받기' 통했다…2분기 매출·영업익 사상 최대(종합)\n",
      "(링크 : https://n.news.naver.com/mnews/article/119/0002623527?sid=101)\n",
      "기사 제목 : 삼성전자, 美텍사스주에 '20년간 250조원' 투자계획서 제출\n",
      "(링크 : https://n.news.naver.com/mnews/article/009/0004995272?sid=101)\n",
      "기사 제목 : 삼성전자 美 테일러 공장 착공 임박…尹·바이든·이재용 다시 만날까\n",
      "(링크 : https://n.news.naver.com/mnews/article/011/0004079374?sid=101)\n",
      "기사 제목 : 대우조선해양, 정상화 시동…선박 진수 재개·인력 총투입\n",
      "(링크 : https://n.news.naver.com/mnews/article/448/0000367093?sid=101)\n",
      "기사 제목 : 대우조선해양 옥포조선소 1도크, 5주 만에 재가동 시작\n",
      "(링크 : https://n.news.naver.com/mnews/article/018/0005275253?sid=101)\n",
      "기사 제목 : '1000원대 소고기' 여기 가면 팔아요…\"저녁에 실컷 드세요\"\n",
      "(링크 : https://n.news.naver.com/mnews/article/025/0003211556?sid=101)\n",
      "기사 제목 : 롯데마트, '할당관세 0%' 수입 소고기 27일까지 판매[기업]\n",
      "(링크 : https://n.news.naver.com/mnews/article/052/0001767457?sid=101)\n",
      "기사 제목 : 산은 \"대우조선 하청노조파업 장기화로 자금난땐 추가지원 불가\"\n",
      "(링크 : https://n.news.naver.com/mnews/article/214/0001210817?sid=101)\n",
      "기사 제목 : '최후통첩' 날린 산은…자금 조이면 대우조선 파산 불가피\n",
      "(링크 : https://n.news.naver.com/mnews/article/003/0011320258?sid=101)\n",
      "기사 제목 : SK온, 포드·에코프로비엠과 양극재 생산시설 공동투자\n",
      "(링크 : https://n.news.naver.com/mnews/article/448/0000366989?sid=101)\n",
      "기사 제목 : SK온, 포드·에코프로비엠과 양극재 생산시설 공동투자\n",
      "(링크 : https://n.news.naver.com/mnews/article/277/0005121702?sid=101)\n",
      "기사 제목 : 하나금융그룹, 상반기 순이익 1조7274억원…전년 대비 소폭 하락\n",
      "(링크 : https://n.news.naver.com/mnews/article/016/0002019453?sid=101)\n",
      "기사 제목 : 신한금융, 상반기 순익 2.7조…은행·카드 기여에 '사상최대'\n",
      "(링크 : https://n.news.naver.com/mnews/article/003/0011320212?sid=101)\n",
      "기사 제목 : 기재부 \"과세표준 1천200만원 넘는 모든 근로자 소득세 감소\"\n",
      "(링크 : https://n.news.naver.com/mnews/article/001/0013329081?sid=101)\n",
      "기사 제목 : \"연봉 올라도 세후로 보면 속상했는데\"...직장인들 세제개편에 '반가운 소식'\n",
      "(링크 : https://n.news.naver.com/mnews/article/003/0011320513?sid=101)\n",
      "기사 제목 : '깜짝 실적' 현대차, 왜 주가는 유독 부진?…\"호실적 이어진다\"\n",
      "(링크 : https://n.news.naver.com/mnews/article/008/0004774279?sid=101)\n",
      "기사 제목 : \"현대차 연간 이익 10조 전망\"…눈높이 올리는 증권업계\n",
      "(링크 : https://n.news.naver.com/mnews/article/215/0001044285?sid=101)\n",
      "기사 제목 : 기아 2분기 영업이익 2조2341억원… 역대 최대 실적\n",
      "(링크 : https://n.news.naver.com/mnews/article/022/0003717975?sid=101)\n",
      "기사 제목 : 기아 2분기 영업이익률…사상 첫 두 자릿수 달성\n",
      "(링크 : https://n.news.naver.com/mnews/article/015/0004727915?sid=101)\n",
      "기사 제목 : (영상)현대차 이어 기아도 ‘사상 최대’ 실적...영업익 최대 첫 2조원대\n",
      "(링크 : https://n.news.naver.com/mnews/article/018/0005274667?sid=101)\n",
      "기사 제목 : 현대차 이어 기아도 2분기 역대 최대실적…고환율에 할인 줄인 덕분\n",
      "(링크 : https://n.news.naver.com/mnews/article/082/0001166264?sid=101)\n",
      "기사 제목 : '국민간식' 은 옛말…어쩌다 배달 치킨 3만원 시대[뉴스7 취재후 Talk]\n",
      "(링크 : https://n.news.naver.com/mnews/article/448/0000367108?sid=101)\n",
      "기사 제목 : 치킨·피자 프랜차이즈도 '위기 경영'…하반기 돌파구 찾는다\n",
      "(링크 : https://n.news.naver.com/mnews/article/003/0011321808?sid=101)\n",
      "기사 제목 : 프랜차이즈 치킨 3만원 시대…소비자들 “냉동 사서 에어프라이에 돌려먹자”\n",
      "(링크 : https://n.news.naver.com/mnews/article/022/0003718139?sid=101)\n",
      "기사 제목 : \"프차 치킨 안먹는다\" 불매운동에 뜨는 이 제품\n",
      "(링크 : https://n.news.naver.com/mnews/article/008/0004774358?sid=101)\n",
      "기사 제목 : 가상화폐 비트코인 29,980,000원(-0.33%) 거래중\n",
      "(링크 : https://n.news.naver.com/mnews/article/215/0001044508?sid=101)\n",
      "기사 제목 : 드디어 바닥 짚었나…일주일 만에 10% 넘게 상승[비트코인 지금]\n",
      "(링크 : https://n.news.naver.com/mnews/article/277/0005121808?sid=101)\n",
      "기사 제목 : 비트코인, 상승세 유지...저가매수가 살렸네[코인뉴스]\n",
      "(링크 : https://n.news.naver.com/mnews/article/119/0002623578?sid=101)\n",
      "기사 제목 : 머스크 비트코인 매도에 테슬라 주주 웃고, 코인 투자자 울상\n",
      "(링크 : https://n.news.naver.com/mnews/article/366/0000829320?sid=101)\n",
      "기사 제목 : SK텔레콤·하나금융그룹, 총 4000억원대 지분교환…\"전략적 협력 강화\"\n",
      "(링크 : https://n.news.naver.com/mnews/article/015/0004727962?sid=101)\n",
      "기사 제목 : 하나금융-SKT, 4000억원대 규모 지분 교환\n",
      "(링크 : https://n.news.naver.com/mnews/article/366/0000829443?sid=101)\n",
      "기사 제목 : 삼성전자 “미국 250조원 투자? 최대치 상정 단순 시뮬레이션”\n",
      "(링크 : https://n.news.naver.com/mnews/article/081/0003289237?sid=101)\n",
      "기사 제목 : 삼성 \"美텍사스에 또 251조 규모 공장\"...주지사도 판사도 환호\n",
      "(링크 : https://n.news.naver.com/mnews/article/025/0003211576?sid=101)\n",
      "기사 제목 : 우리금융, 상반기 순익 1조7,614억원…분기·반기 모두 '역대 최대'\n",
      "(링크 : https://n.news.naver.com/mnews/article/215/0001044390?sid=101)\n",
      "기사 제목 : 2분기 순익 앞선 신한, KB와 리딩뱅크 혈투\n",
      "(링크 : https://n.news.naver.com/mnews/article/015/0004727914?sid=101)\n",
      "기사 제목 : 뉴욕증시, 스냅발 충격 속에 혼조세로 출발\n",
      "(링크 : https://n.news.naver.com/mnews/article/001/0013329434?sid=101)\n",
      "기사 제목 : 스냅 실적 부진에 하락…나스닥 1.87%↓ [뉴욕증시 브리핑]\n",
      "(링크 : https://n.news.naver.com/mnews/article/015/0004728057?sid=101)\n",
      "기사 제목 : 국내 휘발유 가격 3주 연속 하락세…리터당 2013원대\n",
      "(링크 : https://n.news.naver.com/mnews/article/366/0000829472?sid=101)\n",
      "기사 제목 : 전국 기름값 3주 연속 하락…휘발유 전주보다 67.6원 ↓\n",
      "(링크 : https://n.news.naver.com/mnews/article/437/0000306808?sid=101)\n",
      "기사 제목 : 소득세‧법인세 다 내린다... 정부, '2022년 세제 개편안' 확정\n",
      "(링크 : https://n.news.naver.com/mnews/article/310/0000098689?sid=101)\n",
      "기사 제목 : 13조 감세로 ‘성장’ 뒷받침… 尹 “서민·중산층·기업 모두 혜택”\n",
      "(링크 : https://n.news.naver.com/mnews/article/021/0002523250?sid=101)\n",
      "기사 제목 : SK온, 에코프로비엠·포드와 美 양극재 생산시설 공동투자 추진… 현지 공급망 강화\n",
      "(링크 : https://n.news.naver.com/mnews/article/020/0003441615?sid=101)\n",
      "기사 제목 : LG에너지솔루션·SK온, 포드와 협력 강화…북미시장 공략\n",
      "(링크 : https://n.news.naver.com/mnews/article/082/0001166224?sid=101)\n",
      "기사 제목 : 노무라, 현대차 목표가 29만원으로 상향…\"내년까지 높은 이익률 이어갈 것\"\n",
      "(링크 : https://n.news.naver.com/mnews/article/011/0004079180?sid=101)\n",
      "기사 제목 : 역대 최대 실적 현대차, 하반기에도 좋다…목표가 상향[종목현미경]\n",
      "(링크 : https://n.news.naver.com/mnews/article/421/0006235746?sid=101)\n",
      "기사 제목 : 법인·소득·종부세 ‘3대 세금’ 손질 13조 감세...尹정부 강조 ‘재정건전성’엔 역행\n",
      "(링크 : https://n.news.naver.com/mnews/article/016/0002019282?sid=101)\n",
      "기사 제목 : 尹 세제개편, 서민 보다 부자 세금 더 깎아준다\n",
      "(링크 : https://n.news.naver.com/mnews/article/016/0002019600?sid=101)\n"
     ]
    }
   ],
   "source": [
    "for i in range(5):\n",
    "    url = f'https://news.naver.com/main/main.naver?mode=LSD&mid=shm&sid1=101#&date=%2000:00:00&page={i}'\n",
    "    res = requests.get(url, headers = headers)\n",
    "    res.raise_for_status()\n",
    "    soup = BeautifulSoup(res.text, 'lxml') \n",
    "    a2 = soup.findAll('a', attrs = {'class' : 'cluster_text_headline nclicks(cls_eco.clsart)'})\n",
    "    \n",
    "    \n",
    "    for a in a2:\n",
    "        title = a.get_text().strip()\n",
    "        link = a['href']\n",
    "        print(f'기사 제목 : {title}') \n",
    "        print(f'(링크 : {link})')\n",
    "        \n",
    "        a2"
   ]
  },
  {
   "cell_type": "code",
   "execution_count": 147,
   "id": "6db2f683",
   "metadata": {},
   "outputs": [
    {
     "ename": "IndentationError",
     "evalue": "expected an indented block (3766355743.py, line 6)",
     "output_type": "error",
     "traceback": [
      "\u001b[1;36m  Input \u001b[1;32mIn [147]\u001b[1;36m\u001b[0m\n\u001b[1;33m    def main():\u001b[0m\n\u001b[1;37m    ^\u001b[0m\n\u001b[1;31mIndentationError\u001b[0m\u001b[1;31m:\u001b[0m expected an indented block\n"
     ]
    }
   ],
   "source": [
    "#원하는 단어를 포함한 (소득,신용..) 기사들만 추리고 싶었지만 못하겠습니다... 인터넷 서치를 통해 알아보겠습니다...\n",
    "#지금은 일단 Ctrl F 를 사용하고 있습니다 ...^^\n"
   ]
  },
  {
   "cell_type": "code",
   "execution_count": null,
   "id": "cff9a8d3",
   "metadata": {},
   "outputs": [],
   "source": []
  }
 ],
 "metadata": {
  "kernelspec": {
   "display_name": "Python 3 (ipykernel)",
   "language": "python",
   "name": "python3"
  },
  "language_info": {
   "codemirror_mode": {
    "name": "ipython",
    "version": 3
   },
   "file_extension": ".py",
   "mimetype": "text/x-python",
   "name": "python",
   "nbconvert_exporter": "python",
   "pygments_lexer": "ipython3",
   "version": "3.9.12"
  }
 },
 "nbformat": 4,
 "nbformat_minor": 5
}

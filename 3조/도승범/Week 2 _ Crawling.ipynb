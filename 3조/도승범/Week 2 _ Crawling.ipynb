{
 "cells": [
  {
   "cell_type": "code",
   "execution_count": 29,
   "id": "0b836d65",
   "metadata": {},
   "outputs": [],
   "source": [
    "import numpy as np\n",
    "import requests\n",
    "from bs4 import BeautifulSoup"
   ]
  },
  {
   "cell_type": "code",
   "execution_count": 27,
   "id": "3b80efb2",
   "metadata": {},
   "outputs": [
    {
     "name": "stdout",
     "output_type": "stream",
     "text": [
      "<a class=\"NPI=a:title,r:2,i:1704\" href=\"/news/trendReportView.naver?artcl_seq=1704&amp;artcl_tp_cd=01&amp;page=\">[7월2주 전국] 전국-0.07%, 서울-0.08%, 수도권-0.10%</a>\n",
      "<a class=\"NPI=a:title,r:3,i:1703\" href=\"/news/trendReportView.naver?artcl_seq=1703&amp;artcl_tp_cd=01&amp;page=\">[7월1주 전국] 전국 0.01%, 서울 0.05%, 수도권-0.01%</a>\n",
      "<a class=\"NPI=a:title,r:4,i:1702\" href=\"/news/trendReportView.naver?artcl_seq=1702&amp;artcl_tp_cd=01&amp;page=\">[6월4주 전국] 전국 0.07%, 서울-0.02%, 수도권-0.01%</a>\n",
      "<a class=\"NPI=a:title,r:5,i:1701\" href=\"/news/trendReportView.naver?artcl_seq=1701&amp;artcl_tp_cd=01&amp;page=\">[6월3주 전국] 전국 0.00%, 서울 0.09%, 수도권 0.01%</a>\n",
      "<a class=\"NPI=a:title,r:6,i:1700\" href=\"/news/trendReportView.naver?artcl_seq=1700&amp;artcl_tp_cd=01&amp;page=\">[6월2주 전국] 전국 0.01%, 서울 0.06%, 수도권 0.02%</a>\n",
      "<a class=\"NPI=a:title,r:7,i:1699\" href=\"/news/trendReportView.naver?artcl_seq=1699&amp;artcl_tp_cd=01&amp;page=\">[6월1주 전국] 전국 0.04%, 서울 0.05%, 수도권 0.02%</a>\n",
      "<a class=\"NPI=a:title,r:8,i:1698\" href=\"/news/trendReportView.naver?artcl_seq=1698&amp;artcl_tp_cd=01&amp;page=\">[5월4주 전국]전국 0.00%, 서울 -0.03%, 수도권 0.00%</a>\n",
      "<a class=\"NPI=a:title,r:9,i:1697\" href=\"/news/trendReportView.naver?artcl_seq=1697&amp;artcl_tp_cd=01&amp;page=\">[5월3주 전국] 전국 0.01%, 서울 0.07%, 수도권 0.03%</a>\n",
      "<a class=\"NPI=a:title,r:10,i:1696\" href=\"/news/trendReportView.naver?artcl_seq=1696&amp;artcl_tp_cd=01&amp;page=\">[5월2주 전국] 전국 0.02%, 서울 0.00%, 수도권 0.02%</a>\n",
      "<a class=\"NPI=a:title,r:11,i:1695\" href=\"/news/trendReportView.naver?artcl_seq=1695&amp;artcl_tp_cd=01&amp;page=\">[5월1주 전국] 전국 0.03%, 서울 0.06%, 수도권 0.02%</a>\n",
      "<a class=\"NPI=a:title,r:12,i:1694\" href=\"/news/trendReportView.naver?artcl_seq=1694&amp;artcl_tp_cd=01&amp;page=\">[4월4주 전국] 전국 0.06%, 서울 0.07%, 수도권 0.05%</a>\n",
      "<a class=\"NPI=a:title,r:13,i:1693\" href=\"/news/trendReportView.naver?artcl_seq=1693&amp;artcl_tp_cd=01&amp;page=\">[4월3주 전국] 전국 0.06%, 서울 0.14%, 수도권 0.08%</a>\n",
      "<a class=\"NPI=a:title,r:14,i:1692\" href=\"/news/trendReportView.naver?artcl_seq=1692&amp;artcl_tp_cd=01&amp;page=\">[4월2주 전국] 전국 0.11%, 서울 0.08%, 수도권 0.11%</a>\n",
      "<a class=\"NPI=a:title,r:15,i:1691\" href=\"/news/trendReportView.naver?artcl_seq=1691&amp;artcl_tp_cd=01&amp;page=\">[4월1주 전국] 전국 0.06%, 서울 0.10%, 수도권 0.07%</a>\n",
      "<a class=\"NPI=a:title,r:16,i:1690\" href=\"/news/trendReportView.naver?artcl_seq=1690&amp;artcl_tp_cd=01&amp;page=\">[3월5주 전국] 전국 0.03%, 서울 0.01%, 수도권 0.02%</a>\n",
      "<a class=\"NPI=a:title,r:17,i:1689\" href=\"/news/trendReportView.naver?artcl_seq=1689&amp;artcl_tp_cd=01&amp;page=\">[3월4주 전국]전국 0.02%, 서울 -0.03%, 수도권 0.01%</a>\n",
      "<a class=\"NPI=a:title,r:18,i:1688\" href=\"/news/trendReportView.naver?artcl_seq=1688&amp;artcl_tp_cd=01&amp;page=\">[3월3주 전국] 전국 0.04%, 서울 0.06%, 수도권 0.04%</a>\n",
      "<a class=\"NPI=a:title,r:19,i:1687\" href=\"/news/trendReportView.naver?artcl_seq=1687&amp;artcl_tp_cd=01&amp;page=\">[3월2주 전국] 전국 0.01%, 서울 0.04%, 수도권 0.01%</a>\n"
     ]
    }
   ],
   "source": [
    "url = 'https://land.naver.com/news/trendReport.naver'\n",
    "\n",
    "response = requests.get(url)\n",
    "\n",
    "titles=[]\n",
    "\n",
    "if response.status_code == 200:\n",
    "    html = response.text\n",
    "    soup = BeautifulSoup(html, 'html.parser')\n",
    "    for i in np.arange(2, 20):\n",
    "        title = soup.select_one('#content > div.section_tbl.NE\\=a\\:lst > table > tbody > tr:nth-child({}) > td.txt > a'.format(i))\n",
    "        print(title)\n",
    "        titles.append(title.get_text())\n",
    "else : \n",
    "    print(response.status_code)\n"
   ]
  },
  {
   "cell_type": "code",
   "execution_count": 28,
   "id": "7b496d01",
   "metadata": {
    "scrolled": true
   },
   "outputs": [
    {
     "name": "stdout",
     "output_type": "stream",
     "text": [
      "['[7월2주 전국] 전국-0.07%, 서울-0.08%, 수도권-0.10%', '[7월1주 전국] 전국 0.01%, 서울 0.05%, 수도권-0.01%', '[6월4주 전국] 전국 0.07%, 서울-0.02%, 수도권-0.01%', '[6월3주 전국] 전국 0.00%, 서울 0.09%, 수도권 0.01%', '[6월2주 전국] 전국 0.01%, 서울 0.06%, 수도권 0.02%', '[6월1주 전국] 전국 0.04%, 서울 0.05%, 수도권 0.02%', '[5월4주 전국]전국 0.00%, 서울 -0.03%, 수도권 0.00%', '[5월3주 전국] 전국 0.01%, 서울 0.07%, 수도권 0.03%', '[5월2주 전국] 전국 0.02%, 서울 0.00%, 수도권 0.02%', '[5월1주 전국] 전국 0.03%, 서울 0.06%, 수도권 0.02%', '[4월4주 전국] 전국 0.06%, 서울 0.07%, 수도권 0.05%', '[4월3주 전국] 전국 0.06%, 서울 0.14%, 수도권 0.08%', '[4월2주 전국] 전국 0.11%, 서울 0.08%, 수도권 0.11%', '[4월1주 전국] 전국 0.06%, 서울 0.10%, 수도권 0.07%', '[3월5주 전국] 전국 0.03%, 서울 0.01%, 수도권 0.02%', '[3월4주 전국]전국 0.02%, 서울 -0.03%, 수도권 0.01%', '[3월3주 전국] 전국 0.04%, 서울 0.06%, 수도권 0.04%', '[3월2주 전국] 전국 0.01%, 서울 0.04%, 수도권 0.01%']\n"
     ]
    }
   ],
   "source": [
    "print(titles)"
   ]
  },
  {
   "cell_type": "code",
   "execution_count": 38,
   "id": "f69e45aa",
   "metadata": {},
   "outputs": [
    {
     "data": {
      "text/plain": [
       "18"
      ]
     },
     "execution_count": 38,
     "metadata": {},
     "output_type": "execute_result"
    }
   ],
   "source": [
    "len(titles)"
   ]
  },
  {
   "cell_type": "code",
   "execution_count": 42,
   "id": "6e6337a2",
   "metadata": {},
   "outputs": [
    {
     "name": "stdout",
     "output_type": "stream",
     "text": [
      "7월2주 전국-0.07% 서울-0.08%, 수도권-0.10%\n"
     ]
    }
   ],
   "source": [
    "print(titles[0][1:5], titles[0][10:18], titles[0][20:29], titles[0][30:39])\n"
   ]
  },
  {
   "cell_type": "code",
   "execution_count": null,
   "id": "2afca3e7",
   "metadata": {},
   "outputs": [],
   "source": []
  },
  {
   "cell_type": "code",
   "execution_count": 70,
   "id": "33c4ceeb",
   "metadata": {},
   "outputs": [
    {
     "name": "stdout",
     "output_type": "stream",
     "text": [
      "Empty DataFrame\n",
      "Columns: []\n",
      "Index: []\n"
     ]
    }
   ],
   "source": [
    "import pandas as pd\n",
    "\n",
    "data = pd.DataFrame()\n",
    "print(data)"
   ]
  },
  {
   "cell_type": "code",
   "execution_count": 52,
   "id": "c2f262ae",
   "metadata": {},
   "outputs": [
    {
     "name": "stdout",
     "output_type": "stream",
     "text": [
      "['7월2주', '7월1주', '6월4주', '6월3주', '6월2주', '6월1주', '5월4주', '5월3주', '5월2주', '5월1주', '4월4주', '4월3주', '4월2주', '4월1주', '3월5주', '3월4주', '3월3주', '3월2주']\n"
     ]
    }
   ],
   "source": [
    "time = []\n",
    "for i in np.arange(0, 18):\n",
    "    time.append(titles[i][1:5])\n",
    "print(time)"
   ]
  },
  {
   "cell_type": "code",
   "execution_count": 65,
   "id": "06c7acc8",
   "metadata": {},
   "outputs": [
    {
     "name": "stdout",
     "output_type": "stream",
     "text": [
      "['-0.07', ' 0.01', ' 0.07', ' 0.00', ' 0.01', ' 0.04', '0.00%', ' 0.01', ' 0.02', ' 0.03', ' 0.06', ' 0.06', ' 0.11', ' 0.06', ' 0.03', '0.02%', ' 0.04', ' 0.01']\n"
     ]
    }
   ],
   "source": [
    "national = []\n",
    "for i in np.arange(0, 18):\n",
    "    national.append(titles[i][12:17])\n",
    "print(national)"
   ]
  },
  {
   "cell_type": "code",
   "execution_count": 67,
   "id": "91e5e4a2",
   "metadata": {},
   "outputs": [
    {
     "name": "stdout",
     "output_type": "stream",
     "text": [
      "['-0.08%,', ' 0.05%,', '-0.02%,', ' 0.09%,', ' 0.06%,', ' 0.05%,', '-0.03%,', ' 0.07%,', ' 0.00%,', ' 0.06%,', ' 0.07%,', ' 0.14%,', ' 0.08%,', ' 0.10%,', ' 0.01%,', '-0.03%,', ' 0.06%,', ' 0.04%,']\n"
     ]
    }
   ],
   "source": [
    "seoul = []\n",
    "for i in np.arange(0, 18):\n",
    "    seoul.append(titles[i][22:29])\n",
    "print(seoul)"
   ]
  },
  {
   "cell_type": "code",
   "execution_count": 69,
   "id": "a67dcadf",
   "metadata": {},
   "outputs": [
    {
     "name": "stdout",
     "output_type": "stream",
     "text": [
      "['-0.10%', '-0.01%', '-0.01%', ' 0.01%', ' 0.02%', ' 0.02%', ' 0.00%', ' 0.03%', ' 0.02%', ' 0.02%', ' 0.05%', ' 0.08%', ' 0.11%', ' 0.07%', ' 0.02%', ' 0.01%', ' 0.04%', ' 0.01%']\n"
     ]
    }
   ],
   "source": [
    "sudo = []\n",
    "for i in np.arange(0, 18):\n",
    "    sudo.append(titles[i][33:39])\n",
    "print(sudo)"
   ]
  },
  {
   "cell_type": "code",
   "execution_count": 77,
   "id": "5f78cd2f",
   "metadata": {},
   "outputs": [],
   "source": [
    "df = {'time':time, 'natinal':national, 'seoul':seoul, 'sudo':sudo}"
   ]
  },
  {
   "cell_type": "code",
   "execution_count": 78,
   "id": "79600bf5",
   "metadata": {},
   "outputs": [],
   "source": [
    "data = pd.DataFrame(df)"
   ]
  },
  {
   "cell_type": "code",
   "execution_count": 79,
   "id": "ad447db6",
   "metadata": {},
   "outputs": [
    {
     "data": {
      "text/html": [
       "<div>\n",
       "<style scoped>\n",
       "    .dataframe tbody tr th:only-of-type {\n",
       "        vertical-align: middle;\n",
       "    }\n",
       "\n",
       "    .dataframe tbody tr th {\n",
       "        vertical-align: top;\n",
       "    }\n",
       "\n",
       "    .dataframe thead th {\n",
       "        text-align: right;\n",
       "    }\n",
       "</style>\n",
       "<table border=\"1\" class=\"dataframe\">\n",
       "  <thead>\n",
       "    <tr style=\"text-align: right;\">\n",
       "      <th></th>\n",
       "      <th>time</th>\n",
       "      <th>natinal</th>\n",
       "      <th>seoul</th>\n",
       "      <th>sudo</th>\n",
       "    </tr>\n",
       "  </thead>\n",
       "  <tbody>\n",
       "    <tr>\n",
       "      <th>0</th>\n",
       "      <td>7월2주</td>\n",
       "      <td>-0.07</td>\n",
       "      <td>-0.08%,</td>\n",
       "      <td>-0.10%</td>\n",
       "    </tr>\n",
       "    <tr>\n",
       "      <th>1</th>\n",
       "      <td>7월1주</td>\n",
       "      <td>0.01</td>\n",
       "      <td>0.05%,</td>\n",
       "      <td>-0.01%</td>\n",
       "    </tr>\n",
       "    <tr>\n",
       "      <th>2</th>\n",
       "      <td>6월4주</td>\n",
       "      <td>0.07</td>\n",
       "      <td>-0.02%,</td>\n",
       "      <td>-0.01%</td>\n",
       "    </tr>\n",
       "    <tr>\n",
       "      <th>3</th>\n",
       "      <td>6월3주</td>\n",
       "      <td>0.00</td>\n",
       "      <td>0.09%,</td>\n",
       "      <td>0.01%</td>\n",
       "    </tr>\n",
       "    <tr>\n",
       "      <th>4</th>\n",
       "      <td>6월2주</td>\n",
       "      <td>0.01</td>\n",
       "      <td>0.06%,</td>\n",
       "      <td>0.02%</td>\n",
       "    </tr>\n",
       "    <tr>\n",
       "      <th>5</th>\n",
       "      <td>6월1주</td>\n",
       "      <td>0.04</td>\n",
       "      <td>0.05%,</td>\n",
       "      <td>0.02%</td>\n",
       "    </tr>\n",
       "    <tr>\n",
       "      <th>6</th>\n",
       "      <td>5월4주</td>\n",
       "      <td>0.00%</td>\n",
       "      <td>-0.03%,</td>\n",
       "      <td>0.00%</td>\n",
       "    </tr>\n",
       "    <tr>\n",
       "      <th>7</th>\n",
       "      <td>5월3주</td>\n",
       "      <td>0.01</td>\n",
       "      <td>0.07%,</td>\n",
       "      <td>0.03%</td>\n",
       "    </tr>\n",
       "    <tr>\n",
       "      <th>8</th>\n",
       "      <td>5월2주</td>\n",
       "      <td>0.02</td>\n",
       "      <td>0.00%,</td>\n",
       "      <td>0.02%</td>\n",
       "    </tr>\n",
       "    <tr>\n",
       "      <th>9</th>\n",
       "      <td>5월1주</td>\n",
       "      <td>0.03</td>\n",
       "      <td>0.06%,</td>\n",
       "      <td>0.02%</td>\n",
       "    </tr>\n",
       "    <tr>\n",
       "      <th>10</th>\n",
       "      <td>4월4주</td>\n",
       "      <td>0.06</td>\n",
       "      <td>0.07%,</td>\n",
       "      <td>0.05%</td>\n",
       "    </tr>\n",
       "    <tr>\n",
       "      <th>11</th>\n",
       "      <td>4월3주</td>\n",
       "      <td>0.06</td>\n",
       "      <td>0.14%,</td>\n",
       "      <td>0.08%</td>\n",
       "    </tr>\n",
       "    <tr>\n",
       "      <th>12</th>\n",
       "      <td>4월2주</td>\n",
       "      <td>0.11</td>\n",
       "      <td>0.08%,</td>\n",
       "      <td>0.11%</td>\n",
       "    </tr>\n",
       "    <tr>\n",
       "      <th>13</th>\n",
       "      <td>4월1주</td>\n",
       "      <td>0.06</td>\n",
       "      <td>0.10%,</td>\n",
       "      <td>0.07%</td>\n",
       "    </tr>\n",
       "    <tr>\n",
       "      <th>14</th>\n",
       "      <td>3월5주</td>\n",
       "      <td>0.03</td>\n",
       "      <td>0.01%,</td>\n",
       "      <td>0.02%</td>\n",
       "    </tr>\n",
       "    <tr>\n",
       "      <th>15</th>\n",
       "      <td>3월4주</td>\n",
       "      <td>0.02%</td>\n",
       "      <td>-0.03%,</td>\n",
       "      <td>0.01%</td>\n",
       "    </tr>\n",
       "    <tr>\n",
       "      <th>16</th>\n",
       "      <td>3월3주</td>\n",
       "      <td>0.04</td>\n",
       "      <td>0.06%,</td>\n",
       "      <td>0.04%</td>\n",
       "    </tr>\n",
       "    <tr>\n",
       "      <th>17</th>\n",
       "      <td>3월2주</td>\n",
       "      <td>0.01</td>\n",
       "      <td>0.04%,</td>\n",
       "      <td>0.01%</td>\n",
       "    </tr>\n",
       "  </tbody>\n",
       "</table>\n",
       "</div>"
      ],
      "text/plain": [
       "    time natinal    seoul    sudo\n",
       "0   7월2주   -0.07  -0.08%,  -0.10%\n",
       "1   7월1주    0.01   0.05%,  -0.01%\n",
       "2   6월4주    0.07  -0.02%,  -0.01%\n",
       "3   6월3주    0.00   0.09%,   0.01%\n",
       "4   6월2주    0.01   0.06%,   0.02%\n",
       "5   6월1주    0.04   0.05%,   0.02%\n",
       "6   5월4주   0.00%  -0.03%,   0.00%\n",
       "7   5월3주    0.01   0.07%,   0.03%\n",
       "8   5월2주    0.02   0.00%,   0.02%\n",
       "9   5월1주    0.03   0.06%,   0.02%\n",
       "10  4월4주    0.06   0.07%,   0.05%\n",
       "11  4월3주    0.06   0.14%,   0.08%\n",
       "12  4월2주    0.11   0.08%,   0.11%\n",
       "13  4월1주    0.06   0.10%,   0.07%\n",
       "14  3월5주    0.03   0.01%,   0.02%\n",
       "15  3월4주   0.02%  -0.03%,   0.01%\n",
       "16  3월3주    0.04   0.06%,   0.04%\n",
       "17  3월2주    0.01   0.04%,   0.01%"
      ]
     },
     "execution_count": 79,
     "metadata": {},
     "output_type": "execute_result"
    }
   ],
   "source": [
    "data"
   ]
  }
 ],
 "metadata": {
  "kernelspec": {
   "display_name": "Python 3",
   "language": "python",
   "name": "python3"
  },
  "language_info": {
   "codemirror_mode": {
    "name": "ipython",
    "version": 3
   },
   "file_extension": ".py",
   "mimetype": "text/x-python",
   "name": "python",
   "nbconvert_exporter": "python",
   "pygments_lexer": "ipython3",
   "version": "3.8.8"
  },
  "toc": {
   "base_numbering": 1,
   "nav_menu": {},
   "number_sections": true,
   "sideBar": true,
   "skip_h1_title": false,
   "title_cell": "Table of Contents",
   "title_sidebar": "Contents",
   "toc_cell": false,
   "toc_position": {},
   "toc_section_display": true,
   "toc_window_display": false
  }
 },
 "nbformat": 4,
 "nbformat_minor": 5
}

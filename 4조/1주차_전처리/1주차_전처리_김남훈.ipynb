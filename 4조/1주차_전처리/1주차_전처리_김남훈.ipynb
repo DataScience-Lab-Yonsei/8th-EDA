{
 "cells": [
  {
   "cell_type": "markdown",
   "id": "b84626bb",
   "metadata": {},
   "source": [
    "# EDA 데이터 전처리 연습"
   ]
  },
  {
   "cell_type": "markdown",
   "id": "9cee72ae",
   "metadata": {},
   "source": [
    "## 1. 데이터 불러오기"
   ]
  },
  {
   "cell_type": "code",
   "execution_count": 1,
   "id": "dabffc42",
   "metadata": {},
   "outputs": [],
   "source": [
    "import pandas as pd\n",
    "import numpy as np\n",
    "import matplotlib.pyplot as plt"
   ]
  },
  {
   "cell_type": "code",
   "execution_count": 2,
   "id": "1476c433",
   "metadata": {
    "scrolled": false
   },
   "outputs": [
    {
     "name": "stdout",
     "output_type": "stream",
     "text": [
      "      video_id                                             title  \\\n",
      "0  uq5LClQN3cE                                       안녕하세요 보겸입니다   \n",
      "1  I-ZbZCHsHD0                                부락토스의 계획 [총몇명 프리퀄]   \n",
      "2  9d7jNUjBoss                                   평생 반성하면서 살겠습니다.   \n",
      "3  3pI_L3-sMVg                              안녕하세요 꽈뚜룹입니다.   \n",
      "4  zrsBjYukE8s  박진영 (J.Y. Park) When We Disco (Duet with 선미) M/V   \n",
      "\n",
      "            publishedAt                 channelId       channelTitle  \\\n",
      "0  2020-08-09T09:32:48Z  UCu9BCtGIEr73LXZsKmoujKw              보겸 BK   \n",
      "1  2020-08-12T09:00:08Z  UCRuSxVu4iqTK5kCh90ntAgA                총몇명   \n",
      "2  2020-08-10T09:54:13Z  UCMVC92EOs9yDJG5JS-CMesQ        양팡 YangPang   \n",
      "3  2020-08-11T15:00:58Z  UCkQCwnkQfgSuPTTnw_Y7v7w      꽈뚜룹 Quaddurup   \n",
      "4  2020-08-11T09:00:13Z  UCaO6TYtlC8U5ttz62hTrZgg  JYP Entertainment   \n",
      "\n",
      "   categoryId         trending_date  \\\n",
      "0          24  2020-08-12T00:00:00Z   \n",
      "1           1  2020-08-12T00:00:00Z   \n",
      "2          22  2020-08-12T00:00:00Z   \n",
      "3          24  2020-08-12T00:00:00Z   \n",
      "4          10  2020-08-12T00:00:00Z   \n",
      "\n",
      "                                                tags  view_count   likes  \\\n",
      "0                                          보겸|bokyem     5947503   53326   \n",
      "1                총몇명|재밌는 만화|부락토스|루시퍼|총몇명 프리퀄|총몇명 스토리      963384   28244   \n",
      "2  양팡|양팡유튜브|팡튜브|가족시트콤|양팡가족|양팡가족시트콤|양팡언니|현실남매|현실자매...     2950885   17974   \n",
      "3  꽈뚜룹|한국여행기|quaddurup|뚜룹이|korea|southkorea|vlog|...     1743374   36893   \n",
      "4  JYP Entertainment|JYP|J.Y.Park|JYPark|박진영|선미|S...     3433885  353337   \n",
      "\n",
      "   dislikes  comment_count                                  thumbnail_link  \\\n",
      "0    105756         139946  https://i.ytimg.com/vi/uq5LClQN3cE/default.jpg   \n",
      "1       494           3339  https://i.ytimg.com/vi/I-ZbZCHsHD0/default.jpg   \n",
      "2     68898          50688  https://i.ytimg.com/vi/9d7jNUjBoss/default.jpg   \n",
      "3      1798           8751  https://i.ytimg.com/vi/3pI_L3-sMVg/default.jpg   \n",
      "4      9763          23405  https://i.ytimg.com/vi/zrsBjYukE8s/default.jpg   \n",
      "\n",
      "   comments_disabled  ratings_disabled  \\\n",
      "0              False             False   \n",
      "1              False             False   \n",
      "2              False             False   \n",
      "3              False             False   \n",
      "4              False             False   \n",
      "\n",
      "                                         description  \n",
      "0                                                NaN  \n",
      "1  오늘도 정말 감사드립니다!!총몇명 스튜디오 - 총몇명, 십제곱, 5G민, MOVE혁...  \n",
      "2                                                NaN  \n",
      "3                앞으로 좀 더 깔끔한 영상제작 약속 드리겠습니다.늘 감사드립니다  \n",
      "4  MelOn http://kko.to/TWyXd7zYjSpotify https://s...   \n",
      "\n",
      "\n",
      "##########################################\n",
      "\n",
      "\n",
      "\n",
      "                    kind                         etag  id     snippet.title  \\\n",
      "0  youtube#videoCategory  IfWa37JGcqZs-jZeAyFGkbeh6bc   1  Film & Animation   \n",
      "1  youtube#videoCategory  5XGylIs7zkjHh5940dsT5862m1Y   2  Autos & Vehicles   \n",
      "2  youtube#videoCategory  HCjFMARbBeWjpm6PDfReCOMOZGA  10             Music   \n",
      "3  youtube#videoCategory  ra8H7xyAfmE2FewsDabE3TUSq10  15    Pets & Animals   \n",
      "4  youtube#videoCategory  7mqChSJogdF3hSIL-88BfDE-W8M  17            Sports   \n",
      "\n",
      "   snippet.assignable         snippet.channelId  \n",
      "0                True  UCBR8-60-B28hp2BmDPdntcQ  \n",
      "1                True  UCBR8-60-B28hp2BmDPdntcQ  \n",
      "2                True  UCBR8-60-B28hp2BmDPdntcQ  \n",
      "3                True  UCBR8-60-B28hp2BmDPdntcQ  \n",
      "4                True  UCBR8-60-B28hp2BmDPdntcQ  \n"
     ]
    }
   ],
   "source": [
    "df = pd.read_csv('/Users/namhunkim/Library/CloudStorage/OneDrive-연세대학교(YonseiUniversity)/DSL/EDA/data/전처리Trial/KR_youtube_trending_data.csv')\n",
    "cat = pd.read_csv('/Users/namhunkim/Library/CloudStorage/OneDrive-연세대학교(YonseiUniversity)/DSL/EDA/data/전처리Trial/category_name.csv')\n",
    "\n",
    "print(df.head(5), '\\n\\n\\n##########################################\\n\\n\\n')\n",
    "print(cat.head(5))"
   ]
  },
  {
   "cell_type": "code",
   "execution_count": null,
   "id": "03bbefca",
   "metadata": {},
   "outputs": [],
   "source": []
  },
  {
   "cell_type": "markdown",
   "id": "94a36ab4",
   "metadata": {},
   "source": [
    "## 2. df 탐구"
   ]
  },
  {
   "cell_type": "markdown",
   "id": "9b388295",
   "metadata": {},
   "source": [
    "### index, columns와 dtypes 확인"
   ]
  },
  {
   "cell_type": "code",
   "execution_count": 3,
   "id": "efbbac80",
   "metadata": {},
   "outputs": [
    {
     "name": "stdout",
     "output_type": "stream",
     "text": [
      "(137554, 16)\n",
      "(31, 6)\n"
     ]
    }
   ],
   "source": [
    "# index, columns\n",
    "\n",
    "print(df.shape)\n",
    "print(cat.shape)"
   ]
  },
  {
   "cell_type": "code",
   "execution_count": 4,
   "id": "f2353d44",
   "metadata": {},
   "outputs": [
    {
     "name": "stdout",
     "output_type": "stream",
     "text": [
      "columns of df : 16\n",
      "rows of df : 137554 \n",
      "\n",
      "columns of cat : 6\n",
      "rows of cat : 31\n"
     ]
    }
   ],
   "source": [
    "print('columns of df :', len(df.columns))\n",
    "print('rows of df :', len(df.index),'\\n')\n",
    "\n",
    "print('columns of cat :', len(cat.columns))\n",
    "print('rows of cat :', len(cat.index))"
   ]
  },
  {
   "cell_type": "code",
   "execution_count": 5,
   "id": "908f0c61",
   "metadata": {
    "scrolled": true
   },
   "outputs": [
    {
     "name": "stdout",
     "output_type": "stream",
     "text": [
      "Index(['video_id', 'title', 'publishedAt', 'channelId', 'channelTitle',\n",
      "       'categoryId', 'trending_date', 'tags', 'view_count', 'likes',\n",
      "       'dislikes', 'comment_count', 'thumbnail_link', 'comments_disabled',\n",
      "       'ratings_disabled', 'description'],\n",
      "      dtype='object') \n",
      "\n",
      "Index(['kind', 'etag', 'id', 'snippet.title', 'snippet.assignable',\n",
      "       'snippet.channelId'],\n",
      "      dtype='object')\n"
     ]
    }
   ],
   "source": [
    "print(df.columns, '\\n')\n",
    "print(cat.columns)"
   ]
  },
  {
   "cell_type": "code",
   "execution_count": 6,
   "id": "f786d485",
   "metadata": {
    "scrolled": true
   },
   "outputs": [
    {
     "name": "stdout",
     "output_type": "stream",
     "text": [
      "<class 'pandas.core.frame.DataFrame'>\n",
      "RangeIndex: 137554 entries, 0 to 137553\n",
      "Data columns (total 16 columns):\n",
      " #   Column             Non-Null Count   Dtype \n",
      "---  ------             --------------   ----- \n",
      " 0   video_id           137554 non-null  object\n",
      " 1   title              137554 non-null  object\n",
      " 2   publishedAt        137554 non-null  object\n",
      " 3   channelId          137554 non-null  object\n",
      " 4   channelTitle       137554 non-null  object\n",
      " 5   categoryId         137554 non-null  int64 \n",
      " 6   trending_date      137554 non-null  object\n",
      " 7   tags               137554 non-null  object\n",
      " 8   view_count         137554 non-null  int64 \n",
      " 9   likes              137554 non-null  int64 \n",
      " 10  dislikes           137554 non-null  int64 \n",
      " 11  comment_count      137554 non-null  int64 \n",
      " 12  thumbnail_link     137554 non-null  object\n",
      " 13  comments_disabled  137554 non-null  bool  \n",
      " 14  ratings_disabled   137554 non-null  bool  \n",
      " 15  description        134011 non-null  object\n",
      "dtypes: bool(2), int64(5), object(9)\n",
      "memory usage: 15.0+ MB\n"
     ]
    }
   ],
   "source": [
    "df.info()"
   ]
  },
  {
   "cell_type": "code",
   "execution_count": 7,
   "id": "5524880d",
   "metadata": {},
   "outputs": [
    {
     "data": {
      "text/plain": [
       "video_id             object\n",
       "title                object\n",
       "publishedAt          object\n",
       "channelId            object\n",
       "channelTitle         object\n",
       "categoryId            int64\n",
       "trending_date        object\n",
       "tags                 object\n",
       "view_count            int64\n",
       "likes                 int64\n",
       "dislikes              int64\n",
       "comment_count         int64\n",
       "thumbnail_link       object\n",
       "comments_disabled      bool\n",
       "ratings_disabled       bool\n",
       "description          object\n",
       "dtype: object"
      ]
     },
     "execution_count": 7,
     "metadata": {},
     "output_type": "execute_result"
    }
   ],
   "source": [
    "# dtypes\n",
    "\n",
    "df.dtypes"
   ]
  },
  {
   "cell_type": "code",
   "execution_count": 8,
   "id": "c4f5df3a",
   "metadata": {},
   "outputs": [
    {
     "data": {
      "text/plain": [
       "dtype('int64')"
      ]
     },
     "execution_count": 8,
     "metadata": {},
     "output_type": "execute_result"
    }
   ],
   "source": [
    "df.loc[:,'categoryId'].dtypes"
   ]
  },
  {
   "cell_type": "code",
   "execution_count": 9,
   "id": "c1e672b3",
   "metadata": {},
   "outputs": [
    {
     "data": {
      "text/plain": [
       "publishedAt      object\n",
       "trending_date    object\n",
       "dtype: object"
      ]
     },
     "execution_count": 9,
     "metadata": {},
     "output_type": "execute_result"
    }
   ],
   "source": [
    "df.loc[:,['publishedAt','trending_date']].dtypes"
   ]
  },
  {
   "cell_type": "code",
   "execution_count": null,
   "id": "373581fc",
   "metadata": {},
   "outputs": [],
   "source": []
  },
  {
   "cell_type": "markdown",
   "id": "3ca88dfe",
   "metadata": {},
   "source": [
    "### 결측값 확인"
   ]
  },
  {
   "cell_type": "code",
   "execution_count": 10,
   "id": "d573e6a5",
   "metadata": {
    "scrolled": true
   },
   "outputs": [
    {
     "data": {
      "text/plain": [
       "video_id                0\n",
       "title                   0\n",
       "publishedAt             0\n",
       "channelId               0\n",
       "channelTitle            0\n",
       "categoryId              0\n",
       "trending_date           0\n",
       "tags                    0\n",
       "view_count              0\n",
       "likes                   0\n",
       "dislikes                0\n",
       "comment_count           0\n",
       "thumbnail_link          0\n",
       "comments_disabled       0\n",
       "ratings_disabled        0\n",
       "description          3543\n",
       "dtype: int64"
      ]
     },
     "execution_count": 10,
     "metadata": {},
     "output_type": "execute_result"
    }
   ],
   "source": [
    "# 결측값 확인\n",
    "\n",
    "# 1. pd.isnull() or df.isnull()\n",
    "np.sum(pd.isnull(df))"
   ]
  },
  {
   "cell_type": "code",
   "execution_count": 11,
   "id": "bb20fccc",
   "metadata": {
    "scrolled": true
   },
   "outputs": [
    {
     "data": {
      "text/html": [
       "<div>\n",
       "<style scoped>\n",
       "    .dataframe tbody tr th:only-of-type {\n",
       "        vertical-align: middle;\n",
       "    }\n",
       "\n",
       "    .dataframe tbody tr th {\n",
       "        vertical-align: top;\n",
       "    }\n",
       "\n",
       "    .dataframe thead th {\n",
       "        text-align: right;\n",
       "    }\n",
       "</style>\n",
       "<table border=\"1\" class=\"dataframe\">\n",
       "  <thead>\n",
       "    <tr style=\"text-align: right;\">\n",
       "      <th></th>\n",
       "      <th>video_id</th>\n",
       "      <th>title</th>\n",
       "      <th>publishedAt</th>\n",
       "      <th>channelId</th>\n",
       "      <th>channelTitle</th>\n",
       "      <th>categoryId</th>\n",
       "      <th>trending_date</th>\n",
       "      <th>tags</th>\n",
       "      <th>view_count</th>\n",
       "      <th>likes</th>\n",
       "      <th>dislikes</th>\n",
       "      <th>comment_count</th>\n",
       "      <th>thumbnail_link</th>\n",
       "      <th>comments_disabled</th>\n",
       "      <th>ratings_disabled</th>\n",
       "      <th>description</th>\n",
       "    </tr>\n",
       "  </thead>\n",
       "  <tbody>\n",
       "    <tr>\n",
       "      <th>0</th>\n",
       "      <td>uq5LClQN3cE</td>\n",
       "      <td>안녕하세요 보겸입니다</td>\n",
       "      <td>2020-08-09T09:32:48Z</td>\n",
       "      <td>UCu9BCtGIEr73LXZsKmoujKw</td>\n",
       "      <td>보겸 BK</td>\n",
       "      <td>24</td>\n",
       "      <td>2020-08-12T00:00:00Z</td>\n",
       "      <td>보겸|bokyem</td>\n",
       "      <td>5947503</td>\n",
       "      <td>53326</td>\n",
       "      <td>105756</td>\n",
       "      <td>139946</td>\n",
       "      <td>https://i.ytimg.com/vi/uq5LClQN3cE/default.jpg</td>\n",
       "      <td>False</td>\n",
       "      <td>False</td>\n",
       "      <td>NaN</td>\n",
       "    </tr>\n",
       "  </tbody>\n",
       "</table>\n",
       "</div>"
      ],
      "text/plain": [
       "      video_id        title           publishedAt                 channelId  \\\n",
       "0  uq5LClQN3cE  안녕하세요 보겸입니다  2020-08-09T09:32:48Z  UCu9BCtGIEr73LXZsKmoujKw   \n",
       "\n",
       "  channelTitle  categoryId         trending_date       tags  view_count  \\\n",
       "0        보겸 BK          24  2020-08-12T00:00:00Z  보겸|bokyem     5947503   \n",
       "\n",
       "   likes  dislikes  comment_count  \\\n",
       "0  53326    105756         139946   \n",
       "\n",
       "                                   thumbnail_link  comments_disabled  \\\n",
       "0  https://i.ytimg.com/vi/uq5LClQN3cE/default.jpg              False   \n",
       "\n",
       "   ratings_disabled description  \n",
       "0             False         NaN  "
      ]
     },
     "execution_count": 11,
     "metadata": {},
     "output_type": "execute_result"
    }
   ],
   "source": [
    "df.head(1)"
   ]
  },
  {
   "cell_type": "code",
   "execution_count": 12,
   "id": "51cd02a6",
   "metadata": {
    "scrolled": true
   },
   "outputs": [
    {
     "name": "stdout",
     "output_type": "stream",
     "text": [
      "categoryId    False\n",
      "Name: 0, dtype: bool \n",
      "\n",
      "categoryId    0\n",
      "view_count    0\n",
      "dtype: int64\n"
     ]
    }
   ],
   "source": [
    "# 2. np.isnan() <- object는 불가능하다. (int,float/bool) 등만 가능; nan = Not A Number\n",
    "\n",
    "print(np.isnan(df.loc[0,['categoryId']].astype('int64')),'\\n')\n",
    "print(np.sum(np.isnan(df.loc[:,['categoryId','view_count']].astype('int64'))))\n",
    "\n",
    "# np.isnan(df.loc[0,['categoryId']]) # error; loc로 추출시에 int여도 object로 바뀐다. 따라서 자료형 변환이 필요\n",
    "# np.isnan(df.loc[0,'video_id']) # <- np.isnan('string') error\n",
    "# np.isnan(df.loc[0,'title'])\n",
    "# np.isnan(df.loc[0,'publishedAt'])"
   ]
  },
  {
   "cell_type": "code",
   "execution_count": null,
   "id": "903f545b",
   "metadata": {},
   "outputs": [],
   "source": []
  },
  {
   "cell_type": "markdown",
   "id": "f6f2e833",
   "metadata": {},
   "source": [
    "### thumbnail_link 열 삭제"
   ]
  },
  {
   "cell_type": "code",
   "execution_count": 13,
   "id": "4c0a2c2e",
   "metadata": {},
   "outputs": [
    {
     "data": {
      "text/plain": [
       "False"
      ]
     },
     "execution_count": 13,
     "metadata": {},
     "output_type": "execute_result"
    }
   ],
   "source": [
    "# thumbnail_link 열 삭제\n",
    "\n",
    "df = df.drop('thumbnail_link',axis=1)\n",
    "'thumbnail_link' in df.columns"
   ]
  },
  {
   "cell_type": "code",
   "execution_count": null,
   "id": "314e7c4b",
   "metadata": {},
   "outputs": [],
   "source": []
  },
  {
   "cell_type": "markdown",
   "id": "b6d31e8b",
   "metadata": {},
   "source": [
    "### 고유한 열 값 비교"
   ]
  },
  {
   "cell_type": "code",
   "execution_count": 8,
   "id": "858d2866",
   "metadata": {
    "scrolled": false
   },
   "outputs": [
    {
     "name": "stdout",
     "output_type": "stream",
     "text": [
      "Index(['#1. [메시특집] 리오넬 메시, 이적 요청!! 관련 기사 종합',\n",
      "       '#1. [슈퍼리그] 챔스 종결? 드디어 창설된 슈퍼리그, 형태와 방식은?', '#181.왜 나만 갖고 그래?? #shorts',\n",
      "       '#254. 조만간 사고 낼 것 같아요 #shorts', '#302. 끌바냐? 단속이냐?   #shorts'],\n",
      "      dtype='object', name='title') \n",
      "\n",
      "-------------------------------------------------- \n",
      "\n",
      "고유한 title의 갯수 : 18079\n"
     ]
    }
   ],
   "source": [
    "# 1. title 열의 고유한 갯수 찾기\n",
    "\n",
    "grouped = df.groupby('title').count().index\n",
    "print(grouped[0:5], '\\n')\n",
    "print('-'*50, '\\n')\n",
    "print('고유한 title의 갯수 :', len(grouped))"
   ]
  },
  {
   "cell_type": "code",
   "execution_count": 15,
   "id": "f7f11a0c",
   "metadata": {
    "scrolled": true
   },
   "outputs": [
    {
     "name": "stdout",
     "output_type": "stream",
     "text": [
      "# of unique title : 18079\n",
      "# of all title including duplicated title : 137554\n",
      "# of all title : 137554\n"
     ]
    }
   ],
   "source": [
    "print('# of unique title :', len(grouped.index))\n",
    "print('# of all title including duplicated title :', grouped.video_id.sum())\n",
    "print('# of all title :', len(df.index)) # same as df.video_id.count()\n",
    "\n",
    "# duplicated title이 나타나는 이유\n",
    "# 같은 제목에\n",
    "# 1. video_id가 여러개 = publishedAt이 여러개 <- 다른 채널에 같은 비디오를 각각 올린 경우 (특이 케이스)\n",
    "# 2. trending_data가 여러개 <- 가장 근본적인 이유로 같은 비디오가 여러날에 걸쳐 인기동영상에 올라간 경우\n",
    "# ..."
   ]
  },
  {
   "cell_type": "code",
   "execution_count": 16,
   "id": "757037d8",
   "metadata": {},
   "outputs": [
    {
     "data": {
      "text/html": [
       "<div>\n",
       "<style scoped>\n",
       "    .dataframe tbody tr th:only-of-type {\n",
       "        vertical-align: middle;\n",
       "    }\n",
       "\n",
       "    .dataframe tbody tr th {\n",
       "        vertical-align: top;\n",
       "    }\n",
       "\n",
       "    .dataframe thead th {\n",
       "        text-align: right;\n",
       "    }\n",
       "</style>\n",
       "<table border=\"1\" class=\"dataframe\">\n",
       "  <thead>\n",
       "    <tr style=\"text-align: right;\">\n",
       "      <th></th>\n",
       "      <th>video_id</th>\n",
       "      <th>title</th>\n",
       "      <th>publishedAt</th>\n",
       "      <th>channelId</th>\n",
       "      <th>channelTitle</th>\n",
       "      <th>categoryId</th>\n",
       "      <th>trending_date</th>\n",
       "      <th>tags</th>\n",
       "      <th>view_count</th>\n",
       "      <th>likes</th>\n",
       "      <th>dislikes</th>\n",
       "      <th>comment_count</th>\n",
       "      <th>comments_disabled</th>\n",
       "      <th>ratings_disabled</th>\n",
       "      <th>description</th>\n",
       "    </tr>\n",
       "  </thead>\n",
       "  <tbody>\n",
       "    <tr>\n",
       "      <th>0</th>\n",
       "      <td>uq5LClQN3cE</td>\n",
       "      <td>안녕하세요 보겸입니다</td>\n",
       "      <td>2020-08-09T09:32:48Z</td>\n",
       "      <td>UCu9BCtGIEr73LXZsKmoujKw</td>\n",
       "      <td>보겸 BK</td>\n",
       "      <td>24</td>\n",
       "      <td>2020-08-12T00:00:00Z</td>\n",
       "      <td>보겸|bokyem</td>\n",
       "      <td>5947503</td>\n",
       "      <td>53326</td>\n",
       "      <td>105756</td>\n",
       "      <td>139946</td>\n",
       "      <td>False</td>\n",
       "      <td>False</td>\n",
       "      <td>NaN</td>\n",
       "    </tr>\n",
       "    <tr>\n",
       "      <th>137</th>\n",
       "      <td>uq5LClQN3cE</td>\n",
       "      <td>안녕하세요 보겸입니다</td>\n",
       "      <td>2020-08-09T09:32:48Z</td>\n",
       "      <td>UCu9BCtGIEr73LXZsKmoujKw</td>\n",
       "      <td>보겸 BK</td>\n",
       "      <td>24</td>\n",
       "      <td>2020-08-13T00:00:00Z</td>\n",
       "      <td>보겸|bokyem</td>\n",
       "      <td>6342777</td>\n",
       "      <td>53631</td>\n",
       "      <td>109839</td>\n",
       "      <td>141253</td>\n",
       "      <td>False</td>\n",
       "      <td>False</td>\n",
       "      <td>NaN</td>\n",
       "    </tr>\n",
       "  </tbody>\n",
       "</table>\n",
       "</div>"
      ],
      "text/plain": [
       "        video_id        title           publishedAt                 channelId  \\\n",
       "0    uq5LClQN3cE  안녕하세요 보겸입니다  2020-08-09T09:32:48Z  UCu9BCtGIEr73LXZsKmoujKw   \n",
       "137  uq5LClQN3cE  안녕하세요 보겸입니다  2020-08-09T09:32:48Z  UCu9BCtGIEr73LXZsKmoujKw   \n",
       "\n",
       "    channelTitle  categoryId         trending_date       tags  view_count  \\\n",
       "0          보겸 BK          24  2020-08-12T00:00:00Z  보겸|bokyem     5947503   \n",
       "137        보겸 BK          24  2020-08-13T00:00:00Z  보겸|bokyem     6342777   \n",
       "\n",
       "     likes  dislikes  comment_count  comments_disabled  ratings_disabled  \\\n",
       "0    53326    105756         139946              False             False   \n",
       "137  53631    109839         141253              False             False   \n",
       "\n",
       "    description  \n",
       "0           NaN  \n",
       "137         NaN  "
      ]
     },
     "execution_count": 16,
     "metadata": {},
     "output_type": "execute_result"
    }
   ],
   "source": [
    "# 구체적으로 더 살펴보기\n",
    "\n",
    "grouped2 = (df[df.loc[:,'title']==df.title[0]]) # 중복된 제목('안녕하세요 보겸입니다')을 가진 데이터를 확인해보자.\n",
    "grouped2.head(2)"
   ]
  },
  {
   "cell_type": "code",
   "execution_count": 17,
   "id": "384b15da",
   "metadata": {
    "scrolled": true
   },
   "outputs": [
    {
     "name": "stdout",
     "output_type": "stream",
     "text": [
      "video_id  :  ['S_DLDL-JpvY', 'uq5LClQN3cE'] \n",
      "\n",
      "title  :  ['안녕하세요 보겸입니다'] \n",
      "\n",
      "publishedAt  :  ['2020-08-09T09:32:48Z', '2021-06-08T13:05:00Z'] \n",
      "\n",
      "channelId  :  ['UCCJ2b2lJE7M77cSuSHLcMOQ', 'UCu9BCtGIEr73LXZsKmoujKw'] \n",
      "\n",
      "channelTitle  :  ['보개미TV', '보겸 BK'] \n",
      "\n",
      "categoryId  :  [22, 24] \n",
      "\n",
      "trending_date  :  ['2020-08-12T00:00:00Z', '2020-08-13T00:00:00Z', '2020-08-14T00:00:00Z', '2020-08-15T00:00:00Z', '2020-08-16T00:00:00Z', '2020-08-17T00:00:00Z', '2020-08-18T00:00:00Z', '2021-06-09T00:00:00Z', '2021-06-10T00:00:00Z', '2021-06-11T00:00:00Z', '2021-06-12T00:00:00Z', '2021-06-13T00:00:00Z', '2021-06-14T00:00:00Z', '2021-06-15T00:00:00Z', '2021-06-16T00:00:00Z', '2021-06-17T00:00:00Z', '2021-06-19T00:00:00Z'] \n",
      "\n",
      "tags  :  ['[None]', '보겸|bokyem'] \n",
      "\n",
      "view_count  :  [660425, 951129, 1116653, 1226313, 1312506, 1357718, 1396582, 1425752, 1453585, 1558560, 1577101, 1588872, 1595769, 1602678, 1606430, 1613699, 1617150, 1629991, 5947503, 6342777, 6550728, 6703894, 6769636, 6828812, 6879571] \n",
      "\n",
      "likes  :  [15138, 18211, 19446, 20379, 21465, 21841, 22282, 22554, 23415, 24388, 24542, 24622, 24693, 24737, 24763, 24795, 24816, 24911, 53326, 53631, 53702, 53705, 53720, 53734, 53738] \n",
      "\n",
      "dislikes  :  [983, 1662, 2093, 2278, 2413, 2480, 2553, 2575, 2627, 2652, 2658, 2664, 2668, 2671, 2672, 2673, 2674, 2677, 105756, 109839, 112069, 113548, 114273, 114938, 115494] \n",
      "\n",
      "comment_count  :  [2513, 2976, 3243, 3452, 3617, 3668, 3761, 3776, 3848, 3905, 3925, 3926, 3932, 3934, 3936, 3938, 3941, 3953, 128860, 133622, 135352, 135521, 137751, 139946, 141253] \n",
      "\n",
      "comments_disabled  :  [False] \n",
      "\n",
      "ratings_disabled  :  [False] \n",
      "\n",
      "description  :  [] \n",
      "\n"
     ]
    }
   ],
   "source": [
    "for i in grouped2.columns:\n",
    "    print(i, ' : ',list(grouped2.groupby(i).count().index),'\\n') # 중복된 제목을 가진 두 영상 데이터들의 열값을 비교"
   ]
  },
  {
   "cell_type": "code",
   "execution_count": 18,
   "id": "6903ccbd",
   "metadata": {},
   "outputs": [
    {
     "name": "stdout",
     "output_type": "stream",
     "text": [
      "# of unique value for each column\n",
      "\n",
      "total :  25\n",
      "video_id  :  2\n",
      "title  :  1\n",
      "publishedAt  :  2\n",
      "channelId  :  2\n",
      "channelTitle  :  2\n",
      "categoryId  :  2\n",
      "trending_date  :  17\n",
      "tags  :  2\n",
      "view_count  :  25\n",
      "likes  :  25\n",
      "dislikes  :  25\n",
      "comment_count  :  25\n",
      "comments_disabled  :  1\n",
      "ratings_disabled  :  1\n",
      "description  :  0\n"
     ]
    }
   ],
   "source": [
    "# 같은 제목('안녕하세요 보겸입니다')에 대한 각 열들의 unique한 갯수\n",
    "\n",
    "print('# of unique value for each column\\n')\n",
    "print('total : ', len(grouped2.index))\n",
    "for i in grouped2.columns:\n",
    "    print(i, ' : ',len(grouped2.groupby(i).count().index))"
   ]
  },
  {
   "cell_type": "code",
   "execution_count": 19,
   "id": "96589642",
   "metadata": {
    "scrolled": true
   },
   "outputs": [
    {
     "name": "stdout",
     "output_type": "stream",
     "text": [
      "# of total data : 137554\n",
      "# of unique title : 18079 <- case(1)\n",
      "# of unique video_id : 16930 <- case(2)\n"
     ]
    }
   ],
   "source": [
    "# 2. video_id의 고유한 갯수 찾기 vs title의 고유한 갯수와 비교\n",
    "\n",
    "print('# of total data :', len(df.index))\n",
    "print('# of unique title :', len(grouped.index), '<- case(1)') # same as df.title.nunique()\n",
    "\n",
    "grouped3 = df.groupby('video_id').count()\n",
    "print('# of unique video_id :', len(grouped3.index), '<- case(2)') # same as df.video_id.nunique()\n",
    "\n",
    "# 아마도 영상을 업로드한 뒤에 처음 지정한 제목을 다른 제목으로 변경하기 때문일 것이다. case(1)\n",
    "# 물론 특이한 케이스로 같은 제목의 영상을 다른 채널에 업로드 할 수도 있다.\n",
    "# 혹은 영상 제목을 똑같이 한 다른 영상들이 있을 수도 있다. case(2)\n",
    "# 그러나 case(1) > case(2)이다."
   ]
  },
  {
   "cell_type": "code",
   "execution_count": null,
   "id": "ea2011de",
   "metadata": {},
   "outputs": [],
   "source": [
    "#### 아래 내용은 틀린 것이다.\n",
    "\n",
    "# 단지 첫번쨰는 독특한 제목의 수에 대하여\n",
    "# 그 제목이 여러번 나타나는지(>1) 혹은 1번만 나타나는지(=1)를 나타내는 것이다.\n",
    "# 두번째는 독특한 비디오 아이디에 대하여\n",
    "# 마찬가지로 해석한다."
   ]
  },
  {
   "cell_type": "code",
   "execution_count": 20,
   "id": "64528ac6",
   "metadata": {
    "scrolled": true
   },
   "outputs": [
    {
     "name": "stdout",
     "output_type": "stream",
     "text": [
      "one title corresponding \n",
      "more than two different video_id : 136670\n",
      "just one video_id : 884\n",
      "total video_id(including-duplicated) : 137554\n",
      "one video_id corresponding \n",
      "\n",
      "\n",
      "more than two different title : 137211\n",
      "just one title : 343\n",
      "total title(including-duplicated) : 137554\n",
      "\n",
      "\n",
      "즉, 한개의 타이틀에 대해 2개 이상의 비디오아이디 : 136670 <- case(1)\n",
      "한개의 비디오아이디에 대해 2개 이상의 타이틀 : 137211 <- case(2)\n"
     ]
    }
   ],
   "source": [
    "grouped4 = df.groupby('title').count().video_id\n",
    "\n",
    "print('one title corresponding ')\n",
    "print('more than two different video_id :', grouped4[grouped4>1].sum())\n",
    "print('just one video_id :', grouped4[grouped4<=1].sum())\n",
    "print('total video_id(including-duplicated) :', grouped4[grouped4<=1].sum()+grouped4[grouped4>1].sum())\n",
    "\n",
    "grouped5 = df.groupby('video_id').count().title\n",
    "\n",
    "print('one video_id corresponding ')\n",
    "print('\\n\\nmore than two different title :', grouped5[grouped5>1].sum())\n",
    "print('just one title :',grouped5[grouped5<=1].sum())\n",
    "print('total title(including-duplicated) :',grouped5[grouped5<=1].sum()+grouped5[grouped5>1].sum())\n",
    "\n",
    "print('\\n\\n즉, 한개의 타이틀에 대해 2개 이상의 비디오아이디 :', grouped4[grouped4>1].sum(), '<- case(1)')\n",
    "print('한개의 비디오아이디에 대해 2개 이상의 타이틀 :',grouped5[grouped5>1].sum(), '<- case(2)')"
   ]
  },
  {
   "cell_type": "code",
   "execution_count": 16,
   "id": "4d26adfc",
   "metadata": {},
   "outputs": [
    {
     "name": "stdout",
     "output_type": "stream",
     "text": [
      "비디오아이디가 동일하나 제목이 다른 것의 갯수 :  1051 <- case(1)\n",
      "제목은 같으나 비디오아이디가 다른 것의 갯수 :  17 <- case(2)\n"
     ]
    }
   ],
   "source": [
    "# 다시 확인\n",
    "\n",
    "# case(1) : video_id는 동일, title는 다르다.\n",
    "# case(2) : title은 동일, video_id는 다르다.\n",
    "\n",
    "x = df.loc[:,['title', 'video_id']]\n",
    "\n",
    "print('비디오아이디가 동일하나 제목이 다른 것의 갯수 : ',\n",
    "      (x.groupby('video_id').nunique() > 1).sum().values[0], '<- case(1)')\n",
    "print('제목은 같으나 비디오아이디가 다른 것의 갯수 : ',\n",
    "      (x.groupby('title').nunique() > 1).sum().values[0], '<- case(2)')"
   ]
  },
  {
   "cell_type": "markdown",
   "id": "6a90d764",
   "metadata": {},
   "source": [
    "##### 비디오아이디가 같아도 제목이 다른 경우가 훨씬 많다.\n",
    "##### 따라서 분석결과에 따르면 제목을 key로 해야하지만\n",
    "##### 하지만 비디오아이디가 같다면 아예 같은 동영상임으로\n",
    "##### 분석결과와 달리 비디오아이디를 key로 하는 것이 제목을 key로 하는 것보다 더 타당하다."
   ]
  },
  {
   "cell_type": "code",
   "execution_count": null,
   "id": "0e56c02b",
   "metadata": {},
   "outputs": [],
   "source": []
  },
  {
   "cell_type": "markdown",
   "id": "7d614a10",
   "metadata": {},
   "source": [
    "### 두 열 사이에 관계 비교"
   ]
  },
  {
   "cell_type": "code",
   "execution_count": 21,
   "id": "10558a6a",
   "metadata": {},
   "outputs": [
    {
     "data": {
      "text/plain": [
       "33        0\n",
       "47        0\n",
       "191       0\n",
       "205       0\n",
       "349       0\n",
       "         ..\n",
       "131676    0\n",
       "131905    0\n",
       "132118    0\n",
       "132328    0\n",
       "132533    0\n",
       "Name: comment_count, Length: 640, dtype: int64"
      ]
     },
     "execution_count": 21,
     "metadata": {},
     "output_type": "execute_result"
    }
   ],
   "source": [
    "# ‘comments_disabled’열이 True라면, ‘comment_count’도 0\n",
    "\n",
    "df[df.loc[:,'comments_disabled']==True].comment_count"
   ]
  },
  {
   "cell_type": "code",
   "execution_count": 22,
   "id": "d8e12642",
   "metadata": {
    "scrolled": true
   },
   "outputs": [
    {
     "data": {
      "text/html": [
       "<div>\n",
       "<style scoped>\n",
       "    .dataframe tbody tr th:only-of-type {\n",
       "        vertical-align: middle;\n",
       "    }\n",
       "\n",
       "    .dataframe tbody tr th {\n",
       "        vertical-align: top;\n",
       "    }\n",
       "\n",
       "    .dataframe thead th {\n",
       "        text-align: right;\n",
       "    }\n",
       "</style>\n",
       "<table border=\"1\" class=\"dataframe\">\n",
       "  <thead>\n",
       "    <tr style=\"text-align: right;\">\n",
       "      <th></th>\n",
       "      <th>likes</th>\n",
       "      <th>dislikes</th>\n",
       "    </tr>\n",
       "  </thead>\n",
       "  <tbody>\n",
       "    <tr>\n",
       "      <th>57</th>\n",
       "      <td>0</td>\n",
       "      <td>0</td>\n",
       "    </tr>\n",
       "    <tr>\n",
       "      <th>107</th>\n",
       "      <td>0</td>\n",
       "      <td>0</td>\n",
       "    </tr>\n",
       "    <tr>\n",
       "      <th>214</th>\n",
       "      <td>0</td>\n",
       "      <td>0</td>\n",
       "    </tr>\n",
       "    <tr>\n",
       "      <th>257</th>\n",
       "      <td>0</td>\n",
       "      <td>0</td>\n",
       "    </tr>\n",
       "    <tr>\n",
       "      <th>366</th>\n",
       "      <td>0</td>\n",
       "      <td>0</td>\n",
       "    </tr>\n",
       "    <tr>\n",
       "      <th>...</th>\n",
       "      <td>...</td>\n",
       "      <td>...</td>\n",
       "    </tr>\n",
       "    <tr>\n",
       "      <th>137413</th>\n",
       "      <td>0</td>\n",
       "      <td>0</td>\n",
       "    </tr>\n",
       "    <tr>\n",
       "      <th>137416</th>\n",
       "      <td>0</td>\n",
       "      <td>0</td>\n",
       "    </tr>\n",
       "    <tr>\n",
       "      <th>137439</th>\n",
       "      <td>0</td>\n",
       "      <td>0</td>\n",
       "    </tr>\n",
       "    <tr>\n",
       "      <th>137457</th>\n",
       "      <td>0</td>\n",
       "      <td>0</td>\n",
       "    </tr>\n",
       "    <tr>\n",
       "      <th>137469</th>\n",
       "      <td>0</td>\n",
       "      <td>0</td>\n",
       "    </tr>\n",
       "  </tbody>\n",
       "</table>\n",
       "<p>2006 rows × 2 columns</p>\n",
       "</div>"
      ],
      "text/plain": [
       "        likes  dislikes\n",
       "57          0         0\n",
       "107         0         0\n",
       "214         0         0\n",
       "257         0         0\n",
       "366         0         0\n",
       "...       ...       ...\n",
       "137413      0         0\n",
       "137416      0         0\n",
       "137439      0         0\n",
       "137457      0         0\n",
       "137469      0         0\n",
       "\n",
       "[2006 rows x 2 columns]"
      ]
     },
     "execution_count": 22,
     "metadata": {},
     "output_type": "execute_result"
    }
   ],
   "source": [
    "# ‘ratings_disabled’열이 True라면, ‘likes’, ‘dislikes’ 모두 0\n",
    "\n",
    "df[df.loc[:,'ratings_disabled']==True].loc[:,['likes','dislikes']]"
   ]
  },
  {
   "cell_type": "code",
   "execution_count": null,
   "id": "80a26d54",
   "metadata": {},
   "outputs": [],
   "source": []
  },
  {
   "cell_type": "markdown",
   "id": "0db34d45",
   "metadata": {},
   "source": [
    "### 열의 데이터 타입 변경"
   ]
  },
  {
   "cell_type": "code",
   "execution_count": 23,
   "id": "a348e9b5",
   "metadata": {},
   "outputs": [
    {
     "name": "stdout",
     "output_type": "stream",
     "text": [
      "publishedAt\n",
      "0    2020-08-09T09:32:48Z\n",
      "1    2020-08-12T09:00:08Z\n",
      "2    2020-08-10T09:54:13Z\n",
      "3    2020-08-11T15:00:58Z\n",
      "4    2020-08-11T09:00:13Z\n",
      "Name: publishedAt, dtype: object\n",
      "object \n",
      "\n",
      "0   2020-08-09 09:32:48+00:00\n",
      "1   2020-08-12 09:00:08+00:00\n",
      "2   2020-08-10 09:54:13+00:00\n",
      "3   2020-08-11 15:00:58+00:00\n",
      "4   2020-08-11 09:00:13+00:00\n",
      "Name: publishedAt, dtype: datetime64[ns, UTC]\n",
      "datetime64[ns, UTC] \n",
      "\n",
      "trending_date\n",
      "0    2020-08-12T00:00:00Z\n",
      "1    2020-08-12T00:00:00Z\n",
      "2    2020-08-12T00:00:00Z\n",
      "3    2020-08-12T00:00:00Z\n",
      "4    2020-08-12T00:00:00Z\n",
      "Name: trending_date, dtype: object\n",
      "object \n",
      "\n",
      "0   2020-08-12 00:00:00+00:00\n",
      "1   2020-08-12 00:00:00+00:00\n",
      "2   2020-08-12 00:00:00+00:00\n",
      "3   2020-08-12 00:00:00+00:00\n",
      "4   2020-08-12 00:00:00+00:00\n",
      "Name: trending_date, dtype: datetime64[ns, UTC]\n",
      "datetime64[ns, UTC] \n",
      "\n",
      "datetime64[ns, UTC] datetime64[ns, UTC]\n"
     ]
    }
   ],
   "source": [
    "# publishedAt, trending_date : object -> datatime64\n",
    "\n",
    "\n",
    "print('publishedAt')\n",
    "print(df.publishedAt.head(5))\n",
    "print(df.publishedAt.dtype, '\\n')\n",
    "df.publishedAt = pd.to_datetime(df.publishedAt)\n",
    "print(df.publishedAt.head(5))\n",
    "print(df.publishedAt.dtype, '\\n')\n",
    "\n",
    "\n",
    "print('trending_date')\n",
    "print(df.trending_date.head(5))\n",
    "print(df.trending_date.dtype, '\\n')\n",
    "df.trending_date = pd.to_datetime(df.trending_date)\n",
    "print(df.trending_date.head(5))\n",
    "print(df.trending_date.dtype, '\\n')\n",
    "\n",
    "print(df.publishedAt.dtype, df.trending_date.dtype)"
   ]
  },
  {
   "cell_type": "code",
   "execution_count": 24,
   "id": "496bdcd4",
   "metadata": {},
   "outputs": [
    {
     "name": "stdout",
     "output_type": "stream",
     "text": [
      "int64 \n",
      "\n",
      "0    24\n",
      "1     1\n",
      "2    22\n",
      "3    24\n",
      "4    10\n",
      "Name: categoryId, dtype: category\n",
      "Categories (15, int64): [1, 2, 10, 15, ..., 26, 27, 28, 29]\n"
     ]
    }
   ],
   "source": [
    "# ‘categoryId’를 int type이 아닌 category type으로 변경\n",
    "\n",
    "print(df.categoryId.dtype, '\\n')\n",
    "\n",
    "df.categoryId = df.categoryId.astype('category')\n",
    "\n",
    "print(df.categoryId.head(5))"
   ]
  },
  {
   "cell_type": "code",
   "execution_count": 25,
   "id": "1a7e2296",
   "metadata": {},
   "outputs": [
    {
     "data": {
      "text/plain": [
       "video_id                          object\n",
       "title                             object\n",
       "publishedAt          datetime64[ns, UTC]\n",
       "channelId                         object\n",
       "channelTitle                      object\n",
       "categoryId                      category\n",
       "trending_date        datetime64[ns, UTC]\n",
       "tags                              object\n",
       "view_count                         int64\n",
       "likes                              int64\n",
       "dislikes                           int64\n",
       "comment_count                      int64\n",
       "comments_disabled                   bool\n",
       "ratings_disabled                    bool\n",
       "description                       object\n",
       "dtype: object"
      ]
     },
     "execution_count": 25,
     "metadata": {},
     "output_type": "execute_result"
    }
   ],
   "source": [
    "df.dtypes"
   ]
  },
  {
   "cell_type": "code",
   "execution_count": null,
   "id": "8a5ba171",
   "metadata": {},
   "outputs": [],
   "source": []
  },
  {
   "cell_type": "markdown",
   "id": "006256bf",
   "metadata": {},
   "source": [
    "## 3. cat, df의 categoryId와 관련한 문제 해결"
   ]
  },
  {
   "cell_type": "markdown",
   "id": "7b782e8e",
   "metadata": {},
   "source": [
    "### df의 categoryId 확인"
   ]
  },
  {
   "cell_type": "code",
   "execution_count": 26,
   "id": "d0a1b204",
   "metadata": {},
   "outputs": [
    {
     "name": "stdout",
     "output_type": "stream",
     "text": [
      "[ 1  2 10 15 17 19 20 22 23 24 25 26 27 28 29]\n",
      "15\n"
     ]
    }
   ],
   "source": [
    "# categoryId의 카테고리 갯수 확인\n",
    "\n",
    "print(np.unique(df.categoryId))\n",
    "print(len(np.unique(df.categoryId)))"
   ]
  },
  {
   "cell_type": "code",
   "execution_count": 27,
   "id": "0c8392a3",
   "metadata": {},
   "outputs": [
    {
     "data": {
      "text/plain": [
       "CategoricalDtype(categories=[1, 2, 10, 15, 17, 19, 20, 22, 23, 24, 25, 26, 27, 28, 29], ordered=False)"
      ]
     },
     "execution_count": 27,
     "metadata": {},
     "output_type": "execute_result"
    }
   ],
   "source": [
    "df.categoryId.dtype"
   ]
  },
  {
   "cell_type": "code",
   "execution_count": 28,
   "id": "d3508a1a",
   "metadata": {
    "scrolled": true
   },
   "outputs": [
    {
     "name": "stdout",
     "output_type": "stream",
     "text": [
      "categoryId\n",
      "1     0.032540\n",
      "2     0.012417\n",
      "10    0.107500\n",
      "15    0.020305\n",
      "17    0.076654\n",
      "19    0.014293\n",
      "20    0.036967\n",
      "22    0.157749\n",
      "23    0.062710\n",
      "24    0.348081\n",
      "25    0.049399\n",
      "26    0.043416\n",
      "27    0.019563\n",
      "28    0.016670\n",
      "29    0.001737\n",
      "Name: video_id, dtype: float64\n",
      "검산 모두 합치면 : 0.9999999999999998\n"
     ]
    },
    {
     "data": {
      "text/plain": [
       "<BarContainer object of 15 artists>"
      ]
     },
     "execution_count": 28,
     "metadata": {},
     "output_type": "execute_result"
    },
    {
     "data": {
      "image/png": "[encoded data removed]",
      "text/plain": [
       "<Figure size 432x288 with 1 Axes>"
      ]
     },
     "metadata": {
      "needs_background": "light"
     },
     "output_type": "display_data"
    }
   ],
   "source": [
    "# 각 category가 차이하는 비율\n",
    "\n",
    "category_rate = df.groupby('categoryId').count().iloc[:,0] / len(df)\n",
    "print(category_rate)\n",
    "print('검산 모두 합치면 :', category_rate.sum())\n",
    "plt.bar(category_rate.index, df.groupby('categoryId').count().iloc[:,0] / len(df))"
   ]
  },
  {
   "cell_type": "code",
   "execution_count": null,
   "id": "fef4a5cc",
   "metadata": {},
   "outputs": [],
   "source": []
  },
  {
   "cell_type": "markdown",
   "id": "f7a37631",
   "metadata": {},
   "source": [
    "### df와 cat을 categoryId, id로 하여금 합치기"
   ]
  },
  {
   "cell_type": "code",
   "execution_count": 29,
   "id": "fb75faa5",
   "metadata": {
    "scrolled": false
   },
   "outputs": [
    {
     "name": "stdout",
     "output_type": "stream",
     "text": [
      "df의 categoryId : [ 1  2 10 15 17 19 20 22 23 24 25 26 27 28 29]\n",
      "cat의 id : [ 1  2 10 15 17 18 19 20 21 22 23 24 25 26 27 28 30 31 32 33 34 35 36 37\n",
      " 38 39 40 41 42 43 44]\n"
     ]
    },
    {
     "data": {
      "text/plain": [
       "array([ True,  True,  True,  True,  True,  True,  True,  True,  True,\n",
       "        True,  True,  True,  True,  True, False])"
      ]
     },
     "execution_count": 29,
     "metadata": {},
     "output_type": "execute_result"
    }
   ],
   "source": [
    "print('df의 categoryId :', np.unique(df.categoryId))\n",
    "print('cat의 id :', np.unique(cat.id))\n",
    "np.in1d(np.unique(df.categoryId), np.unique(cat.id))\n",
    "\n",
    "# cat의 id가 df의 categoryId보다 많지만, df의 categoryId에서 29번이\n",
    "# cat의 id에 있지 않다."
   ]
  },
  {
   "cell_type": "code",
   "execution_count": 30,
   "id": "fd50f00f",
   "metadata": {},
   "outputs": [
    {
     "data": {
      "text/html": [
       "<div>\n",
       "<style scoped>\n",
       "    .dataframe tbody tr th:only-of-type {\n",
       "        vertical-align: middle;\n",
       "    }\n",
       "\n",
       "    .dataframe tbody tr th {\n",
       "        vertical-align: top;\n",
       "    }\n",
       "\n",
       "    .dataframe thead th {\n",
       "        text-align: right;\n",
       "    }\n",
       "</style>\n",
       "<table border=\"1\" class=\"dataframe\">\n",
       "  <thead>\n",
       "    <tr style=\"text-align: right;\">\n",
       "      <th></th>\n",
       "      <th>id</th>\n",
       "      <th>category_name</th>\n",
       "    </tr>\n",
       "  </thead>\n",
       "  <tbody>\n",
       "    <tr>\n",
       "      <th>0</th>\n",
       "      <td>1</td>\n",
       "      <td>Film &amp; Animation</td>\n",
       "    </tr>\n",
       "    <tr>\n",
       "      <th>1</th>\n",
       "      <td>2</td>\n",
       "      <td>Autos &amp; Vehicles</td>\n",
       "    </tr>\n",
       "    <tr>\n",
       "      <th>2</th>\n",
       "      <td>10</td>\n",
       "      <td>Music</td>\n",
       "    </tr>\n",
       "    <tr>\n",
       "      <th>3</th>\n",
       "      <td>15</td>\n",
       "      <td>Pets &amp; Animals</td>\n",
       "    </tr>\n",
       "    <tr>\n",
       "      <th>4</th>\n",
       "      <td>17</td>\n",
       "      <td>Sports</td>\n",
       "    </tr>\n",
       "  </tbody>\n",
       "</table>\n",
       "</div>"
      ],
      "text/plain": [
       "   id     category_name\n",
       "0   1  Film & Animation\n",
       "1   2  Autos & Vehicles\n",
       "2  10             Music\n",
       "3  15    Pets & Animals\n",
       "4  17            Sports"
      ]
     },
     "execution_count": 30,
     "metadata": {},
     "output_type": "execute_result"
    }
   ],
   "source": [
    "# 붙일 cat 데이터 수정\n",
    "\n",
    "cat_paste = cat.loc[:,['id','snippet.title']]\n",
    "cat_paste.columns = ['id','category_name']\n",
    "cat_paste.head(5)"
   ]
  },
  {
   "cell_type": "code",
   "execution_count": 31,
   "id": "316882fc",
   "metadata": {},
   "outputs": [
    {
     "data": {
      "text/html": [
       "<div>\n",
       "<style scoped>\n",
       "    .dataframe tbody tr th:only-of-type {\n",
       "        vertical-align: middle;\n",
       "    }\n",
       "\n",
       "    .dataframe tbody tr th {\n",
       "        vertical-align: top;\n",
       "    }\n",
       "\n",
       "    .dataframe thead th {\n",
       "        text-align: right;\n",
       "    }\n",
       "</style>\n",
       "<table border=\"1\" class=\"dataframe\">\n",
       "  <thead>\n",
       "    <tr style=\"text-align: right;\">\n",
       "      <th></th>\n",
       "      <th>video_id</th>\n",
       "      <th>title</th>\n",
       "      <th>publishedAt</th>\n",
       "      <th>channelId</th>\n",
       "      <th>channelTitle</th>\n",
       "      <th>categoryId</th>\n",
       "      <th>trending_date</th>\n",
       "      <th>tags</th>\n",
       "      <th>view_count</th>\n",
       "      <th>likes</th>\n",
       "      <th>dislikes</th>\n",
       "      <th>comment_count</th>\n",
       "      <th>comments_disabled</th>\n",
       "      <th>ratings_disabled</th>\n",
       "      <th>description</th>\n",
       "      <th>id</th>\n",
       "      <th>category_name</th>\n",
       "    </tr>\n",
       "  </thead>\n",
       "  <tbody>\n",
       "    <tr>\n",
       "      <th>0</th>\n",
       "      <td>uq5LClQN3cE</td>\n",
       "      <td>안녕하세요 보겸입니다</td>\n",
       "      <td>2020-08-09 09:32:48+00:00</td>\n",
       "      <td>UCu9BCtGIEr73LXZsKmoujKw</td>\n",
       "      <td>보겸 BK</td>\n",
       "      <td>24</td>\n",
       "      <td>2020-08-12 00:00:00+00:00</td>\n",
       "      <td>보겸|bokyem</td>\n",
       "      <td>5947503</td>\n",
       "      <td>53326</td>\n",
       "      <td>105756</td>\n",
       "      <td>139946</td>\n",
       "      <td>False</td>\n",
       "      <td>False</td>\n",
       "      <td>NaN</td>\n",
       "      <td>24.0</td>\n",
       "      <td>Entertainment</td>\n",
       "    </tr>\n",
       "  </tbody>\n",
       "</table>\n",
       "</div>"
      ],
      "text/plain": [
       "      video_id        title               publishedAt  \\\n",
       "0  uq5LClQN3cE  안녕하세요 보겸입니다 2020-08-09 09:32:48+00:00   \n",
       "\n",
       "                  channelId channelTitle  categoryId  \\\n",
       "0  UCu9BCtGIEr73LXZsKmoujKw        보겸 BK          24   \n",
       "\n",
       "              trending_date       tags  view_count  likes  dislikes  \\\n",
       "0 2020-08-12 00:00:00+00:00  보겸|bokyem     5947503  53326    105756   \n",
       "\n",
       "   comment_count  comments_disabled  ratings_disabled description    id  \\\n",
       "0         139946              False             False         NaN  24.0   \n",
       "\n",
       "   category_name  \n",
       "0  Entertainment  "
      ]
     },
     "execution_count": 31,
     "metadata": {},
     "output_type": "execute_result"
    }
   ],
   "source": [
    "df1 = pd.merge(df, cat_paste, left_on='categoryId', right_on='id', how='left')\n",
    "df1.head(1)"
   ]
  },
  {
   "cell_type": "code",
   "execution_count": 32,
   "id": "19e75a2f",
   "metadata": {},
   "outputs": [
    {
     "name": "stdout",
     "output_type": "stream",
     "text": [
      "   categoryId    id\n",
      "0          24  24.0\n",
      "1           1   1.0\n",
      "2          22  22.0\n",
      "3          24  24.0\n",
      "4          10  10.0\n"
     ]
    },
    {
     "data": {
      "text/html": [
       "<div>\n",
       "<style scoped>\n",
       "    .dataframe tbody tr th:only-of-type {\n",
       "        vertical-align: middle;\n",
       "    }\n",
       "\n",
       "    .dataframe tbody tr th {\n",
       "        vertical-align: top;\n",
       "    }\n",
       "\n",
       "    .dataframe thead th {\n",
       "        text-align: right;\n",
       "    }\n",
       "</style>\n",
       "<table border=\"1\" class=\"dataframe\">\n",
       "  <thead>\n",
       "    <tr style=\"text-align: right;\">\n",
       "      <th></th>\n",
       "      <th>video_id</th>\n",
       "      <th>title</th>\n",
       "      <th>publishedAt</th>\n",
       "      <th>channelId</th>\n",
       "      <th>channelTitle</th>\n",
       "      <th>categoryId</th>\n",
       "      <th>trending_date</th>\n",
       "      <th>tags</th>\n",
       "      <th>view_count</th>\n",
       "      <th>likes</th>\n",
       "      <th>dislikes</th>\n",
       "      <th>comment_count</th>\n",
       "      <th>comments_disabled</th>\n",
       "      <th>ratings_disabled</th>\n",
       "      <th>description</th>\n",
       "      <th>id</th>\n",
       "      <th>category_name</th>\n",
       "    </tr>\n",
       "  </thead>\n",
       "  <tbody>\n",
       "    <tr>\n",
       "      <th>0</th>\n",
       "      <td>uq5LClQN3cE</td>\n",
       "      <td>안녕하세요 보겸입니다</td>\n",
       "      <td>2020-08-09 09:32:48+00:00</td>\n",
       "      <td>UCu9BCtGIEr73LXZsKmoujKw</td>\n",
       "      <td>보겸 BK</td>\n",
       "      <td>24</td>\n",
       "      <td>2020-08-12 00:00:00+00:00</td>\n",
       "      <td>보겸|bokyem</td>\n",
       "      <td>5947503</td>\n",
       "      <td>53326</td>\n",
       "      <td>105756</td>\n",
       "      <td>139946</td>\n",
       "      <td>False</td>\n",
       "      <td>False</td>\n",
       "      <td>NaN</td>\n",
       "      <td>24.0</td>\n",
       "      <td>Entertainment</td>\n",
       "    </tr>\n",
       "  </tbody>\n",
       "</table>\n",
       "</div>"
      ],
      "text/plain": [
       "      video_id        title               publishedAt  \\\n",
       "0  uq5LClQN3cE  안녕하세요 보겸입니다 2020-08-09 09:32:48+00:00   \n",
       "\n",
       "                  channelId channelTitle  categoryId  \\\n",
       "0  UCu9BCtGIEr73LXZsKmoujKw        보겸 BK          24   \n",
       "\n",
       "              trending_date       tags  view_count  likes  dislikes  \\\n",
       "0 2020-08-12 00:00:00+00:00  보겸|bokyem     5947503  53326    105756   \n",
       "\n",
       "   comment_count  comments_disabled  ratings_disabled description    id  \\\n",
       "0         139946              False             False         NaN  24.0   \n",
       "\n",
       "   category_name  \n",
       "0  Entertainment  "
      ]
     },
     "execution_count": 32,
     "metadata": {},
     "output_type": "execute_result"
    }
   ],
   "source": [
    "print(df1.loc[:,['categoryId','id']].head(5))\n",
    "df1.drop('id',axis=1)\n",
    "df1.head(1)"
   ]
  },
  {
   "cell_type": "code",
   "execution_count": 33,
   "id": "7cf408a0",
   "metadata": {},
   "outputs": [
    {
     "name": "stdout",
     "output_type": "stream",
     "text": [
      "(137554, 17) \n",
      "\n",
      "<class 'pandas.core.frame.DataFrame'>\n",
      "Int64Index: 137554 entries, 0 to 137553\n",
      "Data columns (total 17 columns):\n",
      " #   Column             Non-Null Count   Dtype              \n",
      "---  ------             --------------   -----              \n",
      " 0   video_id           137554 non-null  object             \n",
      " 1   title              137554 non-null  object             \n",
      " 2   publishedAt        137554 non-null  datetime64[ns, UTC]\n",
      " 3   channelId          137554 non-null  object             \n",
      " 4   channelTitle       137554 non-null  object             \n",
      " 5   categoryId         137554 non-null  int64              \n",
      " 6   trending_date      137554 non-null  datetime64[ns, UTC]\n",
      " 7   tags               137554 non-null  object             \n",
      " 8   view_count         137554 non-null  int64              \n",
      " 9   likes              137554 non-null  int64              \n",
      " 10  dislikes           137554 non-null  int64              \n",
      " 11  comment_count      137554 non-null  int64              \n",
      " 12  comments_disabled  137554 non-null  bool               \n",
      " 13  ratings_disabled   137554 non-null  bool               \n",
      " 14  description        134011 non-null  object             \n",
      " 15  id                 137315 non-null  float64            \n",
      " 16  category_name      137315 non-null  object             \n",
      "dtypes: bool(2), datetime64[ns, UTC](2), float64(1), int64(5), object(7)\n",
      "memory usage: 17.1+ MB\n",
      "None\n"
     ]
    }
   ],
   "source": [
    "print(df1.shape,'\\n')\n",
    "print(df1.info())"
   ]
  },
  {
   "cell_type": "code",
   "execution_count": null,
   "id": "4f228981",
   "metadata": {},
   "outputs": [],
   "source": []
  },
  {
   "cell_type": "markdown",
   "id": "dd0371da",
   "metadata": {},
   "source": [
    "### df의 category_name의 결측값"
   ]
  },
  {
   "cell_type": "code",
   "execution_count": 82,
   "id": "3ab82361",
   "metadata": {
    "scrolled": true
   },
   "outputs": [
    {
     "data": {
      "text/plain": [
       "array(['Entertainment', 'Film & Animation', 'People & Blogs', ...,\n",
       "       'People & Blogs', 'Music', 'People & Blogs'], dtype=object)"
      ]
     },
     "execution_count": 82,
     "metadata": {},
     "output_type": "execute_result"
    }
   ],
   "source": [
    "# category_name의 고유한 값\n",
    "\n",
    "# .values : 전체 값들이 중복해서 나온다.\n",
    "df1.category_name.values"
   ]
  },
  {
   "cell_type": "code",
   "execution_count": 80,
   "id": "6eaea896",
   "metadata": {
    "scrolled": true
   },
   "outputs": [
    {
     "data": {
      "text/plain": [
       "array(['Entertainment', 'Film & Animation', 'People & Blogs', 'Music',\n",
       "       'Comedy', 'Education', 'News & Politics', 'Sports', nan, 'Gaming',\n",
       "       'Travel & Events', 'Pets & Animals', 'Science & Technology',\n",
       "       'Howto & Style', 'Autos & Vehicles'], dtype=object)"
      ]
     },
     "execution_count": 80,
     "metadata": {},
     "output_type": "execute_result"
    }
   ],
   "source": [
    "# .unique() : 고유한 값들만 나온다.\n",
    "\n",
    "df1.category_name.unique() # 주의! <- () 괄호가 매우 필요하다.\n",
    "# df1.category_name.unique # <- 이상한 값이 출력\n",
    "# df1.category_name.values.unique # <- dataframe/series.unique를 해야한다.\n",
    "# 즉, numpy객체는 안되고 pandas객체만 가지고 있는 함수이다."
   ]
  },
  {
   "cell_type": "code",
   "execution_count": 104,
   "id": "39b0a7a6",
   "metadata": {},
   "outputs": [
    {
     "name": "stdout",
     "output_type": "stream",
     "text": [
      "0      1\n",
      "1      2\n",
      "2      3\n",
      "3    NaN\n",
      "dtype: object\n"
     ]
    },
    {
     "ename": "TypeError",
     "evalue": "'<' not supported between instances of 'int' and 'str'",
     "output_type": "error",
     "traceback": [
      "\u001b[0;31m---------------------------------------------------------------------------\u001b[0m",
      "\u001b[0;31mTypeError\u001b[0m                                 Traceback (most recent call last)",
      "Input \u001b[0;32mIn [104]\u001b[0m, in \u001b[0;36m<cell line: 10>\u001b[0;34m()\u001b[0m\n\u001b[1;32m      7\u001b[0m x \u001b[38;5;241m=\u001b[39m pd\u001b[38;5;241m.\u001b[39mSeries([\u001b[38;5;124m'\u001b[39m\u001b[38;5;124m1\u001b[39m\u001b[38;5;124m'\u001b[39m,\u001b[38;5;241m2\u001b[39m,\u001b[38;5;241m3\u001b[39m,np\u001b[38;5;241m.\u001b[39mnan])\n\u001b[1;32m      8\u001b[0m \u001b[38;5;28mprint\u001b[39m(x)\n\u001b[0;32m---> 10\u001b[0m \u001b[38;5;28mprint\u001b[39m(\u001b[43mnp\u001b[49m\u001b[38;5;241;43m.\u001b[39;49m\u001b[43munique\u001b[49m\u001b[43m(\u001b[49m\u001b[43mx\u001b[49m\u001b[43m)\u001b[49m)\n",
      "File \u001b[0;32m<__array_function__ internals>:5\u001b[0m, in \u001b[0;36munique\u001b[0;34m(*args, **kwargs)\u001b[0m\n",
      "File \u001b[0;32m~/opt/anaconda3/lib/python3.9/site-packages/numpy/lib/arraysetops.py:272\u001b[0m, in \u001b[0;36munique\u001b[0;34m(ar, return_index, return_inverse, return_counts, axis)\u001b[0m\n\u001b[1;32m    270\u001b[0m ar \u001b[38;5;241m=\u001b[39m np\u001b[38;5;241m.\u001b[39masanyarray(ar)\n\u001b[1;32m    271\u001b[0m \u001b[38;5;28;01mif\u001b[39;00m axis \u001b[38;5;129;01mis\u001b[39;00m \u001b[38;5;28;01mNone\u001b[39;00m:\n\u001b[0;32m--> 272\u001b[0m     ret \u001b[38;5;241m=\u001b[39m \u001b[43m_unique1d\u001b[49m\u001b[43m(\u001b[49m\u001b[43mar\u001b[49m\u001b[43m,\u001b[49m\u001b[43m \u001b[49m\u001b[43mreturn_index\u001b[49m\u001b[43m,\u001b[49m\u001b[43m \u001b[49m\u001b[43mreturn_inverse\u001b[49m\u001b[43m,\u001b[49m\u001b[43m \u001b[49m\u001b[43mreturn_counts\u001b[49m\u001b[43m)\u001b[49m\n\u001b[1;32m    273\u001b[0m     \u001b[38;5;28;01mreturn\u001b[39;00m _unpack_tuple(ret)\n\u001b[1;32m    275\u001b[0m \u001b[38;5;66;03m# axis was specified and not None\u001b[39;00m\n",
      "File \u001b[0;32m~/opt/anaconda3/lib/python3.9/site-packages/numpy/lib/arraysetops.py:333\u001b[0m, in \u001b[0;36m_unique1d\u001b[0;34m(ar, return_index, return_inverse, return_counts)\u001b[0m\n\u001b[1;32m    331\u001b[0m     aux \u001b[38;5;241m=\u001b[39m ar[perm]\n\u001b[1;32m    332\u001b[0m \u001b[38;5;28;01melse\u001b[39;00m:\n\u001b[0;32m--> 333\u001b[0m     \u001b[43mar\u001b[49m\u001b[38;5;241;43m.\u001b[39;49m\u001b[43msort\u001b[49m\u001b[43m(\u001b[49m\u001b[43m)\u001b[49m\n\u001b[1;32m    334\u001b[0m     aux \u001b[38;5;241m=\u001b[39m ar\n\u001b[1;32m    335\u001b[0m mask \u001b[38;5;241m=\u001b[39m np\u001b[38;5;241m.\u001b[39mempty(aux\u001b[38;5;241m.\u001b[39mshape, dtype\u001b[38;5;241m=\u001b[39mnp\u001b[38;5;241m.\u001b[39mbool_)\n",
      "\u001b[0;31mTypeError\u001b[0m: '<' not supported between instances of 'int' and 'str'"
     ]
    }
   ],
   "source": [
    "# np.unique() : 참고로 numpy의 unique() 함수의 경우에는\n",
    "# pandas객체를 사용하려면 조건이 필요하다.\n",
    "# 그것은 바로 데이터프레임이더라도 한 열로 존재하며\n",
    "# 열안의 모든 원소들의 데이터유형이 동일해야하는 것이다.\n",
    "# 왜냐하면 unique()의 함수 구조가 내부에서 하나씩 등호(==)로 비교를 하기 때문이다.\n",
    "# 그런데 자료형이 다르면 서로 비교가 불가하다.\n",
    "\n",
    "# 예를 들어, str와 int가 있는 자료의 경우에는\n",
    "x = pd.Series(['1',2,3,np.nan])\n",
    "print(x)\n",
    "\n",
    "print(np.unique(x)) # 오류가 발생한다."
   ]
  },
  {
   "cell_type": "code",
   "execution_count": 136,
   "id": "9808ea4d",
   "metadata": {},
   "outputs": [
    {
     "name": "stdout",
     "output_type": "stream",
     "text": [
      "False \n",
      "\n",
      "['Autos & Vehicles' 'Comedy' 'Education' 'Entertainment'\n",
      " 'Film & Animation' 'Gaming' 'Howto & Style' 'Music' 'News & Politics'\n",
      " 'People & Blogs' 'Pets & Animals' 'Science & Technology' 'Sports'\n",
      " 'Travel & Events' 'nan']\n"
     ]
    }
   ],
   "source": [
    "# 그리고 df1.category_name의 경우에는 np.nan이라는 str이 아닌 자료형이 있기 때문에\n",
    "# str로 변환이 필요하다.\n",
    "\n",
    "print((df1.category_name.astype('str') == df1.category_name).all(),'\\n')\n",
    "print(np.unique(df1.category_name.astype('str')))"
   ]
  },
  {
   "cell_type": "code",
   "execution_count": 138,
   "id": "21e419ec",
   "metadata": {},
   "outputs": [
    {
     "name": "stdout",
     "output_type": "stream",
     "text": [
      "['Entertainment' 'Film & Animation' 'People & Blogs' 'Music' 'Comedy'\n",
      " 'Education' 'News & Politics' 'Sports' nan 'Gaming' 'Travel & Events'\n",
      " 'Pets & Animals' 'Science & Technology' 'Howto & Style'\n",
      " 'Autos & Vehicles'] \n",
      "\n",
      "['Autos & Vehicles' 'Comedy' 'Education' 'Entertainment'\n",
      " 'Film & Animation' 'Gaming' 'Howto & Style' 'Music' 'News & Politics'\n",
      " 'People & Blogs' 'Pets & Animals' 'Science & Technology' 'Sports'\n",
      " 'Travel & Events' 'nan']\n"
     ]
    }
   ],
   "source": [
    "# 다시 한 번 정리하자면,\n",
    "\n",
    "# 1. df.unique()는 np.nan이 있어도(자료형이 달라도)\n",
    "# 이를 고려해서 unique한 것을 반환한다.\n",
    "print(df1.category_name.unique(), '\\n')\n",
    "\n",
    "# 2. np.unique()는 np.nan을 str형태로 바꿔주어야(자료형이 같아야)\n",
    "# 이용이 가능하다.\n",
    "print(np.unique(df1.category_name.astype('str'))) # 참고로 정렬까지 해준다.\n",
    "\n",
    "# 확인해보면 1은 nan으로 2는 'nan'으로 저장됨을 알 수 있다."
   ]
  },
  {
   "cell_type": "code",
   "execution_count": 139,
   "id": "91911a58",
   "metadata": {},
   "outputs": [
    {
     "name": "stdout",
     "output_type": "stream",
     "text": [
      "15 15\n"
     ]
    }
   ],
   "source": [
    "# 갯수는 모두 nan('nan')을 포함하여 15개씩이다.\n",
    "\n",
    "print(len(df1.category_name.unique()), len(np.unique(df1.category_name.astype('str'))))"
   ]
  },
  {
   "cell_type": "code",
   "execution_count": null,
   "id": "b614a3cb",
   "metadata": {},
   "outputs": [],
   "source": []
  },
  {
   "cell_type": "markdown",
   "id": "6fcab1e8",
   "metadata": {},
   "source": [
    "# 참고 : pandas와 numpy의 nan"
   ]
  },
  {
   "cell_type": "code",
   "execution_count": 39,
   "id": "886d6ce4",
   "metadata": {},
   "outputs": [],
   "source": [
    "import pandas as pd\n",
    "import numpy as np"
   ]
  },
  {
   "cell_type": "code",
   "execution_count": 140,
   "id": "ccd95a3d",
   "metadata": {
    "scrolled": false
   },
   "outputs": [
    {
     "data": {
      "text/html": [
       "<div>\n",
       "<style scoped>\n",
       "    .dataframe tbody tr th:only-of-type {\n",
       "        vertical-align: middle;\n",
       "    }\n",
       "\n",
       "    .dataframe tbody tr th {\n",
       "        vertical-align: top;\n",
       "    }\n",
       "\n",
       "    .dataframe thead th {\n",
       "        text-align: right;\n",
       "    }\n",
       "</style>\n",
       "<table border=\"1\" class=\"dataframe\">\n",
       "  <thead>\n",
       "    <tr style=\"text-align: right;\">\n",
       "      <th></th>\n",
       "      <th>a</th>\n",
       "      <th>b</th>\n",
       "      <th>c</th>\n",
       "    </tr>\n",
       "  </thead>\n",
       "  <tbody>\n",
       "    <tr>\n",
       "      <th>0</th>\n",
       "      <td>1</td>\n",
       "      <td>4</td>\n",
       "      <td>NaN</td>\n",
       "    </tr>\n",
       "    <tr>\n",
       "      <th>1</th>\n",
       "      <td>2</td>\n",
       "      <td>5</td>\n",
       "      <td>4.0</td>\n",
       "    </tr>\n",
       "    <tr>\n",
       "      <th>2</th>\n",
       "      <td>3</td>\n",
       "      <td>6</td>\n",
       "      <td>0.0</td>\n",
       "    </tr>\n",
       "  </tbody>\n",
       "</table>\n",
       "</div>"
      ],
      "text/plain": [
       "   a  b    c\n",
       "0  1  4  NaN\n",
       "1  2  5  4.0\n",
       "2  3  6  0.0"
      ]
     },
     "execution_count": 140,
     "metadata": {},
     "output_type": "execute_result"
    }
   ],
   "source": [
    "d = pd.DataFrame({\"a\":(1,2,3),'b':[4,5,6]})\n",
    "d1 = pd.DataFrame({\"a\":(2,3),'c':[4,0]})\n",
    "d2 = pd.merge(d,d1,how='outer')\n",
    "d2"
   ]
  },
  {
   "cell_type": "code",
   "execution_count": 142,
   "id": "89db4944",
   "metadata": {
    "scrolled": true
   },
   "outputs": [
    {
     "data": {
      "text/html": [
       "<div>\n",
       "<style scoped>\n",
       "    .dataframe tbody tr th:only-of-type {\n",
       "        vertical-align: middle;\n",
       "    }\n",
       "\n",
       "    .dataframe tbody tr th {\n",
       "        vertical-align: top;\n",
       "    }\n",
       "\n",
       "    .dataframe thead th {\n",
       "        text-align: right;\n",
       "    }\n",
       "</style>\n",
       "<table border=\"1\" class=\"dataframe\">\n",
       "  <thead>\n",
       "    <tr style=\"text-align: right;\">\n",
       "      <th></th>\n",
       "      <th>a</th>\n",
       "      <th>b</th>\n",
       "      <th>c</th>\n",
       "    </tr>\n",
       "  </thead>\n",
       "  <tbody>\n",
       "    <tr>\n",
       "      <th>0</th>\n",
       "      <td>NaN</td>\n",
       "      <td>4</td>\n",
       "      <td>NaN</td>\n",
       "    </tr>\n",
       "    <tr>\n",
       "      <th>1</th>\n",
       "      <td>2.0</td>\n",
       "      <td>5</td>\n",
       "      <td>4.0</td>\n",
       "    </tr>\n",
       "    <tr>\n",
       "      <th>2</th>\n",
       "      <td>3.0</td>\n",
       "      <td>6</td>\n",
       "      <td>0.0</td>\n",
       "    </tr>\n",
       "  </tbody>\n",
       "</table>\n",
       "</div>"
      ],
      "text/plain": [
       "     a  b    c\n",
       "0  NaN  4  NaN\n",
       "1  2.0  5  4.0\n",
       "2  3.0  6  0.0"
      ]
     },
     "execution_count": 142,
     "metadata": {},
     "output_type": "execute_result"
    }
   ],
   "source": [
    "d2.iat[0,0]=np.nan\n",
    "d2"
   ]
  },
  {
   "cell_type": "code",
   "execution_count": 147,
   "id": "edfab36e",
   "metadata": {},
   "outputs": [
    {
     "name": "stdout",
     "output_type": "stream",
     "text": [
      "False \n",
      "\n",
      "<class 'float'>\n"
     ]
    }
   ],
   "source": [
    "# pandas의 내부함수인 merge를 해서 나타나는 NaN과\n",
    "# numpy의 내부함수인 nan을 통해 생성한 NaN은 동일하다.\n",
    "# (참고) from numpy import nan as NA \n",
    "\n",
    "print(np.nan == np.nan,'\\n') # 그러나 특이하게 두 값은 다르다.\n",
    "# 이는 특이하게 nan이라는 자료가 비교가 불가능한 값이기 때문이다.\n",
    "print(type(np.nan)) # 그러나 또 특이하게 float의 자료형이기도 하다."
   ]
  },
  {
   "cell_type": "code",
   "execution_count": 148,
   "id": "f265e026",
   "metadata": {},
   "outputs": [
    {
     "name": "stdout",
     "output_type": "stream",
     "text": [
      "None\n",
      "<class 'NoneType'>\n",
      "True\n"
     ]
    }
   ],
   "source": [
    "# 재미있는 건 None이라는 값도 있는 것이다.\n",
    "\n",
    "print(None)\n",
    "print(type(None)) # NoneType 새로운 형태\n",
    "print(None==None) # 비교가 가능하다.\n",
    "\n",
    "# 아래 글을 참고 : https://purplechip.tistory.com/5\n",
    "\n",
    "# NA(Not Available)\n",
    "# NaN(Not a Nummber)\n",
    "# None(빈값)\n",
    "\n",
    "# 본래 R에서 이렇게 정의되는 것 같으나 파이썬에서는\n",
    "# NA와 NaN이 같이 NaN으로 생각되는 것 같다."
   ]
  },
  {
   "cell_type": "code",
   "execution_count": 58,
   "id": "3deb5836",
   "metadata": {
    "scrolled": true
   },
   "outputs": [
    {
     "ename": "SyntaxError",
     "evalue": "invalid syntax (3205357415.py, line 1)",
     "output_type": "error",
     "traceback": [
      "\u001b[0;36m  Input \u001b[0;32mIn [58]\u001b[0;36m\u001b[0m\n\u001b[0;31m    isnull vs isna\u001b[0m\n\u001b[0m           ^\u001b[0m\n\u001b[0;31mSyntaxError\u001b[0m\u001b[0;31m:\u001b[0m invalid syntax\n"
     ]
    }
   ],
   "source": [
    "# isnull vs isna <- 같다!"
   ]
  },
  {
   "cell_type": "code",
   "execution_count": 154,
   "id": "e1aa7193",
   "metadata": {},
   "outputs": [
    {
     "data": {
      "text/plain": [
       "0    1.0\n",
       "1    2.0\n",
       "2    3.0\n",
       "3    NaN\n",
       "dtype: float64"
      ]
     },
     "execution_count": 154,
     "metadata": {},
     "output_type": "execute_result"
    }
   ],
   "source": [
    "x = pd.Series([1,2,3,np.nan])\n",
    "x"
   ]
  },
  {
   "cell_type": "code",
   "execution_count": 155,
   "id": "a6d220a2",
   "metadata": {},
   "outputs": [
    {
     "data": {
      "text/plain": [
       "0    False\n",
       "1    False\n",
       "2    False\n",
       "3     True\n",
       "dtype: bool"
      ]
     },
     "execution_count": 155,
     "metadata": {},
     "output_type": "execute_result"
    }
   ],
   "source": [
    "x.isnull()"
   ]
  },
  {
   "cell_type": "code",
   "execution_count": 156,
   "id": "fd1627a3",
   "metadata": {},
   "outputs": [
    {
     "data": {
      "text/plain": [
       "0    False\n",
       "1    False\n",
       "2    False\n",
       "3     True\n",
       "dtype: bool"
      ]
     },
     "execution_count": 156,
     "metadata": {},
     "output_type": "execute_result"
    }
   ],
   "source": [
    "x.isna()"
   ]
  },
  {
   "cell_type": "code",
   "execution_count": null,
   "id": "e0e896d5",
   "metadata": {},
   "outputs": [],
   "source": []
  },
  {
   "cell_type": "markdown",
   "id": "881a841e",
   "metadata": {},
   "source": [
    "### df의 category_name의 결측값(Continued...)"
   ]
  },
  {
   "cell_type": "code",
   "execution_count": 157,
   "id": "77fc66e0",
   "metadata": {},
   "outputs": [
    {
     "data": {
      "text/html": [
       "<div>\n",
       "<style scoped>\n",
       "    .dataframe tbody tr th:only-of-type {\n",
       "        vertical-align: middle;\n",
       "    }\n",
       "\n",
       "    .dataframe tbody tr th {\n",
       "        vertical-align: top;\n",
       "    }\n",
       "\n",
       "    .dataframe thead th {\n",
       "        text-align: right;\n",
       "    }\n",
       "</style>\n",
       "<table border=\"1\" class=\"dataframe\">\n",
       "  <thead>\n",
       "    <tr style=\"text-align: right;\">\n",
       "      <th></th>\n",
       "      <th>categoryId</th>\n",
       "      <th>category_name</th>\n",
       "    </tr>\n",
       "  </thead>\n",
       "  <tbody>\n",
       "    <tr>\n",
       "      <th>17</th>\n",
       "      <td>29</td>\n",
       "      <td>NaN</td>\n",
       "    </tr>\n",
       "    <tr>\n",
       "      <th>150</th>\n",
       "      <td>29</td>\n",
       "      <td>NaN</td>\n",
       "    </tr>\n",
       "    <tr>\n",
       "      <th>303</th>\n",
       "      <td>29</td>\n",
       "      <td>NaN</td>\n",
       "    </tr>\n",
       "    <tr>\n",
       "      <th>476</th>\n",
       "      <td>29</td>\n",
       "      <td>NaN</td>\n",
       "    </tr>\n",
       "    <tr>\n",
       "      <th>640</th>\n",
       "      <td>29</td>\n",
       "      <td>NaN</td>\n",
       "    </tr>\n",
       "    <tr>\n",
       "      <th>...</th>\n",
       "      <td>...</td>\n",
       "      <td>...</td>\n",
       "    </tr>\n",
       "    <tr>\n",
       "      <th>133281</th>\n",
       "      <td>29</td>\n",
       "      <td>NaN</td>\n",
       "    </tr>\n",
       "    <tr>\n",
       "      <th>133499</th>\n",
       "      <td>29</td>\n",
       "      <td>NaN</td>\n",
       "    </tr>\n",
       "    <tr>\n",
       "      <th>133700</th>\n",
       "      <td>29</td>\n",
       "      <td>NaN</td>\n",
       "    </tr>\n",
       "    <tr>\n",
       "      <th>133938</th>\n",
       "      <td>29</td>\n",
       "      <td>NaN</td>\n",
       "    </tr>\n",
       "    <tr>\n",
       "      <th>134151</th>\n",
       "      <td>29</td>\n",
       "      <td>NaN</td>\n",
       "    </tr>\n",
       "  </tbody>\n",
       "</table>\n",
       "<p>239 rows × 2 columns</p>\n",
       "</div>"
      ],
      "text/plain": [
       "        categoryId category_name\n",
       "17              29           NaN\n",
       "150             29           NaN\n",
       "303             29           NaN\n",
       "476             29           NaN\n",
       "640             29           NaN\n",
       "...            ...           ...\n",
       "133281          29           NaN\n",
       "133499          29           NaN\n",
       "133700          29           NaN\n",
       "133938          29           NaN\n",
       "134151          29           NaN\n",
       "\n",
       "[239 rows x 2 columns]"
      ]
     },
     "execution_count": 157,
     "metadata": {},
     "output_type": "execute_result"
    }
   ],
   "source": [
    "# categoryId = 29일 때, category_name의 결측발생\n",
    "\n",
    "df1[df1.loc[:,'categoryId']==29].loc[:,['categoryId','category_name']]"
   ]
  },
  {
   "cell_type": "code",
   "execution_count": 158,
   "id": "790099b1",
   "metadata": {},
   "outputs": [
    {
     "data": {
      "text/plain": [
       "239"
      ]
     },
     "execution_count": 158,
     "metadata": {},
     "output_type": "execute_result"
    }
   ],
   "source": [
    "# category_name의 결측 총 갯수\n",
    "\n",
    "df1.category_name.isnull().sum()"
   ]
  },
  {
   "cell_type": "code",
   "execution_count": 159,
   "id": "a5f840b3",
   "metadata": {
    "scrolled": true
   },
   "outputs": [
    {
     "data": {
      "text/plain": [
       "['(고화질) 보너스편!! 실제상황 1인칭 경찰 시점, 응급환자 이송중인 구급차 길을 뚫어주는 싸이카 교통경찰과 시민들',\n",
       " '2020년 제야의 종 온라인 타종행사 | 2021년 새해맞이 | 보신각 현장 행사는 진행하지 않습니다.',\n",
       " '2020년 제야의 종 온라인 타종행사 | 보신각 현장 행사는 진행하지 않습니다.',\n",
       " '6.25전쟁 70주년 기념 유엔참전용사 감사영상 - Thanks to UN veterans.',\n",
       " 'BTS (방탄소년단) at Global Citizen Live Concert - Permission to Dance | #GlobalCitizenLive',\n",
       " 'BTS Performs Permission to Dance in Seoul to open Global Citizen Live | Global Citizen Live',\n",
       " 'BTS Shine Spotlight on the United Nations as Envoys of the President of the Republic of Korea',\n",
       " 'Coldplay and BTS Share New Song My Universe | Global Citizen Live',\n",
       " '[4K][ENG Sub] BTS - With Seoul, 전지적서울시점 시즌3 하이라이트 모음',\n",
       " '[Eng sub] 🥦팥시루떡[Adzuki Bean Rice Cake]💛밥솥을 이용해 밥하듯 쉽게해요💛칼밥상#183',\n",
       " '[김광일의 입] 文 지지층, “니가 나한테 이럴 수 있어?”',\n",
       " '[단독영상] 부산 홈플러스 연산점 5층 주차장에서 차량 추락',\n",
       " '[법륜스님의 즉문즉설 제 1670회] 남편과 함께 있을 때 가슴이 답답하고 머리가 멍합니다',\n",
       " '[법륜스님의 즉문즉설 제 1706회] 저는 한이 많이 쌓여있어요',\n",
       " '가능하시죠?',\n",
       " '고등학생 심정지 발생 그리고 숨은 영웅 2탄 살려야한다',\n",
       " '도경수 병장 30문 30답',\n",
       " '동선 숨겼다가 고발을 당했다. 2억이 나왔다ㅣ넋 나간 가족',\n",
       " '동지팥죽을 여러 번거로운 과정없이 안쳐주기만 하면 알아서 다 해주는 세상쉬운 팥죽끓이기. 칼밥상#267',\n",
       " '리얼먹방:) 로제 떡볶이!(ft. 단무지) | Rose Tteokbokki | Korea tteok | Danmuji Muchim | REAL SOUND | ASMR MUKBANG',\n",
       " '마감 5분 전',\n",
       " '방탄소년단 - 지속가능발전목표 (SDGs) 모멘트(moment) -  | 유엔',\n",
       " '사막마을 벼 수확(6번째 이야기).  벼 탈곡기',\n",
       " '사막마을 벼수확(5번째 이야기) / 참 까지 얻어먹고~~',\n",
       " '서울시청 가서 세리머니 하는 홍보맨ㅣ충주사과를 찾아라 서울편',\n",
       " '왜 지우고 가셨어요?',\n",
       " '전한길 x 홍보맨 1편',\n",
       " '전한길 x 홍보맨 2편',\n",
       " '제가 전생에 무슨 죄가 있어 이 고생을 할까요?',\n",
       " '충주시 새로운 전문관 영입 (feat. 산체스)',\n",
       " '페트병 색깔이 투명해지고 있다고? ㅣ환경부 x 사물궁이',\n",
       " '폭우로 인한 침수 상황시 대처 방법은? [행정안전부X사물궁이]',\n",
       " '흔한 공무원의 사과즙 먹방',\n",
       " '🥦팥시루떡[Adzuki Bean Rice Cake]💛밥솥을 이용해 밥하듯 쉽게해요💛칼밥상#183']"
      ]
     },
     "execution_count": 159,
     "metadata": {},
     "output_type": "execute_result"
    }
   ],
   "source": [
    "# category_name이 결측값인 title의 값\n",
    "\n",
    "list(np.unique(df1[df1.category_name.isnull()].title))"
   ]
  },
  {
   "cell_type": "code",
   "execution_count": 160,
   "id": "ee965a04",
   "metadata": {},
   "outputs": [
    {
     "name": "stdout",
     "output_type": "stream",
     "text": [
      "False\n",
      "False\n"
     ]
    }
   ],
   "source": [
    "# category_name 결측값 채우기\n",
    "\n",
    "# 1. fillna()\n",
    "df2 = df1.fillna({'category_name':'Nonprofits & Activism'})\n",
    "print(df2.category_name.isna().any())\n",
    "\n",
    "# 2. np.nan != np.nan 이용\n",
    "df3 = df1\n",
    "df3.loc[df3['category_name'] != df3['category_name'], 'category_name'] = 'Nonprofits & Activism'\n",
    "print(df3.category_name.isna().any())"
   ]
  },
  {
   "cell_type": "code",
   "execution_count": null,
   "id": "c620d46a",
   "metadata": {},
   "outputs": [],
   "source": []
  },
  {
   "cell_type": "markdown",
   "id": "96ec6914",
   "metadata": {},
   "source": [
    "## 4. 요약통계량"
   ]
  },
  {
   "cell_type": "code",
   "execution_count": 161,
   "id": "81fcbbdd",
   "metadata": {},
   "outputs": [
    {
     "data": {
      "text/html": [
       "<div>\n",
       "<style scoped>\n",
       "    .dataframe tbody tr th:only-of-type {\n",
       "        vertical-align: middle;\n",
       "    }\n",
       "\n",
       "    .dataframe tbody tr th {\n",
       "        vertical-align: top;\n",
       "    }\n",
       "\n",
       "    .dataframe thead th {\n",
       "        text-align: right;\n",
       "    }\n",
       "</style>\n",
       "<table border=\"1\" class=\"dataframe\">\n",
       "  <thead>\n",
       "    <tr style=\"text-align: right;\">\n",
       "      <th></th>\n",
       "      <th>categoryId</th>\n",
       "      <th>view_count</th>\n",
       "      <th>likes</th>\n",
       "      <th>dislikes</th>\n",
       "      <th>comment_count</th>\n",
       "      <th>id</th>\n",
       "    </tr>\n",
       "  </thead>\n",
       "  <tbody>\n",
       "    <tr>\n",
       "      <th>count</th>\n",
       "      <td>137554.000000</td>\n",
       "      <td>1.375540e+05</td>\n",
       "      <td>1.375540e+05</td>\n",
       "      <td>137554.000000</td>\n",
       "      <td>1.375540e+05</td>\n",
       "      <td>137315.000000</td>\n",
       "    </tr>\n",
       "    <tr>\n",
       "      <th>mean</th>\n",
       "      <td>20.426843</td>\n",
       "      <td>1.618720e+06</td>\n",
       "      <td>7.406458e+04</td>\n",
       "      <td>870.091957</td>\n",
       "      <td>8.841621e+03</td>\n",
       "      <td>20.411921</td>\n",
       "    </tr>\n",
       "    <tr>\n",
       "      <th>std</th>\n",
       "      <td>6.267271</td>\n",
       "      <td>6.166372e+06</td>\n",
       "      <td>4.292023e+05</td>\n",
       "      <td>9655.556540</td>\n",
       "      <td>1.125411e+05</td>\n",
       "      <td>6.262499</td>\n",
       "    </tr>\n",
       "    <tr>\n",
       "      <th>min</th>\n",
       "      <td>1.000000</td>\n",
       "      <td>0.000000e+00</td>\n",
       "      <td>0.000000e+00</td>\n",
       "      <td>0.000000</td>\n",
       "      <td>0.000000e+00</td>\n",
       "      <td>1.000000</td>\n",
       "    </tr>\n",
       "    <tr>\n",
       "      <th>25%</th>\n",
       "      <td>19.000000</td>\n",
       "      <td>3.356400e+05</td>\n",
       "      <td>5.743000e+03</td>\n",
       "      <td>0.000000</td>\n",
       "      <td>5.470000e+02</td>\n",
       "      <td>19.000000</td>\n",
       "    </tr>\n",
       "    <tr>\n",
       "      <th>50%</th>\n",
       "      <td>23.000000</td>\n",
       "      <td>6.521940e+05</td>\n",
       "      <td>1.157800e+04</td>\n",
       "      <td>129.000000</td>\n",
       "      <td>1.215000e+03</td>\n",
       "      <td>23.000000</td>\n",
       "    </tr>\n",
       "    <tr>\n",
       "      <th>75%</th>\n",
       "      <td>24.000000</td>\n",
       "      <td>1.307116e+06</td>\n",
       "      <td>2.634875e+04</td>\n",
       "      <td>350.000000</td>\n",
       "      <td>2.870000e+03</td>\n",
       "      <td>24.000000</td>\n",
       "    </tr>\n",
       "    <tr>\n",
       "      <th>max</th>\n",
       "      <td>29.000000</td>\n",
       "      <td>2.963142e+08</td>\n",
       "      <td>1.646425e+07</td>\n",
       "      <td>879358.000000</td>\n",
       "      <td>6.939302e+06</td>\n",
       "      <td>28.000000</td>\n",
       "    </tr>\n",
       "  </tbody>\n",
       "</table>\n",
       "</div>"
      ],
      "text/plain": [
       "          categoryId    view_count         likes       dislikes  \\\n",
       "count  137554.000000  1.375540e+05  1.375540e+05  137554.000000   \n",
       "mean       20.426843  1.618720e+06  7.406458e+04     870.091957   \n",
       "std         6.267271  6.166372e+06  4.292023e+05    9655.556540   \n",
       "min         1.000000  0.000000e+00  0.000000e+00       0.000000   \n",
       "25%        19.000000  3.356400e+05  5.743000e+03       0.000000   \n",
       "50%        23.000000  6.521940e+05  1.157800e+04     129.000000   \n",
       "75%        24.000000  1.307116e+06  2.634875e+04     350.000000   \n",
       "max        29.000000  2.963142e+08  1.646425e+07  879358.000000   \n",
       "\n",
       "       comment_count             id  \n",
       "count   1.375540e+05  137315.000000  \n",
       "mean    8.841621e+03      20.411921  \n",
       "std     1.125411e+05       6.262499  \n",
       "min     0.000000e+00       1.000000  \n",
       "25%     5.470000e+02      19.000000  \n",
       "50%     1.215000e+03      23.000000  \n",
       "75%     2.870000e+03      24.000000  \n",
       "max     6.939302e+06      28.000000  "
      ]
     },
     "execution_count": 161,
     "metadata": {},
     "output_type": "execute_result"
    }
   ],
   "source": [
    "df2.describe()"
   ]
  },
  {
   "cell_type": "code",
   "execution_count": 162,
   "id": "b742538c",
   "metadata": {
    "scrolled": true
   },
   "outputs": [
    {
     "name": "stdout",
     "output_type": "stream",
     "text": [
      "<class 'pandas.core.frame.DataFrame'>\n",
      "Int64Index: 137554 entries, 0 to 137553\n",
      "Data columns (total 17 columns):\n",
      " #   Column             Non-Null Count   Dtype              \n",
      "---  ------             --------------   -----              \n",
      " 0   video_id           137554 non-null  object             \n",
      " 1   title              137554 non-null  object             \n",
      " 2   publishedAt        137554 non-null  datetime64[ns, UTC]\n",
      " 3   channelId          137554 non-null  object             \n",
      " 4   channelTitle       137554 non-null  object             \n",
      " 5   categoryId         137554 non-null  int64              \n",
      " 6   trending_date      137554 non-null  datetime64[ns, UTC]\n",
      " 7   tags               137554 non-null  object             \n",
      " 8   view_count         137554 non-null  int64              \n",
      " 9   likes              137554 non-null  int64              \n",
      " 10  dislikes           137554 non-null  int64              \n",
      " 11  comment_count      137554 non-null  int64              \n",
      " 12  comments_disabled  137554 non-null  bool               \n",
      " 13  ratings_disabled   137554 non-null  bool               \n",
      " 14  description        134011 non-null  object             \n",
      " 15  id                 137315 non-null  float64            \n",
      " 16  category_name      137554 non-null  object             \n",
      "dtypes: bool(2), datetime64[ns, UTC](2), float64(1), int64(5), object(7)\n",
      "memory usage: 17.1+ MB\n"
     ]
    }
   ],
   "source": [
    "df2.info()"
   ]
  },
  {
   "cell_type": "code",
   "execution_count": null,
   "id": "a746b05d",
   "metadata": {},
   "outputs": [],
   "source": []
  },
  {
   "cell_type": "markdown",
   "id": "04105bcf",
   "metadata": {},
   "source": [
    "## 5. dataframe csv 파일로 저장"
   ]
  },
  {
   "cell_type": "code",
   "execution_count": 195,
   "id": "776357d8",
   "metadata": {},
   "outputs": [],
   "source": [
    "df2.to_csv(\"/Users/namhunkim/Downloads/youtube_data_modified2.csv\", sep=',', index=False, encoding='utf-8')"
   ]
  },
  {
   "cell_type": "code",
   "execution_count": 172,
   "id": "f0f6324a",
   "metadata": {},
   "outputs": [
    {
     "data": {
      "text/plain": [
       "'영화 : 올 더 머니#세계부자1위 #납치 #실화영화안녕하십니까\\r무비트립입니다!!\\r\\r무비트립 페이스북!\\r- https://www.facebook.com/movietripyoutube/?fref=ts\\r\\r무비트립 이메일\\r- movietripyoutube@naver.com'"
      ]
     },
     "execution_count": 172,
     "metadata": {},
     "output_type": "execute_result"
    }
   ],
   "source": [
    "df2.loc[13,'description'] # 이상하게 저장된 부분을 살펴보니 description의 '\\r' 때문인 것으로 추정된다."
   ]
  },
  {
   "cell_type": "markdown",
   "id": "935d4c91",
   "metadata": {},
   "source": [
    "### '\\r'로 인해서 csv파일이 이상하게 저장된다. 이상한 곳에서 띄어쓰기가 되어있다."
   ]
  },
  {
   "cell_type": "code",
   "execution_count": 173,
   "id": "5d7edd91",
   "metadata": {},
   "outputs": [
    {
     "name": "stdout",
     "output_type": "stream",
     "text": [
      "\r\n"
     ]
    }
   ],
   "source": [
    "print('\\r') # csv파일에 나타났던 띄어쓰기가 이 때문인 것 같다."
   ]
  },
  {
   "cell_type": "code",
   "execution_count": 192,
   "id": "bb1e55bd",
   "metadata": {},
   "outputs": [],
   "source": [
    "# description에 있는 '\\r'을 제거해준다.\n",
    "\n",
    "for i in range(df2.shape[0]):\n",
    "    if df2.loc[i,'description'] == df2.loc[i,'description']: # NaN 제외\n",
    "            df2.loc[i,'description'] = df2.loc[i,'description'].replace('\\r','')"
   ]
  },
  {
   "cell_type": "code",
   "execution_count": null,
   "id": "6dc2cd47",
   "metadata": {},
   "outputs": [],
   "source": [
    "# 혹은 불러올시에 lineterminator='\\n'을 사용하면 된다고 한다."
   ]
  },
  {
   "cell_type": "code",
   "execution_count": null,
   "id": "c8f6c9ff",
   "metadata": {},
   "outputs": [],
   "source": []
  },
  {
   "cell_type": "markdown",
   "id": "9cc166d8",
   "metadata": {},
   "source": [
    "## 6. 추가분석"
   ]
  },
  {
   "cell_type": "code",
   "execution_count": null,
   "id": "4eff2a6b",
   "metadata": {},
   "outputs": [],
   "source": [
    "...."
   ]
  },
  {
   "cell_type": "code",
   "execution_count": null,
   "id": "1a7f3782",
   "metadata": {},
   "outputs": [],
   "source": [
    "제목 채널이름 길이 상관관계"
   ]
  },
  {
   "cell_type": "code",
   "execution_count": null,
   "id": "0a7bcf32",
   "metadata": {},
   "outputs": [],
   "source": [
    "채널 << 동영상수"
   ]
  },
  {
   "cell_type": "code",
   "execution_count": null,
   "id": "f5406643",
   "metadata": {},
   "outputs": [],
   "source": [
    "group1 = 채널 인기동영상 4개 이상\n",
    "group2 = 채널 인기동영상 1개"
   ]
  },
  {
   "cell_type": "code",
   "execution_count": null,
   "id": "bb412ada",
   "metadata": {},
   "outputs": [],
   "source": [
    "cat.id.unique()"
   ]
  },
  {
   "cell_type": "code",
   "execution_count": null,
   "id": "7908af29",
   "metadata": {},
   "outputs": [],
   "source": [
    "import pandas as pd"
   ]
  },
  {
   "cell_type": "code",
   "execution_count": null,
   "id": "8aecfd37",
   "metadata": {
    "scrolled": true
   },
   "outputs": [],
   "source": [
    "x = pd.read_csv('/Users/namhunkim/Downloads/archive/USvideos.csv')\n",
    "x"
   ]
  },
  {
   "cell_type": "code",
   "execution_count": null,
   "id": "ecb2d1b1",
   "metadata": {},
   "outputs": [],
   "source": [
    "'WE' in x.title"
   ]
  },
  {
   "cell_type": "code",
   "execution_count": null,
   "id": "cbe6642b",
   "metadata": {},
   "outputs": [],
   "source": [
    "df[df['title'].str.contains('BTS')]"
   ]
  },
  {
   "cell_type": "code",
   "execution_count": null,
   "id": "d02ee06f",
   "metadata": {},
   "outputs": [],
   "source": [
    "x[x['title'].str.contains('BTS')]"
   ]
  }
 ],
 "metadata": {
  "kernelspec": {
   "display_name": "Python 3 (ipykernel)",
   "language": "python",
   "name": "python3"
  },
  "language_info": {
   "codemirror_mode": {
    "name": "ipython",
    "version": 3
   },
   "file_extension": ".py",
   "mimetype": "text/x-python",
   "name": "python",
   "nbconvert_exporter": "python",
   "pygments_lexer": "ipython3",
   "version": "3.9.12"
  }
 },
 "nbformat": 4,
 "nbformat_minor": 5
}

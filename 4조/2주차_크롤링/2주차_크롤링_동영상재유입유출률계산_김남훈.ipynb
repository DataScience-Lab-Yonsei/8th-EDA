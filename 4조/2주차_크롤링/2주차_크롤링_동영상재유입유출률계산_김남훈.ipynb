{
 "cells": [
  {
   "cell_type": "markdown",
   "id": "77f59cc9",
   "metadata": {},
   "source": [
    "# Crawling"
   ]
  },
  {
   "cell_type": "code",
   "execution_count": 16,
   "id": "b1dc7e3a",
   "metadata": {
    "scrolled": true
   },
   "outputs": [],
   "source": [
    "import requests\n",
    "from bs4 import BeautifulSoup\n",
    "import time"
   ]
  },
  {
   "cell_type": "code",
   "execution_count": 2,
   "id": "665e26a7",
   "metadata": {},
   "outputs": [],
   "source": [
    "#User-Agent 지정\n",
    "headers = {'User-Agent' : 'Mozilla/5.0 (Macintosh; Intel Mac OS X 10_15_7) AppleWebKit/537.36 (KHTML, like Gecko) Chrome/103.0.0.0 Safari/537.36'}"
   ]
  },
  {
   "cell_type": "code",
   "execution_count": null,
   "id": "42baa51f",
   "metadata": {},
   "outputs": [],
   "source": [
    "# BeautifulSoup의 경우에는 로딩시간 때문인지 혹은 광고가 안뜨는 경우가 계속 반복되서 그러는지는 몰라도\n",
    "# None이 반환되었다.\n",
    "# 따라서 Selenium을 이용하도록 하자."
   ]
  },
  {
   "cell_type": "code",
   "execution_count": 24,
   "id": "229ee06b",
   "metadata": {},
   "outputs": [],
   "source": [
    "#셀레늄 라이브러리 불러오기\n",
    "from selenium import webdriver\n",
    "\n",
    "from selenium.webdriver.chrome.service import Service\n",
    "from webdriver_manager.chrome import ChromeDriverManager\n",
    "\n",
    "#셀레늄에서 html문서가 생성될 때까지 대기하는 함수 불러오기\n",
    "from selenium.webdriver.support.ui import WebDriverWait\n",
    "\n",
    "#셀레늄에서 조건을 걸어줄 수 있는 함수 불러오기\n",
    "from selenium.webdriver.support import expected_conditions as EC\n",
    "from selenium.webdriver.common.by import By"
   ]
  },
  {
   "cell_type": "markdown",
   "id": "434c0d53",
   "metadata": {},
   "source": [
    "# 1. 광고정보 가져오기"
   ]
  },
  {
   "cell_type": "code",
   "execution_count": 30,
   "id": "b35c7fdc",
   "metadata": {},
   "outputs": [],
   "source": [
    "url = 'https://www.youtube.com/watch?v=GkChvLOTcng'\n",
    "\n",
    "# path1 = 광고갯수의 xpath\n",
    "# path2 = 광고시간의 xpath\n",
    "path1 = '/html/body/ytd-app/div[1]/ytd-page-manager/ytd-watch-flexy/div[5]/div[1]/div/div[1]/div/div/div/ytd-player/div/div/div[4]/div/div[2]/span[1]/div'\n",
    "path2 = '/html/body/ytd-app/div[1]/ytd-page-manager/ytd-watch-flexy/div[5]/div[1]/div/div[1]/div/div/div/ytd-player/div/div/div[25]/div[2]/div[1]/div[1]/span[2]/span[3]'"
   ]
  },
  {
   "cell_type": "code",
   "execution_count": 53,
   "id": "e3e21352",
   "metadata": {},
   "outputs": [],
   "source": [
    "from selenium.common.exceptions import NoSuchElementException\n",
    "import time"
   ]
  },
  {
   "cell_type": "code",
   "execution_count": 59,
   "id": "819123ab",
   "metadata": {
    "scrolled": false
   },
   "outputs": [
    {
     "name": "stdout",
     "output_type": "stream",
     "text": [
      "Ad 1 of 2 · \n",
      "\n",
      "0:15 \n",
      "\n"
     ]
    }
   ],
   "source": [
    "browser = webdriver.Chrome(executable_path='/Users/namhunkim/chromedriver')\n",
    "\n",
    "text1 = ''\n",
    "text2 = ''\n",
    "\n",
    "while True:\n",
    "    browser.get(url)\n",
    "    \n",
    "    try:\n",
    "        browser.implicitly_wait(time_to_wait=5)\n",
    "        text1 = browser.find_element(by = By.XPATH, value = path1).text\n",
    "        text2 = browser.find_element(by = By.XPATH, value = path2).text\n",
    "\n",
    "    except NoSuchElementException:\n",
    "        pass\n",
    "    else:\n",
    "        print(text1,'\\n')\n",
    "        print(text2, '\\n')\n",
    "        browser.quit()\n",
    "        break\n",
    "\n"
   ]
  },
  {
   "cell_type": "markdown",
   "id": "ee10b3af",
   "metadata": {},
   "source": [
    "## 결론적으로 대부분 2개정도에 15초분량인 것 같아서 그냥 접고 다른 정보를 가져오자!"
   ]
  },
  {
   "cell_type": "code",
   "execution_count": null,
   "id": "debb0d74",
   "metadata": {},
   "outputs": [],
   "source": []
  },
  {
   "cell_type": "code",
   "execution_count": null,
   "id": "95a8093a",
   "metadata": {},
   "outputs": [],
   "source": []
  },
  {
   "cell_type": "markdown",
   "id": "293d4fea",
   "metadata": {},
   "source": [
    "# 2. 채널별 재유입량 / 유출량 데이터 만들기"
   ]
  },
  {
   "cell_type": "code",
   "execution_count": 73,
   "id": "f0d1497d",
   "metadata": {},
   "outputs": [],
   "source": [
    "#셀레늄 라이브러리 불러오기\n",
    "from selenium import webdriver\n",
    "\n",
    "from selenium.webdriver.chrome.service import Service\n",
    "from webdriver_manager.chrome import ChromeDriverManager\n",
    "\n",
    "#키보드 자판을 입력할 수 있는 셀레늄 함수 불러오기\n",
    "from selenium.webdriver.common.keys import Keys\n",
    "#셀레늄에서 html문서가 생성될 때까지 대기하는 함수 불러오기\n",
    "from selenium.webdriver.support.ui import WebDriverWait\n",
    "\n",
    "#셀레늄에서 조건을 걸어줄 수 있는 함수 불러오기\n",
    "from selenium.webdriver.support import expected_conditions as EC\n",
    "from selenium.webdriver.common.by import By\n",
    "#시간에 따른 컨트롤이 가능한 라이브러리 불러오기\n",
    "import time\n",
    "\n",
    "# 맞는 xpath에 대한 값이 존재하지 않을 때, 발생\n",
    "# error가 아닌 exception임으로 따로 selenium의 모듈에서 가져와야한다.\n",
    "from selenium.common.exceptions import NoSuchElementException"
   ]
  },
  {
   "cell_type": "code",
   "execution_count": 35,
   "id": "3bde90c7",
   "metadata": {},
   "outputs": [],
   "source": [
    "import re\n",
    "import time\n",
    "from pandas import DataFrame\n",
    "import pandas as pd\n",
    "import numpy as np"
   ]
  },
  {
   "cell_type": "code",
   "execution_count": 36,
   "id": "b49a155e",
   "metadata": {
    "scrolled": true
   },
   "outputs": [
    {
     "data": {
      "text/html": [
       "<div>\n",
       "<style scoped>\n",
       "    .dataframe tbody tr th:only-of-type {\n",
       "        vertical-align: middle;\n",
       "    }\n",
       "\n",
       "    .dataframe tbody tr th {\n",
       "        vertical-align: top;\n",
       "    }\n",
       "\n",
       "    .dataframe thead th {\n",
       "        text-align: right;\n",
       "    }\n",
       "</style>\n",
       "<table border=\"1\" class=\"dataframe\">\n",
       "  <thead>\n",
       "    <tr style=\"text-align: right;\">\n",
       "      <th></th>\n",
       "      <th>video_id</th>\n",
       "      <th>title</th>\n",
       "      <th>publishedAt</th>\n",
       "      <th>channelId</th>\n",
       "      <th>channelTitle</th>\n",
       "      <th>trending_date</th>\n",
       "      <th>tags</th>\n",
       "      <th>view_count</th>\n",
       "      <th>likes</th>\n",
       "      <th>dislikes</th>\n",
       "      <th>comment_count</th>\n",
       "      <th>description</th>\n",
       "      <th>category_name</th>\n",
       "      <th>tag_num</th>\n",
       "      <th>period</th>\n",
       "      <th>comments_disabled</th>\n",
       "      <th>ratings_disabled</th>\n",
       "    </tr>\n",
       "  </thead>\n",
       "  <tbody>\n",
       "    <tr>\n",
       "      <th>0</th>\n",
       "      <td>uq5LClQN3cE</td>\n",
       "      <td>안녕하세요 보겸입니다</td>\n",
       "      <td>2020-08-09 09:32:48</td>\n",
       "      <td>UCu9BCtGIEr73LXZsKmoujKw</td>\n",
       "      <td>보겸 BK</td>\n",
       "      <td>2020-08-18 00:00:00</td>\n",
       "      <td>보겸|bokyem</td>\n",
       "      <td>6879571</td>\n",
       "      <td>53705</td>\n",
       "      <td>115494</td>\n",
       "      <td>128860</td>\n",
       "      <td>NaN</td>\n",
       "      <td>Entertainment</td>\n",
       "      <td>2</td>\n",
       "      <td>7</td>\n",
       "      <td>False</td>\n",
       "      <td>False</td>\n",
       "    </tr>\n",
       "  </tbody>\n",
       "</table>\n",
       "</div>"
      ],
      "text/plain": [
       "      video_id        title          publishedAt                 channelId  \\\n",
       "0  uq5LClQN3cE  안녕하세요 보겸입니다  2020-08-09 09:32:48  UCu9BCtGIEr73LXZsKmoujKw   \n",
       "\n",
       "  channelTitle        trending_date       tags  view_count  likes  dislikes  \\\n",
       "0        보겸 BK  2020-08-18 00:00:00  보겸|bokyem     6879571  53705    115494   \n",
       "\n",
       "   comment_count description  category_name  tag_num  period  \\\n",
       "0         128860         NaN  Entertainment        2       7   \n",
       "\n",
       "   comments_disabled  ratings_disabled  \n",
       "0              False             False  "
      ]
     },
     "execution_count": 36,
     "metadata": {},
     "output_type": "execute_result"
    }
   ],
   "source": [
    "df = pd.read_csv('/Users/namhunkim/Library/CloudStorage/OneDrive-연세대학교(YonseiUniversity)/DSL/EDA/data/youtube_unique_0717.csv', lineterminator='\\n')\n",
    "df.head(1)"
   ]
  },
  {
   "cell_type": "code",
   "execution_count": 37,
   "id": "0935c7c7",
   "metadata": {
    "scrolled": true
   },
   "outputs": [
    {
     "data": {
      "text/plain": [
       "2858"
      ]
     },
     "execution_count": 37,
     "metadata": {},
     "output_type": "execute_result"
    }
   ],
   "source": [
    "channel_unique = df.channelId.unique()\n",
    "len(channel_unique)"
   ]
  },
  {
   "cell_type": "markdown",
   "id": "aa3946d1",
   "metadata": {},
   "source": [
    "## 1개에 대해 일단 해보자!"
   ]
  },
  {
   "cell_type": "code",
   "execution_count": 41,
   "id": "9ca3de00",
   "metadata": {},
   "outputs": [
    {
     "data": {
      "text/plain": [
       "'https://www.youtube.com/channel/UCu9BCtGIEr73LXZsKmoujKw/videos'"
      ]
     },
     "execution_count": 41,
     "metadata": {},
     "output_type": "execute_result"
    }
   ],
   "source": [
    "url = 'https://www.youtube.com/channel/'+channel_unique[0]+'/videos'\n",
    "url"
   ]
  },
  {
   "cell_type": "code",
   "execution_count": 190,
   "id": "0a06ab51",
   "metadata": {},
   "outputs": [],
   "source": [
    "# 원격조종할 크롬창을 띄운다.\n",
    "\n",
    "browser = webdriver.Chrome(executable_path='/Users/namhunkim/chromedriver')\n",
    "browser.get(url)\n",
    "time.sleep(5) # 왠지 모르게 일반 크롬창과 달리 원격은 매우 로딩 속도가 느리다.\n",
    "# Apple Silicon에 최적화가 안되어서 그런지도 모르겠다.\n",
    "# 따라서 넉넉하게 기다리는 시간을 준다."
   ]
  },
  {
   "cell_type": "code",
   "execution_count": 191,
   "id": "ef87367b",
   "metadata": {},
   "outputs": [
    {
     "ename": "ElementNotInteractableException",
     "evalue": "Message: element not interactable\n  (Session info: chrome=103.0.5060.134)\n",
     "output_type": "error",
     "traceback": [
      "\u001b[0;31m---------------------------------------------------------------------------\u001b[0m",
      "\u001b[0;31mElementNotInteractableException\u001b[0m           Traceback (most recent call last)",
      "Input \u001b[0;32mIn [191]\u001b[0m, in \u001b[0;36m<cell line: 6>\u001b[0;34m()\u001b[0m\n\u001b[1;32m      1\u001b[0m \u001b[38;5;66;03m# 가장 최신 동영상을 클릭해서 들어간다.\u001b[39;00m\n\u001b[1;32m      2\u001b[0m \n\u001b[1;32m      3\u001b[0m \u001b[38;5;66;03m# 가장 최신 영상에 대한 x-path\u001b[39;00m\n\u001b[1;32m      4\u001b[0m path \u001b[38;5;241m=\u001b[39m \u001b[38;5;124m'\u001b[39m\u001b[38;5;124m/html/body/ytd-app/div[1]/ytd-page-manager/ytd-browse/ytd-two-column-browse-results-renderer/div[1]/ytd-section-list-renderer/div[2]/ytd-item-section-renderer/div[3]/ytd-grid-renderer/div[1]/ytd-grid-video-renderer[1]/div[1]/div[1]/div[1]/h3/a\u001b[39m\u001b[38;5;124m'\u001b[39m\n\u001b[0;32m----> 6\u001b[0m \u001b[43mbrowser\u001b[49m\u001b[38;5;241;43m.\u001b[39;49m\u001b[43mfind_element\u001b[49m\u001b[43m(\u001b[49m\u001b[43mby\u001b[49m\u001b[43m \u001b[49m\u001b[38;5;241;43m=\u001b[39;49m\u001b[43m \u001b[49m\u001b[43mBy\u001b[49m\u001b[38;5;241;43m.\u001b[39;49m\u001b[43mXPATH\u001b[49m\u001b[43m,\u001b[49m\u001b[43m \u001b[49m\u001b[43mvalue\u001b[49m\u001b[43m \u001b[49m\u001b[38;5;241;43m=\u001b[39;49m\u001b[43m \u001b[49m\u001b[43mpath\u001b[49m\u001b[43m)\u001b[49m\u001b[38;5;241;43m.\u001b[39;49m\u001b[43mclick\u001b[49m\u001b[43m(\u001b[49m\u001b[43m)\u001b[49m\n",
      "File \u001b[0;32m~/opt/anaconda3/lib/python3.9/site-packages/selenium/webdriver/remote/webelement.py:80\u001b[0m, in \u001b[0;36mWebElement.click\u001b[0;34m(self)\u001b[0m\n\u001b[1;32m     78\u001b[0m \u001b[38;5;28;01mdef\u001b[39;00m \u001b[38;5;21mclick\u001b[39m(\u001b[38;5;28mself\u001b[39m):\n\u001b[1;32m     79\u001b[0m     \u001b[38;5;124;03m\"\"\"Clicks the element.\"\"\"\u001b[39;00m\n\u001b[0;32m---> 80\u001b[0m     \u001b[38;5;28;43mself\u001b[39;49m\u001b[38;5;241;43m.\u001b[39;49m\u001b[43m_execute\u001b[49m\u001b[43m(\u001b[49m\u001b[43mCommand\u001b[49m\u001b[38;5;241;43m.\u001b[39;49m\u001b[43mCLICK_ELEMENT\u001b[49m\u001b[43m)\u001b[49m\n",
      "File \u001b[0;32m~/opt/anaconda3/lib/python3.9/site-packages/selenium/webdriver/remote/webelement.py:633\u001b[0m, in \u001b[0;36mWebElement._execute\u001b[0;34m(self, command, params)\u001b[0m\n\u001b[1;32m    631\u001b[0m     params \u001b[38;5;241m=\u001b[39m {}\n\u001b[1;32m    632\u001b[0m params[\u001b[38;5;124m'\u001b[39m\u001b[38;5;124mid\u001b[39m\u001b[38;5;124m'\u001b[39m] \u001b[38;5;241m=\u001b[39m \u001b[38;5;28mself\u001b[39m\u001b[38;5;241m.\u001b[39m_id\n\u001b[0;32m--> 633\u001b[0m \u001b[38;5;28;01mreturn\u001b[39;00m \u001b[38;5;28;43mself\u001b[39;49m\u001b[38;5;241;43m.\u001b[39;49m\u001b[43m_parent\u001b[49m\u001b[38;5;241;43m.\u001b[39;49m\u001b[43mexecute\u001b[49m\u001b[43m(\u001b[49m\u001b[43mcommand\u001b[49m\u001b[43m,\u001b[49m\u001b[43m \u001b[49m\u001b[43mparams\u001b[49m\u001b[43m)\u001b[49m\n",
      "File \u001b[0;32m~/opt/anaconda3/lib/python3.9/site-packages/selenium/webdriver/remote/webdriver.py:321\u001b[0m, in \u001b[0;36mWebDriver.execute\u001b[0;34m(self, driver_command, params)\u001b[0m\n\u001b[1;32m    319\u001b[0m response \u001b[38;5;241m=\u001b[39m \u001b[38;5;28mself\u001b[39m\u001b[38;5;241m.\u001b[39mcommand_executor\u001b[38;5;241m.\u001b[39mexecute(driver_command, params)\n\u001b[1;32m    320\u001b[0m \u001b[38;5;28;01mif\u001b[39;00m response:\n\u001b[0;32m--> 321\u001b[0m     \u001b[38;5;28;43mself\u001b[39;49m\u001b[38;5;241;43m.\u001b[39;49m\u001b[43merror_handler\u001b[49m\u001b[38;5;241;43m.\u001b[39;49m\u001b[43mcheck_response\u001b[49m\u001b[43m(\u001b[49m\u001b[43mresponse\u001b[49m\u001b[43m)\u001b[49m\n\u001b[1;32m    322\u001b[0m     response[\u001b[38;5;124m'\u001b[39m\u001b[38;5;124mvalue\u001b[39m\u001b[38;5;124m'\u001b[39m] \u001b[38;5;241m=\u001b[39m \u001b[38;5;28mself\u001b[39m\u001b[38;5;241m.\u001b[39m_unwrap_value(\n\u001b[1;32m    323\u001b[0m         response\u001b[38;5;241m.\u001b[39mget(\u001b[38;5;124m'\u001b[39m\u001b[38;5;124mvalue\u001b[39m\u001b[38;5;124m'\u001b[39m, \u001b[38;5;28;01mNone\u001b[39;00m))\n\u001b[1;32m    324\u001b[0m     \u001b[38;5;28;01mreturn\u001b[39;00m response\n",
      "File \u001b[0;32m~/opt/anaconda3/lib/python3.9/site-packages/selenium/webdriver/remote/errorhandler.py:242\u001b[0m, in \u001b[0;36mErrorHandler.check_response\u001b[0;34m(self, response)\u001b[0m\n\u001b[1;32m    240\u001b[0m         alert_text \u001b[38;5;241m=\u001b[39m value[\u001b[38;5;124m'\u001b[39m\u001b[38;5;124malert\u001b[39m\u001b[38;5;124m'\u001b[39m]\u001b[38;5;241m.\u001b[39mget(\u001b[38;5;124m'\u001b[39m\u001b[38;5;124mtext\u001b[39m\u001b[38;5;124m'\u001b[39m)\n\u001b[1;32m    241\u001b[0m     \u001b[38;5;28;01mraise\u001b[39;00m exception_class(message, screen, stacktrace, alert_text)\n\u001b[0;32m--> 242\u001b[0m \u001b[38;5;28;01mraise\u001b[39;00m exception_class(message, screen, stacktrace)\n",
      "\u001b[0;31mElementNotInteractableException\u001b[0m: Message: element not interactable\n  (Session info: chrome=103.0.5060.134)\n"
     ]
    }
   ],
   "source": [
    "# 가장 최신 동영상을 클릭해서 들어간다.\n",
    "\n",
    "# 가장 최신 영상에 대한 x-path\n",
    "path = '/html/body/ytd-app/div[1]/ytd-page-manager/ytd-browse/ytd-two-column-browse-results-renderer/div[1]/ytd-section-list-renderer/div[2]/ytd-item-section-renderer/div[3]/ytd-grid-renderer/div[1]/ytd-grid-video-renderer[1]/div[1]/div[1]/div[1]/h3/a'\n",
    "\n",
    "browser.find_element(by = By.XPATH, value = path).click()"
   ]
  },
  {
   "cell_type": "code",
   "execution_count": 195,
   "id": "52c3af3f",
   "metadata": {},
   "outputs": [
    {
     "data": {
      "text/plain": [
       "19264"
      ]
     },
     "execution_count": 195,
     "metadata": {},
     "output_type": "execute_result"
    }
   ],
   "source": [
    "page_height1 = browser.execute_script(\"return document.documentElement.scrollHeight\")\n",
    "page_height1"
   ]
  },
  {
   "cell_type": "code",
   "execution_count": 196,
   "id": "aeebdde6",
   "metadata": {},
   "outputs": [],
   "source": [
    "# 아래의 함수는 스크롤을 가장 최하단까지 내려주는 스크롤입니다.\n",
    "\n",
    "def scroll():\n",
    "    try:        \n",
    "        \n",
    "        # 동영상 재생시에 옆에 나타나는 동영상을 모두 얻기 위해\n",
    "        # 스크롤을 지속적으로 해줘야한다. 이는 이미 있는 함수를 이용해서 구현이 가능\n",
    "        # 그러나 문제는 언제까지 스크롤을 해야하는지에 대한 것인데\n",
    "        # 나같은 경우에는 1) 일정 시간동안 스크롤 2) 일정 스크롤 높이에 도달할 때까지 스크롤\n",
    "        # 이 두가지 방법을 사용하려 했으나\n",
    "        \n",
    "        # 1)의 경우에는 시간을 재는 것이 애매했기에...\n",
    "        # staring_time = time.time() # 스크롤 들어하기 시작하는 시간 저장..\n",
    "        \n",
    "        # 2)의 경우에는 로딩시간이 너무 느려서 일정 스크롤 높이에 도달하기 전에 마지막 동영상까지 로딩이 되는 경우가 발생함으로\n",
    "        # if page_height > 35500: break\n",
    "        \n",
    "        # 따라서 3) 기존의 방법 중 스크롤전 높이(page_height1)과 스크롤후 높이(page_height2)가 스크롤해도 변화가 없다면\n",
    "        # 스크롤을 끝내는 방식을 이용했다.\n",
    "        # 사실 댓글양이 동영상리스트의 갯수보다 스크롤을 더 아래로 내리나, 댓글로드가 느려서 동영상의 끝에 도달하면 댓글은 더이상\n",
    "        # 로드가 되지 않는다.\n",
    "        \n",
    "        # 계속 해보니 가끔은 댓글로딩이 빨라서 댓글을 다 볼 때까지 스크롤을 계속하니 동영상이 로딩될 때까지 스크롤 해주는\n",
    "        # 코드를 작성하기 위해 2)와 3)의 내용을 조합해서 사용하고자 한다.\n",
    "\n",
    "        while True:\n",
    "            \n",
    "            # 현재 웹페이지상에서 스크롤의 위치를 반환해주는 함수\n",
    "            page_height1 = browser.execute_script(\"return document.documentElement.scrollHeight\")\n",
    "\n",
    "            # 페이지 최하단까지 스크롤해주는 함수\n",
    "            browser.execute_script(\"window.scrollTo(0, document.documentElement.scrollHeight);\")\n",
    "            \n",
    "            # 페이지가 새로 로드될 때까지 기다리는 함수 \n",
    "            pause_time = 3 # 자신의 PC사양, 환경에 맞춰 설정\n",
    "            time.sleep(pause_time)\n",
    "            \n",
    "            # 페이지 내 스크롤 높이 새롭게 받아온다.\n",
    "            page_height2 = browser.execute_script(\"return document.documentElement.scrollHeight\")\n",
    "            \n",
    "            # 스크롤을 완료한 경우(더이상 페이지 높이 변화가 없는 경우 혹은 스크롤이 일정 높이를 넘어간 경우)\n",
    "            if page_height1 == page_height2 or page_height2 > 25000:\n",
    "                print(\"스크롤 완료\\n\")\n",
    "                print(page_height1)\n",
    "                break\n",
    "                \n",
    "            # 스크롤 완료하지 않은 경우, 계속 스크롤\n",
    "            else:\n",
    "                page_height1 = page_height2\n",
    "            \n",
    "    except Exception as e:\n",
    "        print(\"에러 발생: \", e)"
   ]
  },
  {
   "cell_type": "code",
   "execution_count": 56,
   "id": "fd77b6e8",
   "metadata": {
    "scrolled": true
   },
   "outputs": [
    {
     "name": "stdout",
     "output_type": "stream",
     "text": [
      "스크롤 완료\n",
      "\n",
      "15038\n"
     ]
    }
   ],
   "source": [
    "scroll()"
   ]
  },
  {
   "cell_type": "code",
   "execution_count": 144,
   "id": "0cc641ca",
   "metadata": {},
   "outputs": [
    {
     "ename": "NoSuchElementException",
     "evalue": "Message: no such element: Unable to locate element: {\"method\":\"xpath\",\"selector\":\"/html/body/ytd-app/div[1]/ytd-page-manager/ytd-watch-flexy/div[5]/div[1]/div/ytd-watch-metadata/div/div[3]/div[1]/ytd-video-owner-renderer/div[1]/ytd-channel-name/div/div/yt-formatted-string/a\"}\n  (Session info: chrome=103.0.5060.134)\n",
     "output_type": "error",
     "traceback": [
      "\u001b[0;31m---------------------------------------------------------------------------\u001b[0m",
      "\u001b[0;31mNoSuchElementException\u001b[0m                    Traceback (most recent call last)",
      "Input \u001b[0;32mIn [144]\u001b[0m, in \u001b[0;36m<cell line: 4>\u001b[0;34m()\u001b[0m\n\u001b[1;32m      1\u001b[0m \u001b[38;5;66;03m# 현재 동영상의 채널이름을 가져온다.\u001b[39;00m\n\u001b[1;32m      3\u001b[0m path \u001b[38;5;241m=\u001b[39m \u001b[38;5;124m'\u001b[39m\u001b[38;5;124m/html/body/ytd-app/div[1]/ytd-page-manager/ytd-watch-flexy/div[5]/div[1]/div/ytd-watch-metadata/div/div[3]/div[1]/ytd-video-owner-renderer/div[1]/ytd-channel-name/div/div/yt-formatted-string/a\u001b[39m\u001b[38;5;124m'\u001b[39m\n\u001b[0;32m----> 4\u001b[0m channelName \u001b[38;5;241m=\u001b[39m \u001b[43mbrowser\u001b[49m\u001b[38;5;241;43m.\u001b[39;49m\u001b[43mfind_element\u001b[49m\u001b[43m(\u001b[49m\u001b[43mby\u001b[49m\u001b[43m \u001b[49m\u001b[38;5;241;43m=\u001b[39;49m\u001b[43m \u001b[49m\u001b[43mBy\u001b[49m\u001b[38;5;241;43m.\u001b[39;49m\u001b[43mXPATH\u001b[49m\u001b[43m,\u001b[49m\u001b[43m \u001b[49m\u001b[43mvalue\u001b[49m\u001b[43m \u001b[49m\u001b[38;5;241;43m=\u001b[39;49m\u001b[43m \u001b[49m\u001b[43mpath\u001b[49m\u001b[43m)\u001b[49m\u001b[38;5;241m.\u001b[39mtext\n\u001b[1;32m      5\u001b[0m channelName\n",
      "File \u001b[0;32m~/opt/anaconda3/lib/python3.9/site-packages/selenium/webdriver/remote/webdriver.py:976\u001b[0m, in \u001b[0;36mWebDriver.find_element\u001b[0;34m(self, by, value)\u001b[0m\n\u001b[1;32m    974\u001b[0m         by \u001b[38;5;241m=\u001b[39m By\u001b[38;5;241m.\u001b[39mCSS_SELECTOR\n\u001b[1;32m    975\u001b[0m         value \u001b[38;5;241m=\u001b[39m \u001b[38;5;124m'\u001b[39m\u001b[38;5;124m[name=\u001b[39m\u001b[38;5;124m\"\u001b[39m\u001b[38;5;132;01m%s\u001b[39;00m\u001b[38;5;124m\"\u001b[39m\u001b[38;5;124m]\u001b[39m\u001b[38;5;124m'\u001b[39m \u001b[38;5;241m%\u001b[39m value\n\u001b[0;32m--> 976\u001b[0m \u001b[38;5;28;01mreturn\u001b[39;00m \u001b[38;5;28;43mself\u001b[39;49m\u001b[38;5;241;43m.\u001b[39;49m\u001b[43mexecute\u001b[49m\u001b[43m(\u001b[49m\u001b[43mCommand\u001b[49m\u001b[38;5;241;43m.\u001b[39;49m\u001b[43mFIND_ELEMENT\u001b[49m\u001b[43m,\u001b[49m\u001b[43m \u001b[49m\u001b[43m{\u001b[49m\n\u001b[1;32m    977\u001b[0m \u001b[43m    \u001b[49m\u001b[38;5;124;43m'\u001b[39;49m\u001b[38;5;124;43musing\u001b[39;49m\u001b[38;5;124;43m'\u001b[39;49m\u001b[43m:\u001b[49m\u001b[43m \u001b[49m\u001b[43mby\u001b[49m\u001b[43m,\u001b[49m\n\u001b[1;32m    978\u001b[0m \u001b[43m    \u001b[49m\u001b[38;5;124;43m'\u001b[39;49m\u001b[38;5;124;43mvalue\u001b[39;49m\u001b[38;5;124;43m'\u001b[39;49m\u001b[43m:\u001b[49m\u001b[43m \u001b[49m\u001b[43mvalue\u001b[49m\u001b[43m}\u001b[49m\u001b[43m)\u001b[49m[\u001b[38;5;124m'\u001b[39m\u001b[38;5;124mvalue\u001b[39m\u001b[38;5;124m'\u001b[39m]\n",
      "File \u001b[0;32m~/opt/anaconda3/lib/python3.9/site-packages/selenium/webdriver/remote/webdriver.py:321\u001b[0m, in \u001b[0;36mWebDriver.execute\u001b[0;34m(self, driver_command, params)\u001b[0m\n\u001b[1;32m    319\u001b[0m response \u001b[38;5;241m=\u001b[39m \u001b[38;5;28mself\u001b[39m\u001b[38;5;241m.\u001b[39mcommand_executor\u001b[38;5;241m.\u001b[39mexecute(driver_command, params)\n\u001b[1;32m    320\u001b[0m \u001b[38;5;28;01mif\u001b[39;00m response:\n\u001b[0;32m--> 321\u001b[0m     \u001b[38;5;28;43mself\u001b[39;49m\u001b[38;5;241;43m.\u001b[39;49m\u001b[43merror_handler\u001b[49m\u001b[38;5;241;43m.\u001b[39;49m\u001b[43mcheck_response\u001b[49m\u001b[43m(\u001b[49m\u001b[43mresponse\u001b[49m\u001b[43m)\u001b[49m\n\u001b[1;32m    322\u001b[0m     response[\u001b[38;5;124m'\u001b[39m\u001b[38;5;124mvalue\u001b[39m\u001b[38;5;124m'\u001b[39m] \u001b[38;5;241m=\u001b[39m \u001b[38;5;28mself\u001b[39m\u001b[38;5;241m.\u001b[39m_unwrap_value(\n\u001b[1;32m    323\u001b[0m         response\u001b[38;5;241m.\u001b[39mget(\u001b[38;5;124m'\u001b[39m\u001b[38;5;124mvalue\u001b[39m\u001b[38;5;124m'\u001b[39m, \u001b[38;5;28;01mNone\u001b[39;00m))\n\u001b[1;32m    324\u001b[0m     \u001b[38;5;28;01mreturn\u001b[39;00m response\n",
      "File \u001b[0;32m~/opt/anaconda3/lib/python3.9/site-packages/selenium/webdriver/remote/errorhandler.py:242\u001b[0m, in \u001b[0;36mErrorHandler.check_response\u001b[0;34m(self, response)\u001b[0m\n\u001b[1;32m    240\u001b[0m         alert_text \u001b[38;5;241m=\u001b[39m value[\u001b[38;5;124m'\u001b[39m\u001b[38;5;124malert\u001b[39m\u001b[38;5;124m'\u001b[39m]\u001b[38;5;241m.\u001b[39mget(\u001b[38;5;124m'\u001b[39m\u001b[38;5;124mtext\u001b[39m\u001b[38;5;124m'\u001b[39m)\n\u001b[1;32m    241\u001b[0m     \u001b[38;5;28;01mraise\u001b[39;00m exception_class(message, screen, stacktrace, alert_text)\n\u001b[0;32m--> 242\u001b[0m \u001b[38;5;28;01mraise\u001b[39;00m exception_class(message, screen, stacktrace)\n",
      "\u001b[0;31mNoSuchElementException\u001b[0m: Message: no such element: Unable to locate element: {\"method\":\"xpath\",\"selector\":\"/html/body/ytd-app/div[1]/ytd-page-manager/ytd-watch-flexy/div[5]/div[1]/div/ytd-watch-metadata/div/div[3]/div[1]/ytd-video-owner-renderer/div[1]/ytd-channel-name/div/div/yt-formatted-string/a\"}\n  (Session info: chrome=103.0.5060.134)\n"
     ]
    }
   ],
   "source": [
    "# 현재 동영상의 채널이름을 가져온다.\n",
    "\n",
    "path = '/html/body/ytd-app/div[1]/ytd-page-manager/ytd-watch-flexy/div[5]/div[1]/div/ytd-watch-metadata/div/div[3]/div[1]/ytd-video-owner-renderer/div[1]/ytd-channel-name/div/div/yt-formatted-string/a'\n",
    "channelName = browser.find_element(by = By.XPATH, value = path).text\n",
    "channelName"
   ]
  },
  {
   "cell_type": "code",
   "execution_count": 68,
   "id": "ae808bf8",
   "metadata": {
    "scrolled": false
   },
   "outputs": [
    {
     "data": {
      "text/plain": [
       "'/html/body/ytd-app/div[1]/ytd-page-manager/ytd-watch-flexy/div[5]/div[1]/div/div[10]/ytd-watch-next-secondary-results-renderer/div[2]/ytd-compact-video-renderer[143]/div[1]/div/div[1]/a/div/ytd-video-meta-block/div[1]/div[1]/ytd-channel-name/div/div/yt-formatted-string'"
      ]
     },
     "execution_count": 68,
     "metadata": {},
     "output_type": "execute_result"
    }
   ],
   "source": [
    "# 옆에 있는 동영상들의 x-path인데\n",
    "# 가운데에 1,2,3...,142 이런식으로 변경이 된다.\n",
    "# 대략 142개의 동영상이 옆에 로드된다.\n",
    "\n",
    "# /html/body/ytd-app/div[1]/ytd-page-manager/ytd-watch-flexy/div[5]/div[1]/div/div[10]/ytd-watch-next-secondary-results-renderer/div[2]/ytd-compact-video-renderer[1]/div[1]/div/div[1]/a/div/ytd-video-meta-block/div[1]/div[1]/ytd-channel-name/div/div/yt-formatted-string\n",
    "# /html/body/ytd-app/div[1]/ytd-page-manager/ytd-watch-flexy/div[5]/div[1]/div/div[10]/ytd-watch-next-secondary-results-renderer/div[2]/ytd-compact-video-renderer[2]/div[1]/div/div[1]/a/div/ytd-video-meta-block/div[1]/div[1]/ytd-channel-name/div/div/yt-formatted-string\n",
    "# /html/body/ytd-app/div[1]/ytd-page-manager/ytd-watch-flexy/div[5]/div[1]/div/div[10]/ytd-watch-next-secondary-results-renderer/div[2]/ytd-compact-video-renderer[142]/div[1]/div/div[1]/a/div/ytd-video-meta-block/div[1]/div[1]/ytd-channel-name/div/div/yt-formatted-string\n",
    "\n",
    "i=143\n",
    "\n",
    "path2 = '/html/body/ytd-app/div[1]/ytd-page-manager/ytd-watch-flexy/div[5]/div[1]/div/div[10]/ytd-watch-next-secondary-results-renderer/div[2]/ytd-compact-video-renderer[' + str(i) + ']/div[1]/div/div[1]/a/div/ytd-video-meta-block/div[1]/div[1]/ytd-channel-name/div/div/yt-formatted-string'\n",
    "path2"
   ]
  },
  {
   "cell_type": "code",
   "execution_count": null,
   "id": "b93bad94",
   "metadata": {},
   "outputs": [],
   "source": [
    "text1 = browser.find_element(by = By.XPATH, value = path2).text\n",
    "text1"
   ]
  },
  {
   "cell_type": "code",
   "execution_count": 74,
   "id": "4c51030d",
   "metadata": {},
   "outputs": [
    {
     "name": "stdout",
     "output_type": "stream",
     "text": [
      "ok\n"
     ]
    }
   ],
   "source": [
    "while True:\n",
    "    \n",
    "    try:\n",
    "        text1 = browser.find_element(by = By.XPATH, value = path2).text\n",
    "        print(text1)\n",
    "\n",
    "    except NoSuchElementException:\n",
    "        print('ok')\n",
    "        break"
   ]
  },
  {
   "cell_type": "code",
   "execution_count": 85,
   "id": "645f6af3",
   "metadata": {},
   "outputs": [
    {
     "name": "stdout",
     "output_type": "stream",
     "text": [
      "end\n"
     ]
    }
   ],
   "source": [
    "total_video = 0 # 옆에 뜬 동영상의 갯수\n",
    "input_video = 0 # 옆에 뜬 동영상 중에 현재 재생 중인 동영상과 같은 채널인 것의 갯수\n",
    "output_video = 0 # 다른 채널의 동영상의 갯수\n",
    "\n",
    "i=0\n",
    "\n",
    "while(True):\n",
    "    try:\n",
    "        i += 1\n",
    "        path2 = '/html/body/ytd-app/div[1]/ytd-page-manager/ytd-watch-flexy/div[5]/div[1]/div/div[10]/ytd-watch-next-secondary-results-renderer/div[2]/ytd-compact-video-renderer[' + str(i) + ']/div[1]/div/div[1]/a/div/ytd-video-meta-block/div[1]/div[1]/ytd-channel-name/div/div/yt-formatted-string'\n",
    "        channel = browser.find_element(by = By.XPATH, value = path2).text\n",
    "        if channelName == channel:\n",
    "            input_video += 1\n",
    "        else:\n",
    "            output_video += 1\n",
    "        total_video = i\n",
    "        \n",
    "\n",
    "    except NoSuchElementException:\n",
    "        print('end')\n",
    "        break\n"
   ]
  },
  {
   "cell_type": "code",
   "execution_count": 99,
   "id": "0187a647",
   "metadata": {},
   "outputs": [
    {
     "data": {
      "text/plain": [
       "13"
      ]
     },
     "execution_count": 99,
     "metadata": {},
     "output_type": "execute_result"
    }
   ],
   "source": [
    "input_video"
   ]
  },
  {
   "cell_type": "code",
   "execution_count": 98,
   "id": "ccead8c7",
   "metadata": {},
   "outputs": [
    {
     "name": "stdout",
     "output_type": "stream",
     "text": [
      "채널 이름 : 보겸TV\n",
      "재유입량 : 9%\n",
      "유출량 : 90%\n"
     ]
    }
   ],
   "source": [
    "print('채널 이름 :', channelName)\n",
    "print('재유입량 : %d%%'%(input_video/total_video*100))\n",
    "print('유출량 : %d%%'%(output_video/total_video*100))"
   ]
  },
  {
   "cell_type": "code",
   "execution_count": null,
   "id": "0487331a",
   "metadata": {},
   "outputs": [],
   "source": []
  },
  {
   "cell_type": "markdown",
   "id": "ae87669c",
   "metadata": {},
   "source": [
    "## 2. 이제 대략 20개의 인기채널에 대해 수행해보자."
   ]
  },
  {
   "cell_type": "code",
   "execution_count": 168,
   "id": "fbf260d4",
   "metadata": {
    "scrolled": true
   },
   "outputs": [
    {
     "data": {
      "text/html": [
       "<div>\n",
       "<style scoped>\n",
       "    .dataframe tbody tr th:only-of-type {\n",
       "        vertical-align: middle;\n",
       "    }\n",
       "\n",
       "    .dataframe tbody tr th {\n",
       "        vertical-align: top;\n",
       "    }\n",
       "\n",
       "    .dataframe thead th {\n",
       "        text-align: right;\n",
       "    }\n",
       "</style>\n",
       "<table border=\"1\" class=\"dataframe\">\n",
       "  <thead>\n",
       "    <tr style=\"text-align: right;\">\n",
       "      <th></th>\n",
       "      <th>channelId</th>\n",
       "      <th>inputRate</th>\n",
       "      <th>outputRate</th>\n",
       "    </tr>\n",
       "  </thead>\n",
       "  <tbody>\n",
       "    <tr>\n",
       "      <th>-1</th>\n",
       "      <td>0</td>\n",
       "      <td>0</td>\n",
       "      <td>0</td>\n",
       "    </tr>\n",
       "  </tbody>\n",
       "</table>\n",
       "</div>"
      ],
      "text/plain": [
       "    channelId  inputRate  outputRate\n",
       "-1          0          0           0"
      ]
     },
     "execution_count": 168,
     "metadata": {},
     "output_type": "execute_result"
    }
   ],
   "source": [
    "channel_unique = df.channelId.unique()\n",
    "\n",
    "# 결과물을 붙일 장소\n",
    "df_result = pd.DataFrame({'channelId':[0],\n",
    "                          'inputRate':[0],\n",
    "                          'outputRate':[0]}, index=[-1])\n",
    "df_result"
   ]
  },
  {
   "cell_type": "code",
   "execution_count": 220,
   "id": "cafce17e",
   "metadata": {
    "scrolled": false
   },
   "outputs": [
    {
     "name": "stdout",
     "output_type": "stream",
     "text": [
      "스크롤 완료\n",
      "\n",
      "17615\n"
     ]
    },
    {
     "ename": "KeyboardInterrupt",
     "evalue": "",
     "output_type": "error",
     "traceback": [
      "\u001b[0;31m---------------------------------------------------------------------------\u001b[0m",
      "\u001b[0;31mKeyboardInterrupt\u001b[0m                         Traceback (most recent call last)",
      "Input \u001b[0;32mIn [220]\u001b[0m, in \u001b[0;36m<cell line: 1>\u001b[0;34m()\u001b[0m\n\u001b[1;32m     29\u001b[0m \u001b[38;5;28;01mwhile\u001b[39;00m(\u001b[38;5;28;01mTrue\u001b[39;00m):\n\u001b[1;32m     30\u001b[0m     \u001b[38;5;28;01mtry\u001b[39;00m:\n\u001b[0;32m---> 32\u001b[0m         \u001b[43mtime\u001b[49m\u001b[38;5;241;43m.\u001b[39;49m\u001b[43msleep\u001b[49m\u001b[43m(\u001b[49m\u001b[38;5;241;43m10\u001b[39;49m\u001b[43m)\u001b[49m\n\u001b[1;32m     33\u001b[0m         path2 \u001b[38;5;241m=\u001b[39m \u001b[38;5;124m'\u001b[39m\u001b[38;5;124m/html/body/ytd-app/div[1]/ytd-page-manager/ytd-watch-flexy/div[5]/div[1]/div/div[10]/ytd-watch-next-secondary-results-renderer/div[2]/ytd-compact-video-renderer[\u001b[39m\u001b[38;5;124m'\u001b[39m\u001b[38;5;241m+\u001b[39m\u001b[38;5;28mstr\u001b[39m(i)\u001b[38;5;241m+\u001b[39m\u001b[38;5;124m'\u001b[39m\u001b[38;5;124m]/div[1]/div/div[1]/a/div/ytd-video-meta-block/div[1]/div[1]/ytd-channel-name/div/div/yt-formatted-string\u001b[39m\u001b[38;5;124m'\u001b[39m\n\u001b[1;32m     34\u001b[0m         channel \u001b[38;5;241m=\u001b[39m browser\u001b[38;5;241m.\u001b[39mfind_element(by \u001b[38;5;241m=\u001b[39m By\u001b[38;5;241m.\u001b[39mXPATH, value \u001b[38;5;241m=\u001b[39m path2)\u001b[38;5;241m.\u001b[39mtext\n",
      "\u001b[0;31mKeyboardInterrupt\u001b[0m: "
     ]
    }
   ],
   "source": [
    "for k in range(20):\n",
    "    url = 'https://www.youtube.com/channel/'+channel_unique[k]+'/videos'\n",
    "    \n",
    "    # 원격조종할 크롬창을 띄운다.\n",
    "    browser = webdriver.Chrome(executable_path='/Users/namhunkim/chromedriver')\n",
    "    browser.get(url)\n",
    "    time.sleep(5)\n",
    "    \n",
    "    # 현재 동영상의 채널이름을 가져온다.\n",
    "    path1 = '/html/body/ytd-app/div[1]/ytd-page-manager/ytd-browse[1]/div[3]/ytd-c4-tabbed-header-renderer/tp-yt-app-header-layout/div/tp-yt-app-header/div[2]/div[2]/div/div[1]/div/div[1]/ytd-channel-name/div/div/yt-formatted-string'\n",
    "    channelName = browser.find_element(by = By.XPATH, value = path1).text\n",
    "    \n",
    "    # 가장 최신 동영상을 클릭해서 들어간다.\n",
    "    # 가장 최신 영상에 대한 x-path\n",
    "    path = '/html/body/ytd-app/div[1]/ytd-page-manager/ytd-browse/ytd-two-column-browse-results-renderer/div[1]/ytd-section-list-renderer/div[2]/ytd-item-section-renderer/div[3]/ytd-grid-renderer/div[1]/ytd-grid-video-renderer[1]/div[1]/div[1]/div[1]/h3/a'\n",
    "    browser.find_element(by = By.XPATH, value = path).click()\n",
    "    \n",
    "    # 옆에 모든 동영상이 나오도록 스크롤을 해준다.\n",
    "    scroll()\n",
    "    \n",
    "    \n",
    "    # 재유입률, 유출률을 계산한다.\n",
    "    total_video = 0 # 옆에 뜬 동영상의 갯수\n",
    "    input_video = 0 # 옆에 뜬 동영상 중에 현재 재생 중인 동영상과 같은 채널인 것의 갯수\n",
    "    output_video = 0 # 다른 채널의 동영상의 갯수\n",
    "    \n",
    "    i = 1\n",
    "\n",
    "    while(True):\n",
    "        try:\n",
    "\n",
    "            path2 = '/html/body/ytd-app/div[1]/ytd-page-manager/ytd-watch-flexy/div[5]/div[1]/div/div[10]/ytd-watch-next-secondary-results-renderer/div[2]/ytd-compact-video-renderer['+str(i)+']/div[1]/div/div[1]/a/div/ytd-video-meta-block/div[1]/div[1]/ytd-channel-name/div/div/yt-formatted-string'\n",
    "            channel = browser.find_element(by = By.XPATH, value = path2).text\n",
    "            print(channel)\n",
    "            if channelName == channel:\n",
    "                input_video += 1\n",
    "            else:\n",
    "                output_video += 1\n",
    "            total_video = i\n",
    "            \n",
    "            i += 1\n",
    "        \n",
    "        except NoSuchElementException:\n",
    "            break\n",
    "\n",
    "            \n",
    "    # 데이터를 데이터프레임의 형태로 저장한다.\n",
    "    df_temp = pd.DataFrame({'channelId':[channel_unique[i]],\n",
    "              'inputRate':[np.round(input_video/total_video*100,1)],\n",
    "              'outputRate':[np.round(output_video/total_video*100,1)]}, index=[i-1])\n",
    "    df_result = pd.concat([df_result, df_temp])\n",
    "    \n",
    "    # 이전 기록을 초기화하고자 창을 다시 닫는다.\n",
    "    brower.quit()\n",
    "\n",
    "\n",
    "    \n",
    "df_result = df_result.drop(-1)"
   ]
  },
  {
   "cell_type": "markdown",
   "id": "dbbba431",
   "metadata": {},
   "source": [
    "### 슈뢰딩거의 고양이마냥 셀로니옴으로 띄운 창에서 inspect로 xpath를 따오면\n",
    "### 이후 코드로 다시 창을 띄울 때, 해당 xpath에 관한 값이 없다는 Exception이 발생한다.\n",
    "### 하지만 그 떠있는 창을 inspect를 눌러보면 다시 프로그램이 해당 xpath를 가진\n",
    "### text가 있다고 한다..."
   ]
  },
  {
   "cell_type": "markdown",
   "id": "43c1ab69",
   "metadata": {},
   "source": [
    "### 이전에 1번째 동영상에 대해서 작동했음으로 제작한 for문 안에서 1번째 동영상에 대해 실시한다"
   ]
  },
  {
   "cell_type": "code",
   "execution_count": 226,
   "id": "8d0eb824",
   "metadata": {
    "scrolled": true
   },
   "outputs": [
    {
     "ename": "NoSuchWindowException",
     "evalue": "Message: no such window: window was already closed\n  (Session info: chrome=103.0.5060.134)\n",
     "output_type": "error",
     "traceback": [
      "\u001b[0;31m---------------------------------------------------------------------------\u001b[0m",
      "\u001b[0;31mNoSuchWindowException\u001b[0m                     Traceback (most recent call last)",
      "Input \u001b[0;32mIn [226]\u001b[0m, in \u001b[0;36m<cell line: 1>\u001b[0;34m()\u001b[0m\n\u001b[1;32m      9\u001b[0m \u001b[38;5;66;03m# 현재 동영상의 채널이름을 가져온다.\u001b[39;00m\n\u001b[1;32m     10\u001b[0m path1 \u001b[38;5;241m=\u001b[39m \u001b[38;5;124m'\u001b[39m\u001b[38;5;124m/html/body/ytd-app/div[1]/ytd-page-manager/ytd-browse[1]/div[3]/ytd-c4-tabbed-header-renderer/tp-yt-app-header-layout/div/tp-yt-app-header/div[2]/div[2]/div/div[1]/div/div[1]/ytd-channel-name/div/div/yt-formatted-string\u001b[39m\u001b[38;5;124m'\u001b[39m\n\u001b[0;32m---> 11\u001b[0m channelName \u001b[38;5;241m=\u001b[39m \u001b[43mbrowser\u001b[49m\u001b[38;5;241;43m.\u001b[39;49m\u001b[43mfind_element\u001b[49m\u001b[43m(\u001b[49m\u001b[43mby\u001b[49m\u001b[43m \u001b[49m\u001b[38;5;241;43m=\u001b[39;49m\u001b[43m \u001b[49m\u001b[43mBy\u001b[49m\u001b[38;5;241;43m.\u001b[39;49m\u001b[43mXPATH\u001b[49m\u001b[43m,\u001b[49m\u001b[43m \u001b[49m\u001b[43mvalue\u001b[49m\u001b[43m \u001b[49m\u001b[38;5;241;43m=\u001b[39;49m\u001b[43m \u001b[49m\u001b[43mpath1\u001b[49m\u001b[43m)\u001b[49m\u001b[38;5;241m.\u001b[39mtext\n\u001b[1;32m     13\u001b[0m \u001b[38;5;66;03m# 가장 최신 동영상을 클릭해서 들어간다.\u001b[39;00m\n\u001b[1;32m     14\u001b[0m \u001b[38;5;66;03m# 가장 최신 영상에 대한 x-path\u001b[39;00m\n\u001b[1;32m     15\u001b[0m path \u001b[38;5;241m=\u001b[39m \u001b[38;5;124m'\u001b[39m\u001b[38;5;124m/html/body/ytd-app/div[1]/ytd-page-manager/ytd-browse/ytd-two-column-browse-results-renderer/div[1]/ytd-section-list-renderer/div[2]/ytd-item-section-renderer/div[3]/ytd-grid-renderer/div[1]/ytd-grid-video-renderer[1]/div[1]/div[1]/div[1]/h3/a\u001b[39m\u001b[38;5;124m'\u001b[39m\n",
      "File \u001b[0;32m~/opt/anaconda3/lib/python3.9/site-packages/selenium/webdriver/remote/webdriver.py:976\u001b[0m, in \u001b[0;36mWebDriver.find_element\u001b[0;34m(self, by, value)\u001b[0m\n\u001b[1;32m    974\u001b[0m         by \u001b[38;5;241m=\u001b[39m By\u001b[38;5;241m.\u001b[39mCSS_SELECTOR\n\u001b[1;32m    975\u001b[0m         value \u001b[38;5;241m=\u001b[39m \u001b[38;5;124m'\u001b[39m\u001b[38;5;124m[name=\u001b[39m\u001b[38;5;124m\"\u001b[39m\u001b[38;5;132;01m%s\u001b[39;00m\u001b[38;5;124m\"\u001b[39m\u001b[38;5;124m]\u001b[39m\u001b[38;5;124m'\u001b[39m \u001b[38;5;241m%\u001b[39m value\n\u001b[0;32m--> 976\u001b[0m \u001b[38;5;28;01mreturn\u001b[39;00m \u001b[38;5;28;43mself\u001b[39;49m\u001b[38;5;241;43m.\u001b[39;49m\u001b[43mexecute\u001b[49m\u001b[43m(\u001b[49m\u001b[43mCommand\u001b[49m\u001b[38;5;241;43m.\u001b[39;49m\u001b[43mFIND_ELEMENT\u001b[49m\u001b[43m,\u001b[49m\u001b[43m \u001b[49m\u001b[43m{\u001b[49m\n\u001b[1;32m    977\u001b[0m \u001b[43m    \u001b[49m\u001b[38;5;124;43m'\u001b[39;49m\u001b[38;5;124;43musing\u001b[39;49m\u001b[38;5;124;43m'\u001b[39;49m\u001b[43m:\u001b[49m\u001b[43m \u001b[49m\u001b[43mby\u001b[49m\u001b[43m,\u001b[49m\n\u001b[1;32m    978\u001b[0m \u001b[43m    \u001b[49m\u001b[38;5;124;43m'\u001b[39;49m\u001b[38;5;124;43mvalue\u001b[39;49m\u001b[38;5;124;43m'\u001b[39;49m\u001b[43m:\u001b[49m\u001b[43m \u001b[49m\u001b[43mvalue\u001b[49m\u001b[43m}\u001b[49m\u001b[43m)\u001b[49m[\u001b[38;5;124m'\u001b[39m\u001b[38;5;124mvalue\u001b[39m\u001b[38;5;124m'\u001b[39m]\n",
      "File \u001b[0;32m~/opt/anaconda3/lib/python3.9/site-packages/selenium/webdriver/remote/webdriver.py:321\u001b[0m, in \u001b[0;36mWebDriver.execute\u001b[0;34m(self, driver_command, params)\u001b[0m\n\u001b[1;32m    319\u001b[0m response \u001b[38;5;241m=\u001b[39m \u001b[38;5;28mself\u001b[39m\u001b[38;5;241m.\u001b[39mcommand_executor\u001b[38;5;241m.\u001b[39mexecute(driver_command, params)\n\u001b[1;32m    320\u001b[0m \u001b[38;5;28;01mif\u001b[39;00m response:\n\u001b[0;32m--> 321\u001b[0m     \u001b[38;5;28;43mself\u001b[39;49m\u001b[38;5;241;43m.\u001b[39;49m\u001b[43merror_handler\u001b[49m\u001b[38;5;241;43m.\u001b[39;49m\u001b[43mcheck_response\u001b[49m\u001b[43m(\u001b[49m\u001b[43mresponse\u001b[49m\u001b[43m)\u001b[49m\n\u001b[1;32m    322\u001b[0m     response[\u001b[38;5;124m'\u001b[39m\u001b[38;5;124mvalue\u001b[39m\u001b[38;5;124m'\u001b[39m] \u001b[38;5;241m=\u001b[39m \u001b[38;5;28mself\u001b[39m\u001b[38;5;241m.\u001b[39m_unwrap_value(\n\u001b[1;32m    323\u001b[0m         response\u001b[38;5;241m.\u001b[39mget(\u001b[38;5;124m'\u001b[39m\u001b[38;5;124mvalue\u001b[39m\u001b[38;5;124m'\u001b[39m, \u001b[38;5;28;01mNone\u001b[39;00m))\n\u001b[1;32m    324\u001b[0m     \u001b[38;5;28;01mreturn\u001b[39;00m response\n",
      "File \u001b[0;32m~/opt/anaconda3/lib/python3.9/site-packages/selenium/webdriver/remote/errorhandler.py:242\u001b[0m, in \u001b[0;36mErrorHandler.check_response\u001b[0;34m(self, response)\u001b[0m\n\u001b[1;32m    240\u001b[0m         alert_text \u001b[38;5;241m=\u001b[39m value[\u001b[38;5;124m'\u001b[39m\u001b[38;5;124malert\u001b[39m\u001b[38;5;124m'\u001b[39m]\u001b[38;5;241m.\u001b[39mget(\u001b[38;5;124m'\u001b[39m\u001b[38;5;124mtext\u001b[39m\u001b[38;5;124m'\u001b[39m)\n\u001b[1;32m    241\u001b[0m     \u001b[38;5;28;01mraise\u001b[39;00m exception_class(message, screen, stacktrace, alert_text)\n\u001b[0;32m--> 242\u001b[0m \u001b[38;5;28;01mraise\u001b[39;00m exception_class(message, screen, stacktrace)\n",
      "\u001b[0;31mNoSuchWindowException\u001b[0m: Message: no such window: window was already closed\n  (Session info: chrome=103.0.5060.134)\n"
     ]
    }
   ],
   "source": [
    "for k in range(1):\n",
    "    url = 'https://www.youtube.com/channel/'+channel_unique[k]+'/videos'\n",
    "    \n",
    "    # 원격조종할 크롬창을 띄운다.\n",
    "    browser = webdriver.Chrome(executable_path='/Users/namhunkim/chromedriver')\n",
    "    browser.get(url)\n",
    "    time.sleep(5)\n",
    "    \n",
    "    # 현재 동영상의 채널이름을 가져온다.\n",
    "    path1 = '/html/body/ytd-app/div[1]/ytd-page-manager/ytd-browse[1]/div[3]/ytd-c4-tabbed-header-renderer/tp-yt-app-header-layout/div/tp-yt-app-header/div[2]/div[2]/div/div[1]/div/div[1]/ytd-channel-name/div/div/yt-formatted-string'\n",
    "    channelName = browser.find_element(by = By.XPATH, value = path1).text\n",
    "    \n",
    "    # 가장 최신 동영상을 클릭해서 들어간다.\n",
    "    # 가장 최신 영상에 대한 x-path\n",
    "    path = '/html/body/ytd-app/div[1]/ytd-page-manager/ytd-browse/ytd-two-column-browse-results-renderer/div[1]/ytd-section-list-renderer/div[2]/ytd-item-section-renderer/div[3]/ytd-grid-renderer/div[1]/ytd-grid-video-renderer[1]/div[1]/div[1]/div[1]/h3/a'\n",
    "    browser.find_element(by = By.XPATH, value = path).click()\n",
    "    \n",
    "    # 옆에 모든 동영상이 나오도록 스크롤을 해준다.\n",
    "    scroll()\n",
    "    \n",
    "    \n",
    "    # 재유입률, 유출률을 계산한다.\n",
    "    total_video = 0 # 옆에 뜬 동영상의 갯수\n",
    "    input_video = 0 # 옆에 뜬 동영상 중에 현재 재생 중인 동영상과 같은 채널인 것의 갯수\n",
    "    output_video = 0 # 다른 채널의 동영상의 갯수\n",
    "    \n",
    "    i = 1\n",
    "\n",
    "    while(True):\n",
    "        try:\n",
    "\n",
    "            time.sleep(10)\n",
    "            path2 = 'v[10]/ytd-watch-next-secondary-results-renderer/div[2]/ytd-compact-video-renderer['+str(i)+']/div[1]/div/div[1]/a/div/ytd-video-meta-block/div[1]/div[1]/ytd-channel-name/div/div/yt-formatted-string'\n",
    "            channel = browser.find_element(by = By.XPATH, value = path2).text\n",
    "            print(channel)\n",
    "            if channelName == channel:\n",
    "                input_video += 1\n",
    "            else:\n",
    "                output_video += 1\n",
    "            total_video = i\n",
    "            \n",
    "            i += 1\n",
    "        \n",
    "        except NoSuchElementException:\n",
    "            \n",
    "            if i == 140:\n",
    "                print('end')\n",
    "                break\n",
    "\n",
    "            \n",
    "    # 데이터를 데이터프레임의 형태로 저장한다.\n",
    "    df_temp = pd.DataFrame({'channelId':[channel_unique[i]],\n",
    "              'inputRate':[np.round(input_video/total_video*100,1)],\n",
    "              'outputRate':[np.round(output_video/total_video*100,1)]}, index=[i-1])\n",
    "    df_result = pd.concat([df_result, df_temp])\n",
    "    \n",
    "    # 이전 기록을 초기화하고자 창을 다시 닫는다.\n",
    "    brower.quit()\n",
    "\n",
    "\n",
    "    \n",
    "df_result = df_result.drop(-1)"
   ]
  },
  {
   "cell_type": "code",
   "execution_count": null,
   "id": "ccbdc019",
   "metadata": {},
   "outputs": [],
   "source": [
    "### 오류발생..."
   ]
  },
  {
   "cell_type": "markdown",
   "id": "1d676c0f",
   "metadata": {},
   "source": [
    "### xpath이외의 방법을 찾거나 다른 창의 xpath를 긁어와서 다시 시도해보자."
   ]
  },
  {
   "cell_type": "code",
   "execution_count": null,
   "id": "2a25b94d",
   "metadata": {},
   "outputs": [],
   "source": [
    "#rso > div:nth-child(9) > div > div:nth-child(1) > div > div > div.NJo7tc.Z26q7c.UK95Uc.uUuwM.jGGQ5e > div > a > h3"
   ]
  },
  {
   "cell_type": "code",
   "execution_count": 227,
   "id": "af55f7ee",
   "metadata": {},
   "outputs": [
    {
     "ename": "NoSuchElementException",
     "evalue": "Message: no such element: Unable to locate element: {\"method\":\"xpath\",\"selector\":\"/html/body/ytd-app/div[1]/ytd-page-manager/ytd-browse/ytd-two-column-browse-results-renderer/div[1]/ytd-section-list-renderer/div[2]/ytd-item-section-renderer/div[3]/ytd-grid-renderer/div[1]/ytd-grid-video-renderer[1]/div[1]/div[1]/div[1]/h3/a\"}\n  (Session info: chrome=103.0.5060.134)\n",
     "output_type": "error",
     "traceback": [
      "\u001b[0;31m---------------------------------------------------------------------------\u001b[0m",
      "\u001b[0;31mNoSuchElementException\u001b[0m                    Traceback (most recent call last)",
      "Input \u001b[0;32mIn [227]\u001b[0m, in \u001b[0;36m<cell line: 4>\u001b[0;34m()\u001b[0m\n\u001b[1;32m      2\u001b[0m browser\u001b[38;5;241m.\u001b[39mget(url)\n\u001b[1;32m      3\u001b[0m path \u001b[38;5;241m=\u001b[39m \u001b[38;5;124m'\u001b[39m\u001b[38;5;124m/html/body/ytd-app/div[1]/ytd-page-manager/ytd-browse/ytd-two-column-browse-results-renderer/div[1]/ytd-section-list-renderer/div[2]/ytd-item-section-renderer/div[3]/ytd-grid-renderer/div[1]/ytd-grid-video-renderer[1]/div[1]/div[1]/div[1]/h3/a\u001b[39m\u001b[38;5;124m'\u001b[39m\n\u001b[0;32m----> 4\u001b[0m \u001b[43mbrowser\u001b[49m\u001b[38;5;241;43m.\u001b[39;49m\u001b[43mfind_element\u001b[49m\u001b[43m(\u001b[49m\u001b[43mby\u001b[49m\u001b[43m \u001b[49m\u001b[38;5;241;43m=\u001b[39;49m\u001b[43m \u001b[49m\u001b[43mBy\u001b[49m\u001b[38;5;241;43m.\u001b[39;49m\u001b[43mXPATH\u001b[49m\u001b[43m,\u001b[49m\u001b[43m \u001b[49m\u001b[43mvalue\u001b[49m\u001b[43m \u001b[49m\u001b[38;5;241;43m=\u001b[39;49m\u001b[43m \u001b[49m\u001b[43mpath\u001b[49m\u001b[43m)\u001b[49m\u001b[38;5;241m.\u001b[39mclick()\n\u001b[1;32m      5\u001b[0m channel \u001b[38;5;241m=\u001b[39m browser\u001b[38;5;241m.\u001b[39mfind_element(by \u001b[38;5;241m=\u001b[39m By\u001b[38;5;241m.\u001b[39mCLASS_NAME, value \u001b[38;5;241m=\u001b[39m \u001b[38;5;124m'\u001b[39m\u001b[38;5;124mstyle-scope ytd-channel-name\u001b[39m\u001b[38;5;124m'\u001b[39m)\u001b[38;5;241m.\u001b[39mtext\n",
      "File \u001b[0;32m~/opt/anaconda3/lib/python3.9/site-packages/selenium/webdriver/remote/webdriver.py:976\u001b[0m, in \u001b[0;36mWebDriver.find_element\u001b[0;34m(self, by, value)\u001b[0m\n\u001b[1;32m    974\u001b[0m         by \u001b[38;5;241m=\u001b[39m By\u001b[38;5;241m.\u001b[39mCSS_SELECTOR\n\u001b[1;32m    975\u001b[0m         value \u001b[38;5;241m=\u001b[39m \u001b[38;5;124m'\u001b[39m\u001b[38;5;124m[name=\u001b[39m\u001b[38;5;124m\"\u001b[39m\u001b[38;5;132;01m%s\u001b[39;00m\u001b[38;5;124m\"\u001b[39m\u001b[38;5;124m]\u001b[39m\u001b[38;5;124m'\u001b[39m \u001b[38;5;241m%\u001b[39m value\n\u001b[0;32m--> 976\u001b[0m \u001b[38;5;28;01mreturn\u001b[39;00m \u001b[38;5;28;43mself\u001b[39;49m\u001b[38;5;241;43m.\u001b[39;49m\u001b[43mexecute\u001b[49m\u001b[43m(\u001b[49m\u001b[43mCommand\u001b[49m\u001b[38;5;241;43m.\u001b[39;49m\u001b[43mFIND_ELEMENT\u001b[49m\u001b[43m,\u001b[49m\u001b[43m \u001b[49m\u001b[43m{\u001b[49m\n\u001b[1;32m    977\u001b[0m \u001b[43m    \u001b[49m\u001b[38;5;124;43m'\u001b[39;49m\u001b[38;5;124;43musing\u001b[39;49m\u001b[38;5;124;43m'\u001b[39;49m\u001b[43m:\u001b[49m\u001b[43m \u001b[49m\u001b[43mby\u001b[49m\u001b[43m,\u001b[49m\n\u001b[1;32m    978\u001b[0m \u001b[43m    \u001b[49m\u001b[38;5;124;43m'\u001b[39;49m\u001b[38;5;124;43mvalue\u001b[39;49m\u001b[38;5;124;43m'\u001b[39;49m\u001b[43m:\u001b[49m\u001b[43m \u001b[49m\u001b[43mvalue\u001b[49m\u001b[43m}\u001b[49m\u001b[43m)\u001b[49m[\u001b[38;5;124m'\u001b[39m\u001b[38;5;124mvalue\u001b[39m\u001b[38;5;124m'\u001b[39m]\n",
      "File \u001b[0;32m~/opt/anaconda3/lib/python3.9/site-packages/selenium/webdriver/remote/webdriver.py:321\u001b[0m, in \u001b[0;36mWebDriver.execute\u001b[0;34m(self, driver_command, params)\u001b[0m\n\u001b[1;32m    319\u001b[0m response \u001b[38;5;241m=\u001b[39m \u001b[38;5;28mself\u001b[39m\u001b[38;5;241m.\u001b[39mcommand_executor\u001b[38;5;241m.\u001b[39mexecute(driver_command, params)\n\u001b[1;32m    320\u001b[0m \u001b[38;5;28;01mif\u001b[39;00m response:\n\u001b[0;32m--> 321\u001b[0m     \u001b[38;5;28;43mself\u001b[39;49m\u001b[38;5;241;43m.\u001b[39;49m\u001b[43merror_handler\u001b[49m\u001b[38;5;241;43m.\u001b[39;49m\u001b[43mcheck_response\u001b[49m\u001b[43m(\u001b[49m\u001b[43mresponse\u001b[49m\u001b[43m)\u001b[49m\n\u001b[1;32m    322\u001b[0m     response[\u001b[38;5;124m'\u001b[39m\u001b[38;5;124mvalue\u001b[39m\u001b[38;5;124m'\u001b[39m] \u001b[38;5;241m=\u001b[39m \u001b[38;5;28mself\u001b[39m\u001b[38;5;241m.\u001b[39m_unwrap_value(\n\u001b[1;32m    323\u001b[0m         response\u001b[38;5;241m.\u001b[39mget(\u001b[38;5;124m'\u001b[39m\u001b[38;5;124mvalue\u001b[39m\u001b[38;5;124m'\u001b[39m, \u001b[38;5;28;01mNone\u001b[39;00m))\n\u001b[1;32m    324\u001b[0m     \u001b[38;5;28;01mreturn\u001b[39;00m response\n",
      "File \u001b[0;32m~/opt/anaconda3/lib/python3.9/site-packages/selenium/webdriver/remote/errorhandler.py:242\u001b[0m, in \u001b[0;36mErrorHandler.check_response\u001b[0;34m(self, response)\u001b[0m\n\u001b[1;32m    240\u001b[0m         alert_text \u001b[38;5;241m=\u001b[39m value[\u001b[38;5;124m'\u001b[39m\u001b[38;5;124malert\u001b[39m\u001b[38;5;124m'\u001b[39m]\u001b[38;5;241m.\u001b[39mget(\u001b[38;5;124m'\u001b[39m\u001b[38;5;124mtext\u001b[39m\u001b[38;5;124m'\u001b[39m)\n\u001b[1;32m    241\u001b[0m     \u001b[38;5;28;01mraise\u001b[39;00m exception_class(message, screen, stacktrace, alert_text)\n\u001b[0;32m--> 242\u001b[0m \u001b[38;5;28;01mraise\u001b[39;00m exception_class(message, screen, stacktrace)\n",
      "\u001b[0;31mNoSuchElementException\u001b[0m: Message: no such element: Unable to locate element: {\"method\":\"xpath\",\"selector\":\"/html/body/ytd-app/div[1]/ytd-page-manager/ytd-browse/ytd-two-column-browse-results-renderer/div[1]/ytd-section-list-renderer/div[2]/ytd-item-section-renderer/div[3]/ytd-grid-renderer/div[1]/ytd-grid-video-renderer[1]/div[1]/div[1]/div[1]/h3/a\"}\n  (Session info: chrome=103.0.5060.134)\n"
     ]
    }
   ],
   "source": [
    "browser = webdriver.Chrome(executable_path='/Users/namhunkim/chromedriver')\n",
    "browser.get(url)\n",
    "path = '/html/body/ytd-app/div[1]/ytd-page-manager/ytd-browse/ytd-two-column-browse-results-renderer/div[1]/ytd-section-list-renderer/div[2]/ytd-item-section-renderer/div[3]/ytd-grid-renderer/div[1]/ytd-grid-video-renderer[1]/div[1]/div[1]/div[1]/h3/a'\n",
    "browser.find_element(by = By.XPATH, value = path).click()\n",
    "channel = browser.find_element(by = By.CLASS_NAME, value = 'style-scope ytd-channel-name').text"
   ]
  }
 ],
 "metadata": {
  "kernelspec": {
   "display_name": "Python 3 (ipykernel)",
   "language": "python",
   "name": "python3"
  },
  "language_info": {
   "codemirror_mode": {
    "name": "ipython",
    "version": 3
   },
   "file_extension": ".py",
   "mimetype": "text/x-python",
   "name": "python",
   "nbconvert_exporter": "python",
   "pygments_lexer": "ipython3",
   "version": "3.9.12"
  }
 },
 "nbformat": 4,
 "nbformat_minor": 5
}

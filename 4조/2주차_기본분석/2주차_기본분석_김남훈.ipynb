{
 "cells": [
  {
   "cell_type": "code",
   "execution_count": 2,
   "id": "f5091d95",
   "metadata": {},
   "outputs": [],
   "source": [
    "import numpy as np\n",
    "import pandas as pd\n",
    "import matplotlib.pyplot as plt"
   ]
  },
  {
   "cell_type": "code",
   "execution_count": 3,
   "id": "a5ed20ef",
   "metadata": {},
   "outputs": [
    {
     "data": {
      "text/html": [
       "<div>\n",
       "<style scoped>\n",
       "    .dataframe tbody tr th:only-of-type {\n",
       "        vertical-align: middle;\n",
       "    }\n",
       "\n",
       "    .dataframe tbody tr th {\n",
       "        vertical-align: top;\n",
       "    }\n",
       "\n",
       "    .dataframe thead th {\n",
       "        text-align: right;\n",
       "    }\n",
       "</style>\n",
       "<table border=\"1\" class=\"dataframe\">\n",
       "  <thead>\n",
       "    <tr style=\"text-align: right;\">\n",
       "      <th></th>\n",
       "      <th>video_id</th>\n",
       "      <th>title</th>\n",
       "      <th>publishedAt</th>\n",
       "      <th>channelId</th>\n",
       "      <th>channelTitle</th>\n",
       "      <th>trending_date</th>\n",
       "      <th>tags</th>\n",
       "      <th>view_count</th>\n",
       "      <th>likes</th>\n",
       "      <th>dislikes</th>\n",
       "      <th>comment_count</th>\n",
       "      <th>comments_disabled</th>\n",
       "      <th>ratings_disabled</th>\n",
       "      <th>description</th>\n",
       "      <th>category_name</th>\n",
       "      <th>tag_num</th>\n",
       "    </tr>\n",
       "  </thead>\n",
       "  <tbody>\n",
       "    <tr>\n",
       "      <th>0</th>\n",
       "      <td>uq5LClQN3cE</td>\n",
       "      <td>안녕하세요 보겸입니다</td>\n",
       "      <td>2020-08-09 09:32:48</td>\n",
       "      <td>UCu9BCtGIEr73LXZsKmoujKw</td>\n",
       "      <td>보겸 BK</td>\n",
       "      <td>2020-08-12 00:00:00</td>\n",
       "      <td>보겸|bokyem</td>\n",
       "      <td>5947503</td>\n",
       "      <td>53326</td>\n",
       "      <td>105756</td>\n",
       "      <td>139946</td>\n",
       "      <td>False</td>\n",
       "      <td>False</td>\n",
       "      <td>NaN</td>\n",
       "      <td>Entertainment</td>\n",
       "      <td>2</td>\n",
       "    </tr>\n",
       "    <tr>\n",
       "      <th>1</th>\n",
       "      <td>I-ZbZCHsHD0</td>\n",
       "      <td>부락토스의 계획 [총몇명 프리퀄]</td>\n",
       "      <td>2020-08-12 09:00:08</td>\n",
       "      <td>UCRuSxVu4iqTK5kCh90ntAgA</td>\n",
       "      <td>총몇명</td>\n",
       "      <td>2020-08-12 00:00:00</td>\n",
       "      <td>총몇명|재밌는 만화|부락토스|루시퍼|총몇명 프리퀄|총몇명 스토리</td>\n",
       "      <td>963384</td>\n",
       "      <td>28244</td>\n",
       "      <td>494</td>\n",
       "      <td>3339</td>\n",
       "      <td>False</td>\n",
       "      <td>False</td>\n",
       "      <td>오늘도 정말 감사드립니다!!총몇명 스튜디오 - 총몇명, 십제곱, 5G민, MOVE혁...</td>\n",
       "      <td>Film &amp; Animation</td>\n",
       "      <td>6</td>\n",
       "    </tr>\n",
       "  </tbody>\n",
       "</table>\n",
       "</div>"
      ],
      "text/plain": [
       "      video_id               title          publishedAt  \\\n",
       "0  uq5LClQN3cE         안녕하세요 보겸입니다  2020-08-09 09:32:48   \n",
       "1  I-ZbZCHsHD0  부락토스의 계획 [총몇명 프리퀄]  2020-08-12 09:00:08   \n",
       "\n",
       "                  channelId channelTitle        trending_date  \\\n",
       "0  UCu9BCtGIEr73LXZsKmoujKw        보겸 BK  2020-08-12 00:00:00   \n",
       "1  UCRuSxVu4iqTK5kCh90ntAgA          총몇명  2020-08-12 00:00:00   \n",
       "\n",
       "                                  tags  view_count  likes  dislikes  \\\n",
       "0                            보겸|bokyem     5947503  53326    105756   \n",
       "1  총몇명|재밌는 만화|부락토스|루시퍼|총몇명 프리퀄|총몇명 스토리      963384  28244       494   \n",
       "\n",
       "   comment_count  comments_disabled  ratings_disabled  \\\n",
       "0         139946              False             False   \n",
       "1           3339              False             False   \n",
       "\n",
       "                                         description     category_name  \\\n",
       "0                                                NaN     Entertainment   \n",
       "1  오늘도 정말 감사드립니다!!총몇명 스튜디오 - 총몇명, 십제곱, 5G민, MOVE혁...  Film & Animation   \n",
       "\n",
       "   tag_num  \n",
       "0        2  \n",
       "1        6  "
      ]
     },
     "execution_count": 3,
     "metadata": {},
     "output_type": "execute_result"
    }
   ],
   "source": [
    "df = pd.read_csv('/Users/namhunkim/Library/CloudStorage/OneDrive-연세대학교(YonseiUniversity)/DSL/EDA/data/youtube_0717.csv', lineterminator='\\n')\n",
    "df.head(2)"
   ]
  },
  {
   "cell_type": "code",
   "execution_count": 4,
   "id": "08d2508e",
   "metadata": {
    "scrolled": true
   },
   "outputs": [
    {
     "data": {
      "text/plain": [
       "Index(['video_id', 'title', 'publishedAt', 'channelId', 'channelTitle',\n",
       "       'trending_date', 'tags', 'view_count', 'likes', 'dislikes',\n",
       "       'comment_count', 'comments_disabled', 'ratings_disabled', 'description',\n",
       "       'category_name', 'tag_num'],\n",
       "      dtype='object')"
      ]
     },
     "execution_count": 4,
     "metadata": {},
     "output_type": "execute_result"
    }
   ],
   "source": [
    "df.columns"
   ]
  },
  {
   "cell_type": "code",
   "execution_count": null,
   "id": "64743ac7",
   "metadata": {},
   "outputs": [],
   "source": []
  },
  {
   "cell_type": "markdown",
   "id": "446687c9",
   "metadata": {},
   "source": [
    "# 기존 데이터 분석"
   ]
  },
  {
   "cell_type": "markdown",
   "id": "f9f4eb35",
   "metadata": {},
   "source": [
    "## 1. 제목길이, 채널길이, description길이, tag길이"
   ]
  },
  {
   "cell_type": "code",
   "execution_count": 5,
   "id": "fa7991cc",
   "metadata": {},
   "outputs": [
    {
     "data": {
      "text/plain": [
       "video_id                                                   rRaBKB9gDSQ\n",
       "title                                      뒷광고 논란에 대한 해명 및 전할 말씀이 있습니다\n",
       "publishedAt                                        2020-08-09 16:12:59\n",
       "channelId                                     UCBIoXzDldCnpbM_7uyG0_Tg\n",
       "channelTitle                                                HONG SOUND\n",
       "trending_date                                      2020-08-12 00:00:00\n",
       "tags                 ASMR|홍사운드|eatingsound|eating|리얼사운드|이팅사운드|먹는소리|...\n",
       "view_count                                                     2519737\n",
       "likes                                                            71721\n",
       "dislikes                                                          2863\n",
       "comment_count                                                    16283\n",
       "comments_disabled                                                False\n",
       "ratings_disabled                                                 False\n",
       "description          인스타그램(instagram) : https://www.instagram.com/h...\n",
       "category_name                                            Entertainment\n",
       "tag_num                                                             13\n",
       "Name: 12, dtype: object"
      ]
     },
     "execution_count": 5,
     "metadata": {},
     "output_type": "execute_result"
    }
   ],
   "source": [
    "x = df.iloc[12,:]\n",
    "x"
   ]
  },
  {
   "cell_type": "code",
   "execution_count": 6,
   "id": "575b7a57",
   "metadata": {},
   "outputs": [
    {
     "name": "stdout",
     "output_type": "stream",
     "text": [
      "title : 뒷광고 논란에 대한 해명 및 전할 말씀이 있습니다\n",
      "channelTitle : HONG SOUND\n",
      "description : 인스타그램(instagram) : https://www.instagram.com/hong_sound\n",
      "tags : ASMR|홍사운드|eatingsound|eating|리얼사운드|이팅사운드|먹는소리|리얼먹방|social mukbang|mukbang|eatingshow|먹방|yt:cc=on\n"
     ]
    }
   ],
   "source": [
    "print('title :', x.title)\n",
    "print('channelTitle :', x.channelTitle)\n",
    "print('description :', x.description)\n",
    "print('tags :', x.tags)"
   ]
  },
  {
   "cell_type": "code",
   "execution_count": 6,
   "id": "87fafa34",
   "metadata": {},
   "outputs": [
    {
     "name": "stdout",
     "output_type": "stream",
     "text": [
      "title : 27\n",
      "channelTitle : 10\n",
      "description : 55\n",
      "tags : 13\n"
     ]
    }
   ],
   "source": [
    "# all characters should be transformed into number\n",
    "\n",
    "print('title :', len(x.title))\n",
    "print('channelTitle :', len(x.channelTitle))\n",
    "print('description :', len(x.description))\n",
    "print('tags :', x.tag_num)"
   ]
  },
  {
   "cell_type": "code",
   "execution_count": null,
   "id": "1ddbca31",
   "metadata": {},
   "outputs": [],
   "source": []
  },
  {
   "cell_type": "markdown",
   "id": "e5e7e61a",
   "metadata": {},
   "source": [
    "### 1-(1). 상관계수"
   ]
  },
  {
   "cell_type": "code",
   "execution_count": 7,
   "id": "dc43a1c4",
   "metadata": {
    "scrolled": false
   },
   "outputs": [
    {
     "name": "stdout",
     "output_type": "stream",
     "text": [
      "   title  channelTitle  description  tag_num\n",
      "0     11             5            0        2\n",
      "1     18             3          496        6\n",
      "2     15            11            0       27\n",
      "3     20            13           35       12\n",
      "4     48            17          524       13\n",
      "--------------------------------------------------\n",
      "                 title  channelTitle  description   tag_num\n",
      "title         1.000000      0.210965     0.124431  0.259984\n",
      "channelTitle  0.210965      1.000000     0.123917  0.112540\n",
      "description   0.124431      0.123917     1.000000  0.066646\n",
      "tag_num       0.259984      0.112540     0.066646  1.000000\n"
     ]
    }
   ],
   "source": [
    "# 1. Using 'df.corr()'\n",
    "\n",
    "df_len = df.loc[:,['title','channelTitle','description','tag_num']]\n",
    "df_len_converted = df_len\n",
    "\n",
    "df_len_converted['title'] = df_len['title'].apply(lambda x : len(x))\n",
    "df_len_converted['channelTitle'] = df_len['channelTitle'].apply(lambda x : len(x))\n",
    "# description의 경우에는 NaN값이 존재한다.\n",
    "df_len_converted['description'] = df_len['description'].apply(lambda x : len(x) if x==x else 0)\n",
    "\n",
    "print(df_len_converted.head(5))\n",
    "print('-'*50)\n",
    "print(df_len_converted.corr())"
   ]
  },
  {
   "cell_type": "code",
   "execution_count": 8,
   "id": "4993c834",
   "metadata": {
    "scrolled": false
   },
   "outputs": [
    {
     "name": "stdout",
     "output_type": "stream",
     "text": [
      "title & channelTitle : 0.21\n",
      "title & description : 0.12\n",
      "title & tag_num : 0.26\n",
      "channelTitle & description : 0.12\n",
      "channelTitle & tag_num : 0.11\n",
      "description & tag_num : 0.07\n"
     ]
    }
   ],
   "source": [
    "# 2. Using s1.corr(s2)\n",
    "\n",
    "column = df_len_converted.columns\n",
    "x = df_len_converted\n",
    "\n",
    "for i in range(len(column)):\n",
    "    for j in range(len(column)):\n",
    "        if i < j:\n",
    "            print('{0} & {1} : {2}'.format(column[i],column[j],\n",
    "                                           np.round((x[column[i]]).corr(x[column[j]]), 2)))"
   ]
  },
  {
   "cell_type": "code",
   "execution_count": 9,
   "id": "bb5722fc",
   "metadata": {},
   "outputs": [
    {
     "name": "stdout",
     "output_type": "stream",
     "text": [
      "title & channelTitle : 0.21\n",
      "title & description : 0.12\n",
      "title & tag_num : 0.26\n",
      "channelTitle & description : 0.12\n",
      "channelTitle & tag_num : 0.11\n",
      "description & tag_num : 0.07\n"
     ]
    }
   ],
   "source": [
    "# 3. Using np.corrcoef(ndarray1, ndarray2)\n",
    "\n",
    "for i in range(len(column)):\n",
    "    for j in range(len(column)):\n",
    "        if i < j:\n",
    "            print('{0} & {1} : {2}'.format(column[i],column[j],\n",
    "                                           np.round(np.corrcoef((x[column[i]]).values, (x[column[j]]).values)[0,1], 2)))"
   ]
  },
  {
   "cell_type": "code",
   "execution_count": 10,
   "id": "183bc481",
   "metadata": {},
   "outputs": [
    {
     "name": "stdout",
     "output_type": "stream",
     "text": [
      "title : 0\n",
      "channelTitle : 0\n",
      "description : 3543\n",
      "tag_num : 18576\n"
     ]
    }
   ],
   "source": [
    "# Conclusion : 가장 높은 상관계수값이 0.26으로 길이간의 상관성은 없다는 결론에 힘이 실린다.\n",
    "# Observation : description의 경우에는 0(NaN)이 다수 포함되기에 descrition과의 상관계수들은 모두 낮게 나온다.\n",
    "# 이는 tag_num도 마찬가지, 반면에 제목과 채널이름은 0(NaN)이 될 수 없음으로 상대적으로 높게 나온다.\n",
    "\n",
    "for i in column:\n",
    "    print(i, ':', x[i][x[i]==0].count()) # same as len(np.where(x.description==0)[0])"
   ]
  },
  {
   "cell_type": "code",
   "execution_count": 11,
   "id": "a2789b50",
   "metadata": {
    "scrolled": true
   },
   "outputs": [
    {
     "ename": "KeyboardInterrupt",
     "evalue": "",
     "output_type": "error",
     "traceback": [
      "\u001b[0;31m---------------------------------------------------------------------------\u001b[0m",
      "\u001b[0;31mKeyboardInterrupt\u001b[0m                         Traceback (most recent call last)",
      "Input \u001b[0;32mIn [11]\u001b[0m, in \u001b[0;36m<cell line: 5>\u001b[0;34m()\u001b[0m\n\u001b[1;32m      3\u001b[0m x1 \u001b[38;5;241m=\u001b[39m df_len_converted\n\u001b[1;32m      5\u001b[0m \u001b[38;5;28;01mfor\u001b[39;00m i \u001b[38;5;129;01min\u001b[39;00m x1\u001b[38;5;241m.\u001b[39mindex:\n\u001b[0;32m----> 6\u001b[0m     \u001b[38;5;28;01mif\u001b[39;00m (\u001b[43mx1\u001b[49m\u001b[38;5;241;43m.\u001b[39;49m\u001b[43mloc\u001b[49m\u001b[43m[\u001b[49m\u001b[43mi\u001b[49m\u001b[43m,\u001b[49m\u001b[43m:\u001b[49m\u001b[43m]\u001b[49m\u001b[38;5;241m==\u001b[39m\u001b[38;5;241m0\u001b[39m)\u001b[38;5;241m.\u001b[39many(): \u001b[38;5;66;03m# 0이 하나라도 있는 행에 대하여 제거\u001b[39;00m\n\u001b[1;32m      7\u001b[0m         x1 \u001b[38;5;241m=\u001b[39m x1\u001b[38;5;241m.\u001b[39mdrop(i)\n\u001b[1;32m      8\u001b[0m x1\u001b[38;5;241m.\u001b[39mhead(\u001b[38;5;241m5\u001b[39m)\n",
      "File \u001b[0;32m~/opt/anaconda3/lib/python3.9/site-packages/pandas/core/indexing.py:959\u001b[0m, in \u001b[0;36m_LocationIndexer.__getitem__\u001b[0;34m(self, key)\u001b[0m\n\u001b[1;32m    957\u001b[0m key \u001b[38;5;241m=\u001b[39m \u001b[38;5;28mtuple\u001b[39m(\u001b[38;5;28mlist\u001b[39m(x) \u001b[38;5;28;01mif\u001b[39;00m is_iterator(x) \u001b[38;5;28;01melse\u001b[39;00m x \u001b[38;5;28;01mfor\u001b[39;00m x \u001b[38;5;129;01min\u001b[39;00m key)\n\u001b[1;32m    958\u001b[0m key \u001b[38;5;241m=\u001b[39m \u001b[38;5;28mtuple\u001b[39m(com\u001b[38;5;241m.\u001b[39mapply_if_callable(x, \u001b[38;5;28mself\u001b[39m\u001b[38;5;241m.\u001b[39mobj) \u001b[38;5;28;01mfor\u001b[39;00m x \u001b[38;5;129;01min\u001b[39;00m key)\n\u001b[0;32m--> 959\u001b[0m \u001b[38;5;28;01mif\u001b[39;00m \u001b[38;5;28;43mself\u001b[39;49m\u001b[38;5;241;43m.\u001b[39;49m\u001b[43m_is_scalar_access\u001b[49m\u001b[43m(\u001b[49m\u001b[43mkey\u001b[49m\u001b[43m)\u001b[49m:\n\u001b[1;32m    960\u001b[0m     \u001b[38;5;28;01mreturn\u001b[39;00m \u001b[38;5;28mself\u001b[39m\u001b[38;5;241m.\u001b[39mobj\u001b[38;5;241m.\u001b[39m_get_value(\u001b[38;5;241m*\u001b[39mkey, takeable\u001b[38;5;241m=\u001b[39m\u001b[38;5;28mself\u001b[39m\u001b[38;5;241m.\u001b[39m_takeable)\n\u001b[1;32m    961\u001b[0m \u001b[38;5;28;01mreturn\u001b[39;00m \u001b[38;5;28mself\u001b[39m\u001b[38;5;241m.\u001b[39m_getitem_tuple(key)\n",
      "File \u001b[0;32m~/opt/anaconda3/lib/python3.9/site-packages/pandas/core/indexing.py:1049\u001b[0m, in \u001b[0;36m_LocIndexer._is_scalar_access\u001b[0;34m(self, key)\u001b[0m\n\u001b[1;32m   1044\u001b[0m     \u001b[38;5;28;01mif\u001b[39;00m \u001b[38;5;28misinstance\u001b[39m(k, \u001b[38;5;28mstr\u001b[39m) \u001b[38;5;129;01mand\u001b[39;00m ax\u001b[38;5;241m.\u001b[39m_supports_partial_string_indexing:\n\u001b[1;32m   1045\u001b[0m         \u001b[38;5;66;03m# partial string indexing, df.loc['2000', 'A']\u001b[39;00m\n\u001b[1;32m   1046\u001b[0m         \u001b[38;5;66;03m# should not be considered scalar\u001b[39;00m\n\u001b[1;32m   1047\u001b[0m         \u001b[38;5;28;01mreturn\u001b[39;00m \u001b[38;5;28;01mFalse\u001b[39;00m\n\u001b[0;32m-> 1049\u001b[0m     \u001b[38;5;28;01mif\u001b[39;00m \u001b[38;5;129;01mnot\u001b[39;00m \u001b[43max\u001b[49m\u001b[38;5;241;43m.\u001b[39;49m\u001b[43m_index_as_unique\u001b[49m:\n\u001b[1;32m   1050\u001b[0m         \u001b[38;5;28;01mreturn\u001b[39;00m \u001b[38;5;28;01mFalse\u001b[39;00m\n\u001b[1;32m   1052\u001b[0m \u001b[38;5;28;01mreturn\u001b[39;00m \u001b[38;5;28;01mTrue\u001b[39;00m\n",
      "File \u001b[0;32m~/opt/anaconda3/lib/python3.9/site-packages/pandas/core/indexes/base.py:5913\u001b[0m, in \u001b[0;36mIndex._index_as_unique\u001b[0;34m(self)\u001b[0m\n\u001b[1;32m   5905\u001b[0m \u001b[38;5;129m@property\u001b[39m\n\u001b[1;32m   5906\u001b[0m \u001b[38;5;28;01mdef\u001b[39;00m \u001b[38;5;21m_index_as_unique\u001b[39m(\u001b[38;5;28mself\u001b[39m) \u001b[38;5;241m-\u001b[39m\u001b[38;5;241m>\u001b[39m \u001b[38;5;28mbool\u001b[39m:\n\u001b[1;32m   5907\u001b[0m     \u001b[38;5;124;03m\"\"\"\u001b[39;00m\n\u001b[1;32m   5908\u001b[0m \u001b[38;5;124;03m    Whether we should treat this as unique for the sake of\u001b[39;00m\n\u001b[1;32m   5909\u001b[0m \u001b[38;5;124;03m    get_indexer vs get_indexer_non_unique.\u001b[39;00m\n\u001b[1;32m   5910\u001b[0m \n\u001b[1;32m   5911\u001b[0m \u001b[38;5;124;03m    For IntervalIndex compat.\u001b[39;00m\n\u001b[1;32m   5912\u001b[0m \u001b[38;5;124;03m    \"\"\"\u001b[39;00m\n\u001b[0;32m-> 5913\u001b[0m     \u001b[38;5;28;01mreturn\u001b[39;00m \u001b[38;5;28;43mself\u001b[39;49m\u001b[38;5;241;43m.\u001b[39;49m\u001b[43mis_unique\u001b[49m\n",
      "File \u001b[0;32m~/opt/anaconda3/lib/python3.9/site-packages/pandas/_libs/properties.pyx:37\u001b[0m, in \u001b[0;36mpandas._libs.properties.CachedProperty.__get__\u001b[0;34m()\u001b[0m\n",
      "File \u001b[0;32m~/opt/anaconda3/lib/python3.9/site-packages/pandas/core/indexes/base.py:2237\u001b[0m, in \u001b[0;36mIndex.is_unique\u001b[0;34m(self)\u001b[0m\n\u001b[1;32m   2232\u001b[0m \u001b[38;5;129m@cache_readonly\u001b[39m\n\u001b[1;32m   2233\u001b[0m \u001b[38;5;28;01mdef\u001b[39;00m \u001b[38;5;21mis_unique\u001b[39m(\u001b[38;5;28mself\u001b[39m) \u001b[38;5;241m-\u001b[39m\u001b[38;5;241m>\u001b[39m \u001b[38;5;28mbool\u001b[39m:\n\u001b[1;32m   2234\u001b[0m     \u001b[38;5;124;03m\"\"\"\u001b[39;00m\n\u001b[1;32m   2235\u001b[0m \u001b[38;5;124;03m    Return if the index has unique values.\u001b[39;00m\n\u001b[1;32m   2236\u001b[0m \u001b[38;5;124;03m    \"\"\"\u001b[39;00m\n\u001b[0;32m-> 2237\u001b[0m     \u001b[38;5;28;01mreturn\u001b[39;00m \u001b[38;5;28;43mself\u001b[39;49m\u001b[38;5;241;43m.\u001b[39;49m\u001b[43m_engine\u001b[49m\u001b[38;5;241;43m.\u001b[39;49m\u001b[43mis_unique\u001b[49m\n",
      "\u001b[0;31mKeyboardInterrupt\u001b[0m: "
     ]
    }
   ],
   "source": [
    "# 1. drop를 통해 제거 <- 시간이 꽤 걸린다. 왜 이렇게 오래 걸리는지는 모르겠다.\n",
    "\n",
    "x1 = df_len_converted\n",
    "\n",
    "for i in x1.index:\n",
    "    if (x1.loc[i,:]==0).any(): # 0이 하나라도 있는 행에 대하여 제거\n",
    "        x1 = x1.drop(i)\n",
    "x1.head(5)"
   ]
  },
  {
   "cell_type": "code",
   "execution_count": 12,
   "id": "81ab728b",
   "metadata": {
    "scrolled": true
   },
   "outputs": [
    {
     "data": {
      "text/html": [
       "<div>\n",
       "<style scoped>\n",
       "    .dataframe tbody tr th:only-of-type {\n",
       "        vertical-align: middle;\n",
       "    }\n",
       "\n",
       "    .dataframe tbody tr th {\n",
       "        vertical-align: top;\n",
       "    }\n",
       "\n",
       "    .dataframe thead th {\n",
       "        text-align: right;\n",
       "    }\n",
       "</style>\n",
       "<table border=\"1\" class=\"dataframe\">\n",
       "  <thead>\n",
       "    <tr style=\"text-align: right;\">\n",
       "      <th></th>\n",
       "      <th>title</th>\n",
       "      <th>channelTitle</th>\n",
       "      <th>description</th>\n",
       "      <th>tag_num</th>\n",
       "    </tr>\n",
       "  </thead>\n",
       "  <tbody>\n",
       "    <tr>\n",
       "      <th>1</th>\n",
       "      <td>18.0</td>\n",
       "      <td>3.0</td>\n",
       "      <td>496.0</td>\n",
       "      <td>6.0</td>\n",
       "    </tr>\n",
       "    <tr>\n",
       "      <th>3</th>\n",
       "      <td>20.0</td>\n",
       "      <td>13.0</td>\n",
       "      <td>35.0</td>\n",
       "      <td>12.0</td>\n",
       "    </tr>\n",
       "    <tr>\n",
       "      <th>4</th>\n",
       "      <td>48.0</td>\n",
       "      <td>17.0</td>\n",
       "      <td>524.0</td>\n",
       "      <td>13.0</td>\n",
       "    </tr>\n",
       "    <tr>\n",
       "      <th>5</th>\n",
       "      <td>25.0</td>\n",
       "      <td>17.0</td>\n",
       "      <td>301.0</td>\n",
       "      <td>47.0</td>\n",
       "    </tr>\n",
       "    <tr>\n",
       "      <th>8</th>\n",
       "      <td>29.0</td>\n",
       "      <td>11.0</td>\n",
       "      <td>810.0</td>\n",
       "      <td>67.0</td>\n",
       "    </tr>\n",
       "  </tbody>\n",
       "</table>\n",
       "</div>"
      ],
      "text/plain": [
       "   title  channelTitle  description  tag_num\n",
       "1   18.0           3.0        496.0      6.0\n",
       "3   20.0          13.0         35.0     12.0\n",
       "4   48.0          17.0        524.0     13.0\n",
       "5   25.0          17.0        301.0     47.0\n",
       "8   29.0          11.0        810.0     67.0"
      ]
     },
     "execution_count": 12,
     "metadata": {},
     "output_type": "execute_result"
    }
   ],
   "source": [
    "# 2. concat을 통해 합치기 <- 마찬가지로 좀 오래 걸린다.\n",
    "\n",
    "x = df_len_converted\n",
    "x2 = pd.DataFrame(np.zeros(4).reshape(1,4), columns=x.columns) # 붙일 장소\n",
    "\n",
    "for i in x.index:\n",
    "    if (x.loc[i,:]!=0).all(): # 0이 하나도 없는 행에 대하여 추가\n",
    "        x_temp = pd.DataFrame(x.loc[i,:].values.reshape(1,4), index=[i], columns=x.loc[1,:].index)\n",
    "        x2 = pd.concat([x2, x_temp], axis=0)\n",
    "\n",
    "x2 = x2.drop(0) # 이전 0번째 삭제        \n",
    "x2.head(5)"
   ]
  },
  {
   "cell_type": "code",
   "execution_count": 226,
   "id": "6cc699d9",
   "metadata": {},
   "outputs": [
    {
     "name": "stdout",
     "output_type": "stream",
     "text": [
      "title : 0\n",
      "channelTitle : 0\n",
      "description : 0\n",
      "tag_num : 0\n",
      "-------------------------------------------------- \n",
      "\n",
      "title           True\n",
      "channelTitle    True\n",
      "description     True\n",
      "tag_num         True\n",
      "dtype: bool \n",
      "\n",
      "(117813, 4)\n",
      "(117813, 4)\n"
     ]
    }
   ],
   "source": [
    "# 0이 존재하는 행은 모두 삭제되었다.\n",
    "\n",
    "for i in column:\n",
    "    print(i, ':', x1[i][x1[i]==0].count()) # same as len(np.where(x.description==0)[0])\n",
    "print('-'*50, '\\n')\n",
    "\n",
    "# 두 방식 모두 동일한 값을 도출한다.\n",
    "\n",
    "print((x1 == x2).all(), '\\n')\n",
    "print(x1.shape)\n",
    "print(x2.shape)"
   ]
  },
  {
   "cell_type": "code",
   "execution_count": 13,
   "id": "1ddb6281",
   "metadata": {},
   "outputs": [
    {
     "data": {
      "text/html": [
       "<div>\n",
       "<style scoped>\n",
       "    .dataframe tbody tr th:only-of-type {\n",
       "        vertical-align: middle;\n",
       "    }\n",
       "\n",
       "    .dataframe tbody tr th {\n",
       "        vertical-align: top;\n",
       "    }\n",
       "\n",
       "    .dataframe thead th {\n",
       "        text-align: right;\n",
       "    }\n",
       "</style>\n",
       "<table border=\"1\" class=\"dataframe\">\n",
       "  <thead>\n",
       "    <tr style=\"text-align: right;\">\n",
       "      <th></th>\n",
       "      <th>title</th>\n",
       "      <th>channelTitle</th>\n",
       "      <th>description</th>\n",
       "      <th>tag_num</th>\n",
       "    </tr>\n",
       "  </thead>\n",
       "  <tbody>\n",
       "    <tr>\n",
       "      <th>1</th>\n",
       "      <td>18.0</td>\n",
       "      <td>3.0</td>\n",
       "      <td>496.0</td>\n",
       "      <td>6.0</td>\n",
       "    </tr>\n",
       "    <tr>\n",
       "      <th>3</th>\n",
       "      <td>20.0</td>\n",
       "      <td>13.0</td>\n",
       "      <td>35.0</td>\n",
       "      <td>12.0</td>\n",
       "    </tr>\n",
       "    <tr>\n",
       "      <th>4</th>\n",
       "      <td>48.0</td>\n",
       "      <td>17.0</td>\n",
       "      <td>524.0</td>\n",
       "      <td>13.0</td>\n",
       "    </tr>\n",
       "    <tr>\n",
       "      <th>5</th>\n",
       "      <td>25.0</td>\n",
       "      <td>17.0</td>\n",
       "      <td>301.0</td>\n",
       "      <td>47.0</td>\n",
       "    </tr>\n",
       "    <tr>\n",
       "      <th>8</th>\n",
       "      <td>29.0</td>\n",
       "      <td>11.0</td>\n",
       "      <td>810.0</td>\n",
       "      <td>67.0</td>\n",
       "    </tr>\n",
       "  </tbody>\n",
       "</table>\n",
       "</div>"
      ],
      "text/plain": [
       "   title  channelTitle  description  tag_num\n",
       "1   18.0           3.0        496.0      6.0\n",
       "3   20.0          13.0         35.0     12.0\n",
       "4   48.0          17.0        524.0     13.0\n",
       "5   25.0          17.0        301.0     47.0\n",
       "8   29.0          11.0        810.0     67.0"
      ]
     },
     "execution_count": 13,
     "metadata": {},
     "output_type": "execute_result"
    }
   ],
   "source": [
    "x2.head(5)"
   ]
  },
  {
   "cell_type": "code",
   "execution_count": 14,
   "id": "64a05f64",
   "metadata": {},
   "outputs": [
    {
     "name": "stdout",
     "output_type": "stream",
     "text": [
      "[new]\n",
      "\n",
      "title & channelTitle : 0.2\n",
      "title & description : 0.09\n",
      "title & tag_num : 0.23\n",
      "channelTitle & description : 0.12\n",
      "channelTitle & tag_num : 0.09\n",
      "description & tag_num : 0.03\n",
      "-------------------------------------------------- \n",
      "\n",
      "[old]\n",
      "\n",
      "title & channelTitle : 0.21\n",
      "title & description : 0.12\n",
      "title & tag_num : 0.26\n",
      "channelTitle & description : 0.12\n",
      "channelTitle & tag_num : 0.11\n",
      "description & tag_num : 0.07\n"
     ]
    }
   ],
   "source": [
    "# 따라서 0(NaN)을 제거하고 상관관계를 다시 한 번 구해보자.\n",
    "\n",
    "column = x2.columns\n",
    "\n",
    "print('[new]\\n')\n",
    "for i in range(len(column)):\n",
    "    for j in range(len(column)):\n",
    "        if i < j:\n",
    "            print('{0} & {1} : {2}'.format(column[i],column[j],\n",
    "                                           np.round((x2[column[i]]).corr(x2[column[j]]), 2)))\n",
    "            \n",
    "print('-'*50, '\\n')\n",
    "print('[old]\\n')\n",
    "\n",
    "column = df_len_converted.columns\n",
    "x = df_len_converted\n",
    "\n",
    "for i in range(len(column)):\n",
    "    for j in range(len(column)):\n",
    "        if i < j:\n",
    "            print('{0} & {1} : {2}'.format(column[i],column[j],\n",
    "                                           np.round((x[column[i]]).corr(x[column[j]]), 2)))"
   ]
  },
  {
   "cell_type": "markdown",
   "id": "626bec71",
   "metadata": {},
   "source": [
    "### 결론\n",
    "*  오히려 0값을 제거하니 상관관계가 더 떨어졌다.\n",
    "* 따라서 제목과 채널이름 그리고 태그와 묘사들의 길이 간에는 상관관계가 없다고 판단되었다.\n",
    "* 그나마 높은 항목은 (제목,테그)=0.26, (제목,채널이름)=0.21 이다."
   ]
  },
  {
   "cell_type": "code",
   "execution_count": null,
   "id": "206c2829",
   "metadata": {},
   "outputs": [],
   "source": []
  },
  {
   "cell_type": "markdown",
   "id": "2f90fa2c",
   "metadata": {},
   "source": [
    "### 1-(2). 인기동영상을 지속적으로 배출하는 그룹(group1)과 그렇지 않은 그룹(group2)간에 좋아요나 싫어요 등에 유의미한 차이가 있는가? (조회수에 대비하여)"
   ]
  },
  {
   "cell_type": "code",
   "execution_count": 15,
   "id": "cc458e53",
   "metadata": {
    "scrolled": true
   },
   "outputs": [
    {
     "data": {
      "text/html": [
       "<div>\n",
       "<style scoped>\n",
       "    .dataframe tbody tr th:only-of-type {\n",
       "        vertical-align: middle;\n",
       "    }\n",
       "\n",
       "    .dataframe tbody tr th {\n",
       "        vertical-align: top;\n",
       "    }\n",
       "\n",
       "    .dataframe thead th {\n",
       "        text-align: right;\n",
       "    }\n",
       "</style>\n",
       "<table border=\"1\" class=\"dataframe\">\n",
       "  <thead>\n",
       "    <tr style=\"text-align: right;\">\n",
       "      <th></th>\n",
       "      <th>video_id</th>\n",
       "      <th>title</th>\n",
       "      <th>publishedAt</th>\n",
       "      <th>channelId</th>\n",
       "      <th>channelTitle</th>\n",
       "      <th>trending_date</th>\n",
       "      <th>tags</th>\n",
       "      <th>view_count</th>\n",
       "      <th>likes</th>\n",
       "      <th>dislikes</th>\n",
       "      <th>comment_count</th>\n",
       "      <th>comments_disabled</th>\n",
       "      <th>ratings_disabled</th>\n",
       "      <th>description</th>\n",
       "      <th>category_name</th>\n",
       "      <th>tag_num</th>\n",
       "    </tr>\n",
       "  </thead>\n",
       "  <tbody>\n",
       "    <tr>\n",
       "      <th>0</th>\n",
       "      <td>uq5LClQN3cE</td>\n",
       "      <td>안녕하세요 보겸입니다</td>\n",
       "      <td>2020-08-09 09:32:48</td>\n",
       "      <td>UCu9BCtGIEr73LXZsKmoujKw</td>\n",
       "      <td>보겸 BK</td>\n",
       "      <td>2020-08-12 00:00:00</td>\n",
       "      <td>보겸|bokyem</td>\n",
       "      <td>5947503</td>\n",
       "      <td>53326</td>\n",
       "      <td>105756</td>\n",
       "      <td>139946</td>\n",
       "      <td>False</td>\n",
       "      <td>False</td>\n",
       "      <td>NaN</td>\n",
       "      <td>Entertainment</td>\n",
       "      <td>2</td>\n",
       "    </tr>\n",
       "  </tbody>\n",
       "</table>\n",
       "</div>"
      ],
      "text/plain": [
       "      video_id        title          publishedAt                 channelId  \\\n",
       "0  uq5LClQN3cE  안녕하세요 보겸입니다  2020-08-09 09:32:48  UCu9BCtGIEr73LXZsKmoujKw   \n",
       "\n",
       "  channelTitle        trending_date       tags  view_count  likes  dislikes  \\\n",
       "0        보겸 BK  2020-08-12 00:00:00  보겸|bokyem     5947503  53326    105756   \n",
       "\n",
       "   comment_count  comments_disabled  ratings_disabled description  \\\n",
       "0         139946              False             False         NaN   \n",
       "\n",
       "   category_name  tag_num  \n",
       "0  Entertainment        2  "
      ]
     },
     "execution_count": 15,
     "metadata": {},
     "output_type": "execute_result"
    }
   ],
   "source": [
    "df.head(1)"
   ]
  },
  {
   "cell_type": "markdown",
   "id": "bc5f92f0",
   "metadata": {},
   "source": [
    "#### 채널이름과 아이디는 서로 일대일 대응인가?"
   ]
  },
  {
   "cell_type": "code",
   "execution_count": 16,
   "id": "e6e1e752",
   "metadata": {},
   "outputs": [
    {
     "name": "stdout",
     "output_type": "stream",
     "text": [
      "# of unique channelId : 2868\n",
      "# of unique channelTitle : 3038\n"
     ]
    }
   ],
   "source": [
    "# 채널이름과 아이디는 서로 일대일 대응인가?\n",
    "\n",
    "print('# of unique channelId :', len(df.channelId.unique())) # == len(np.unique(df.channelId))\n",
    "print('# of unique channelTitle :', len(df.channelTitle.unique()))\n",
    "\n",
    "# 일대일 대응이 아니다. 채널 제목의 수가 200개 정도 더 많다.\n",
    "# 아마 채널이름을 변경하면 채널아이디는 고정이 되는 듯 하다.\n",
    "# 즉, 채널이름이 여러개인 채널아이디가 존재할 것\n",
    "# 반대로 채널아이디가 여러개인 채널이름은 없을 것이다."
   ]
  },
  {
   "cell_type": "code",
   "execution_count": 8,
   "id": "9057aacf",
   "metadata": {},
   "outputs": [
    {
     "name": "stdout",
     "output_type": "stream",
     "text": [
      "채널아이디가 동일하나 채널명이 다른 것들의 갯수 :  172\n",
      "채널명이 같으나 채널아이디가 다른 것들의 갯수 :  5\n"
     ]
    }
   ],
   "source": [
    "x = df.loc[:,['channelId','channelTitle']]\n",
    "\n",
    "print('채널아이디가 동일하나 채널명이 다른 것들의 갯수 : ', (x.groupby('channelId').nunique() > 1).sum().values[0])\n",
    "print('채널명이 같으나 채널아이디가 다른 것들의 갯수 : ', (x.groupby('channelTitle').nunique() > 1).sum().values[0])"
   ]
  },
  {
   "cell_type": "code",
   "execution_count": 9,
   "id": "011b1ac2",
   "metadata": {
    "scrolled": true
   },
   "outputs": [
    {
     "name": "stdout",
     "output_type": "stream",
     "text": [
      "index : [ 99 435 586 789 882] \n",
      "\n",
      "                         channelId\n",
      "channelTitle                      \n",
      "BE'O - Topic                     2\n",
      "KONNECT Entertainment            2\n",
      "NCT U - Topic                    2\n",
      "THE BOYZ                         2\n",
      "Various Artists - Topic         27\n"
     ]
    }
   ],
   "source": [
    "# 채널명이 같으나 채널아이디가 다른 것들을 찾아보자.\n",
    "\n",
    "print('index :', np.where(x.groupby('channelTitle').nunique()>1)[0], '\\n')\n",
    "print(x.groupby('channelTitle').nunique().iloc[np.where(x.groupby('channelTitle').nunique()>1)[0],:])"
   ]
  },
  {
   "cell_type": "code",
   "execution_count": 10,
   "id": "d2d0d2d5",
   "metadata": {},
   "outputs": [
    {
     "data": {
      "text/plain": [
       "array(['UC1B59rS0Gf9loL9ggfMSpfA', 'UCZLIclg1_Jgrrh8lBgP2mXQ'],\n",
       "      dtype=object)"
      ]
     },
     "execution_count": 10,
     "metadata": {},
     "output_type": "execute_result"
    }
   ],
   "source": [
    "# 왜 중복이 되는지는 모르겠으나 확실히 다른 아이디를 가졌다.\n",
    "# 계정을 동일한 채널명으로 또 팠을수도 있다.\n",
    "\n",
    "df[df.channelTitle=='BE\\'O - Topic'].channelId.unique()"
   ]
  },
  {
   "cell_type": "code",
   "execution_count": 11,
   "id": "930cb7c3",
   "metadata": {
    "scrolled": true
   },
   "outputs": [
    {
     "name": "stdout",
     "output_type": "stream",
     "text": [
      "index : [  18   20   34   57   63   75   79  155  161  200  203  239  244  256\n",
      "  270  274  282  300  305  311  312  359  416  420  422  429  435  473\n",
      "  501  508  521  557  562  575  577  597  598  607  627  669  680  696\n",
      "  716  726  741  761  790  792  835  836  843  848  849  874  877  900\n",
      "  922  939  980  997 1031 1059 1072 1098 1111 1161 1201 1203 1210 1238\n",
      " 1244 1260 1267 1272 1286 1338 1351 1371 1382 1399 1421 1453 1461 1474\n",
      " 1508 1567 1591 1609 1612 1642 1648 1669 1712 1724 1765 1802 1812 1864\n",
      " 1875 1890 1905 1907 1915 1931 1973 1994 2015 2029 2035 2039 2046 2057\n",
      " 2059 2089 2098 2102 2109 2142 2160 2161 2171 2172 2182 2188 2189 2216\n",
      " 2218 2237 2246 2267 2272 2285 2302 2309 2318 2325 2326 2336 2337 2349\n",
      " 2381 2386 2412 2436 2449 2470 2481 2518 2554 2560 2569 2575 2587 2601\n",
      " 2613 2618 2632 2645 2650 2655 2705 2749 2757 2766 2782 2803 2827 2830\n",
      " 2832 2833 2848 2853] \n",
      "\n",
      "                          channelTitle\n",
      "channelId                             \n",
      "UC-IBt8pM8hWx8wiwjcDLdIQ             2\n",
      "UC-IYpdOqjkER7B6cnChwlhA             2\n",
      "UC-VbFgagk6GJGDJgRQIMpZw             2\n",
      "UC-tf6zl3dN2oTpvdTnBKScA             2\n",
      "UC01OsvJ4CXxkVUfCdHi9rpg             2\n",
      "...                                ...\n",
      "UCyvoo7R6175xolGe7GyY7Bg             2\n",
      "UCz0F-eW0TCO7WiC3cBqJ-qQ             2\n",
      "UCz0F9ndJTA0eL2XyL5R8YNg             2\n",
      "UCzay0uHEiaSsKmuGkCg-mSg             2\n",
      "UCzh4yY8rl38knH33XpNqXbQ             2\n",
      "\n",
      "[172 rows x 1 columns]\n"
     ]
    }
   ],
   "source": [
    "# 채널아이디가 같으나 채널명이 다른 것들을 찾아보자.\n",
    "\n",
    "print('index :', np.where(x.groupby('channelId').nunique()>1)[0], '\\n')\n",
    "print(x.groupby('channelId').nunique().iloc[np.where(x.groupby('channelId').nunique()>1)[0],:])"
   ]
  },
  {
   "cell_type": "code",
   "execution_count": 12,
   "id": "058c3235",
   "metadata": {},
   "outputs": [
    {
     "name": "stdout",
     "output_type": "stream",
     "text": [
      "채널아이디별 중복되는 채널이름의 갯수 : [2 3 4]\n"
     ]
    }
   ],
   "source": [
    "y = x.groupby('channelId').nunique().iloc[np.where(x.groupby('channelId').nunique()>1)[0],:].channelTitle\n",
    "\n",
    "print('채널아이디별 중복되는 채널이름의 갯수 :', y.unique())"
   ]
  },
  {
   "cell_type": "code",
   "execution_count": 13,
   "id": "00be155c",
   "metadata": {},
   "outputs": [
    {
     "data": {
      "text/plain": [
       "2    147\n",
       "3     22\n",
       "4      3\n",
       "Name: channelTitle, dtype: int64"
      ]
     },
     "execution_count": 13,
     "metadata": {},
     "output_type": "execute_result"
    }
   ],
   "source": [
    "y = x.groupby('channelId').nunique().iloc[np.where(x.groupby('channelId').nunique()>1)[0],:]['channelTitle']\n",
    "y.value_counts()"
   ]
  },
  {
   "cell_type": "code",
   "execution_count": 14,
   "id": "b58edd73",
   "metadata": {},
   "outputs": [
    {
     "data": {
      "text/plain": [
       "172"
      ]
     },
     "execution_count": 14,
     "metadata": {},
     "output_type": "execute_result"
    }
   ],
   "source": [
    "len(list(y.index))"
   ]
  },
  {
   "cell_type": "code",
   "execution_count": null,
   "id": "19dcd8ba",
   "metadata": {},
   "outputs": [],
   "source": []
  },
  {
   "cell_type": "markdown",
   "id": "3e5c1353",
   "metadata": {},
   "source": [
    "#### 결론\n",
    "* 채널명보다 채널아이디의 갯수가 더 적다.\n",
    "* 같은 채널명을 가지지만 채널아이디가 다른 경우는 거의 없다.(5개)\n",
    "* 반대로 같은 채널아이디에 다른 채널명인 경우는 172개이지만 전체갯수에 비해서는 적다.\n",
    "* 크게 중요하지는 않지만 그래도\n",
    "* 채널명이 아닌 채널아이디를 기준으로 그룹을 나누어보자.\n",
    "* group1 = 인기동영상이 1개인 채널 ()\n",
    "* group2 = 인기동영상이 2개이상인 채널 (147+22+3=172)"
   ]
  },
  {
   "cell_type": "code",
   "execution_count": 15,
   "id": "5ca673d3",
   "metadata": {},
   "outputs": [
    {
     "data": {
      "text/plain": [
       "Index(['video_id', 'title', 'publishedAt', 'channelId', 'channelTitle',\n",
       "       'trending_date', 'tags', 'view_count', 'likes', 'dislikes',\n",
       "       'comment_count', 'comments_disabled', 'ratings_disabled', 'description',\n",
       "       'category_name', 'tag_num'],\n",
       "      dtype='object')"
      ]
     },
     "execution_count": 15,
     "metadata": {},
     "output_type": "execute_result"
    }
   ],
   "source": [
    "df.columns"
   ]
  },
  {
   "cell_type": "code",
   "execution_count": 16,
   "id": "d6ca8a9d",
   "metadata": {},
   "outputs": [
    {
     "data": {
      "text/html": [
       "<div>\n",
       "<style scoped>\n",
       "    .dataframe tbody tr th:only-of-type {\n",
       "        vertical-align: middle;\n",
       "    }\n",
       "\n",
       "    .dataframe tbody tr th {\n",
       "        vertical-align: top;\n",
       "    }\n",
       "\n",
       "    .dataframe thead th {\n",
       "        text-align: right;\n",
       "    }\n",
       "</style>\n",
       "<table border=\"1\" class=\"dataframe\">\n",
       "  <thead>\n",
       "    <tr style=\"text-align: right;\">\n",
       "      <th></th>\n",
       "      <th>video_id</th>\n",
       "      <th>channelId</th>\n",
       "    </tr>\n",
       "  </thead>\n",
       "  <tbody>\n",
       "    <tr>\n",
       "      <th>0</th>\n",
       "      <td>uq5LClQN3cE</td>\n",
       "      <td>UCu9BCtGIEr73LXZsKmoujKw</td>\n",
       "    </tr>\n",
       "  </tbody>\n",
       "</table>\n",
       "</div>"
      ],
      "text/plain": [
       "      video_id                 channelId\n",
       "0  uq5LClQN3cE  UCu9BCtGIEr73LXZsKmoujKw"
      ]
     },
     "execution_count": 16,
     "metadata": {},
     "output_type": "execute_result"
    }
   ],
   "source": [
    "x = df.loc[:,['video_id','channelId']]\n",
    "x.head(1)"
   ]
  },
  {
   "cell_type": "code",
   "execution_count": 17,
   "id": "1d62c4a9",
   "metadata": {
    "scrolled": false
   },
   "outputs": [
    {
     "data": {
      "text/plain": [
       "Index(['UC-0229MiVYnQoUxdLJnFl_g', 'UC-0C8yVGJy-cS4FGlYKelWw',\n",
       "       'UC-0tICWyA0_AJAVMBHL8GdQ', 'UC-5acDjU6XFWu-__G17V_YQ',\n",
       "       'UC-603KNB_fvzHP9MpBqSKWg', 'UC-60AlFBYJEoItr-u-tQXbw',\n",
       "       'UC-7ZO1RZQq4O_xq9Zu8CyOg', 'UC-9RQCJ0gS_Kgt7J0SVrE8w',\n",
       "       'UC-BqPABOl7c7rR5EoJJZ0UA', 'UC-Bsa2ivAGWq7bsSPrPGFVA',\n",
       "       ...\n",
       "       'UCzgxx_DM2Dcb9Y1spb9mUJA', 'UCzh4yY8rl38knH33XpNqXbQ',\n",
       "       'UCzjDgV-G8_J-iRbkYktqyGQ', 'UCzjPaOBCe0K2ma8XJzsNonA',\n",
       "       'UCzjiRWjfbtHwdpSLTs0LzUw', 'UCznImSIaxZR7fdLCICLdgaQ',\n",
       "       'UCzt24ffdUiJvJAm5HY084aw', 'UCzteSXznVjwESizsCcSKSWw',\n",
       "       'UCzw-C7fNfs018R1FzIKnlaA', 'UCzz58-H0wzmGoFi3MO_9ePQ'],\n",
       "      dtype='object', name='channelId', length=1805)"
      ]
     },
     "execution_count": 17,
     "metadata": {},
     "output_type": "execute_result"
    }
   ],
   "source": [
    "# group2 (채널아이디 하나에 2개이상의 비디오아이디가 있는 그룹)\n",
    "\n",
    "y = x.groupby('channelId').nunique().iloc[np.where(x.groupby('channelId').nunique()>1)[0],:]\n",
    "idx = y.index\n",
    "idx # 인덱스 추출"
   ]
  },
  {
   "cell_type": "code",
   "execution_count": 18,
   "id": "26d6a188",
   "metadata": {},
   "outputs": [],
   "source": [
    "# 프로그램이 완료될 때까지 시간이 꽤 소요된다.\n",
    "\n",
    "n = len(df.columns) # 16\n",
    "group1 = pd.DataFrame(np.zeros(n).reshape(1,n), columns=df.columns) # 붙일 장소\n",
    "group2 = pd.DataFrame(np.zeros(n).reshape(1,n), columns=df.columns)\n",
    "\n",
    "for i in df.index:\n",
    "    if (df.loc[i,'channelId'] in idx): # 2개이상의 인기동영상을 가진 채널이면\n",
    "        x_temp1 = pd.DataFrame(df.loc[i,:].values.reshape(1,n), index=[i], columns=df.loc[1,:].index)\n",
    "        group2 = pd.concat([group2, x_temp1], axis=0)\n",
    "    else: # 1개의 인기동영상만을 가진 채널이면\n",
    "        x_temp2 = pd.DataFrame(df.loc[i,:].values.reshape(1,n), index=[i], columns=df.loc[1,:].index)\n",
    "        group1 = pd.concat([group1, x_temp2], axis=0)\n",
    "\n",
    "group1 = group1.drop(0) # 이전 0번째 삭제\n",
    "group2 = group2.drop(0)"
   ]
  },
  {
   "cell_type": "code",
   "execution_count": 19,
   "id": "131a289d",
   "metadata": {},
   "outputs": [
    {
     "data": {
      "text/html": [
       "<div>\n",
       "<style scoped>\n",
       "    .dataframe tbody tr th:only-of-type {\n",
       "        vertical-align: middle;\n",
       "    }\n",
       "\n",
       "    .dataframe tbody tr th {\n",
       "        vertical-align: top;\n",
       "    }\n",
       "\n",
       "    .dataframe thead th {\n",
       "        text-align: right;\n",
       "    }\n",
       "</style>\n",
       "<table border=\"1\" class=\"dataframe\">\n",
       "  <thead>\n",
       "    <tr style=\"text-align: right;\">\n",
       "      <th></th>\n",
       "      <th>video_id</th>\n",
       "      <th>title</th>\n",
       "      <th>publishedAt</th>\n",
       "      <th>channelId</th>\n",
       "      <th>channelTitle</th>\n",
       "      <th>trending_date</th>\n",
       "      <th>tags</th>\n",
       "      <th>view_count</th>\n",
       "      <th>likes</th>\n",
       "      <th>dislikes</th>\n",
       "      <th>comment_count</th>\n",
       "      <th>comments_disabled</th>\n",
       "      <th>ratings_disabled</th>\n",
       "      <th>description</th>\n",
       "      <th>category_name</th>\n",
       "      <th>tag_num</th>\n",
       "    </tr>\n",
       "  </thead>\n",
       "  <tbody>\n",
       "    <tr>\n",
       "      <th>24</th>\n",
       "      <td>oQHdEeUcfO8</td>\n",
       "      <td>룬테라 이야기: 타곤 | '도약의 길'</td>\n",
       "      <td>2020-08-11 15:00:13</td>\n",
       "      <td>UCLuCG6sPAQX_bhTt1ztN1FQ</td>\n",
       "      <td>레전드 오브 룬테라</td>\n",
       "      <td>2020-08-12 00:00:00</td>\n",
       "      <td>Riotgames|라이엇 게임즈|Riot|라이엇|리그오브레전드|리그 오브 레전드|롤...</td>\n",
       "      <td>158938</td>\n",
       "      <td>1077</td>\n",
       "      <td>20</td>\n",
       "      <td>554</td>\n",
       "      <td>False</td>\n",
       "      <td>False</td>\n",
       "      <td>타곤의 루나리와 솔라리에 합류하시겠어요? 지금 바로 https://playrunet...</td>\n",
       "      <td>Gaming</td>\n",
       "      <td>18</td>\n",
       "    </tr>\n",
       "  </tbody>\n",
       "</table>\n",
       "</div>"
      ],
      "text/plain": [
       "       video_id                  title          publishedAt  \\\n",
       "24  oQHdEeUcfO8  룬테라 이야기: 타곤 | '도약의 길'  2020-08-11 15:00:13   \n",
       "\n",
       "                   channelId channelTitle        trending_date  \\\n",
       "24  UCLuCG6sPAQX_bhTt1ztN1FQ   레전드 오브 룬테라  2020-08-12 00:00:00   \n",
       "\n",
       "                                                 tags view_count likes  \\\n",
       "24  Riotgames|라이엇 게임즈|Riot|라이엇|리그오브레전드|리그 오브 레전드|롤...     158938  1077   \n",
       "\n",
       "   dislikes comment_count comments_disabled ratings_disabled  \\\n",
       "24       20           554             False            False   \n",
       "\n",
       "                                          description category_name tag_num  \n",
       "24  타곤의 루나리와 솔라리에 합류하시겠어요? 지금 바로 https://playrunet...        Gaming      18  "
      ]
     },
     "execution_count": 19,
     "metadata": {},
     "output_type": "execute_result"
    }
   ],
   "source": [
    "group1.head(1)"
   ]
  },
  {
   "cell_type": "code",
   "execution_count": 20,
   "id": "d0c4b1a4",
   "metadata": {},
   "outputs": [
    {
     "data": {
      "text/html": [
       "<div>\n",
       "<style scoped>\n",
       "    .dataframe tbody tr th:only-of-type {\n",
       "        vertical-align: middle;\n",
       "    }\n",
       "\n",
       "    .dataframe tbody tr th {\n",
       "        vertical-align: top;\n",
       "    }\n",
       "\n",
       "    .dataframe thead th {\n",
       "        text-align: right;\n",
       "    }\n",
       "</style>\n",
       "<table border=\"1\" class=\"dataframe\">\n",
       "  <thead>\n",
       "    <tr style=\"text-align: right;\">\n",
       "      <th></th>\n",
       "      <th>video_id</th>\n",
       "      <th>title</th>\n",
       "      <th>publishedAt</th>\n",
       "      <th>channelId</th>\n",
       "      <th>channelTitle</th>\n",
       "      <th>trending_date</th>\n",
       "      <th>tags</th>\n",
       "      <th>view_count</th>\n",
       "      <th>likes</th>\n",
       "      <th>dislikes</th>\n",
       "      <th>comment_count</th>\n",
       "      <th>comments_disabled</th>\n",
       "      <th>ratings_disabled</th>\n",
       "      <th>description</th>\n",
       "      <th>category_name</th>\n",
       "      <th>tag_num</th>\n",
       "    </tr>\n",
       "  </thead>\n",
       "  <tbody>\n",
       "    <tr>\n",
       "      <th>1</th>\n",
       "      <td>I-ZbZCHsHD0</td>\n",
       "      <td>부락토스의 계획 [총몇명 프리퀄]</td>\n",
       "      <td>2020-08-12 09:00:08</td>\n",
       "      <td>UCRuSxVu4iqTK5kCh90ntAgA</td>\n",
       "      <td>총몇명</td>\n",
       "      <td>2020-08-12 00:00:00</td>\n",
       "      <td>총몇명|재밌는 만화|부락토스|루시퍼|총몇명 프리퀄|총몇명 스토리</td>\n",
       "      <td>963384</td>\n",
       "      <td>28244</td>\n",
       "      <td>494</td>\n",
       "      <td>3339</td>\n",
       "      <td>False</td>\n",
       "      <td>False</td>\n",
       "      <td>오늘도 정말 감사드립니다!!총몇명 스튜디오 - 총몇명, 십제곱, 5G민, MOVE혁...</td>\n",
       "      <td>Film &amp; Animation</td>\n",
       "      <td>6</td>\n",
       "    </tr>\n",
       "  </tbody>\n",
       "</table>\n",
       "</div>"
      ],
      "text/plain": [
       "      video_id               title          publishedAt  \\\n",
       "1  I-ZbZCHsHD0  부락토스의 계획 [총몇명 프리퀄]  2020-08-12 09:00:08   \n",
       "\n",
       "                  channelId channelTitle        trending_date  \\\n",
       "1  UCRuSxVu4iqTK5kCh90ntAgA          총몇명  2020-08-12 00:00:00   \n",
       "\n",
       "                                  tags view_count  likes dislikes  \\\n",
       "1  총몇명|재밌는 만화|부락토스|루시퍼|총몇명 프리퀄|총몇명 스토리     963384  28244      494   \n",
       "\n",
       "  comment_count comments_disabled ratings_disabled  \\\n",
       "1          3339             False            False   \n",
       "\n",
       "                                         description     category_name tag_num  \n",
       "1  오늘도 정말 감사드립니다!!총몇명 스튜디오 - 총몇명, 십제곱, 5G민, MOVE혁...  Film & Animation       6  "
      ]
     },
     "execution_count": 20,
     "metadata": {},
     "output_type": "execute_result"
    }
   ],
   "source": [
    "group2.head(1)"
   ]
  },
  {
   "cell_type": "code",
   "execution_count": 25,
   "id": "5aca1b17",
   "metadata": {
    "scrolled": true
   },
   "outputs": [
    {
     "name": "stdout",
     "output_type": "stream",
     "text": [
      "view count Comparision\n",
      "\n",
      "group1 : 1318959.0 vs group2 1637863.0\n"
     ]
    }
   ],
   "source": [
    "# 조회수 평균비교\n",
    "\n",
    "print('view count Comparision\\n')\n",
    "print('group1 : {0} vs group2 {1}'.format(np.round(group1.view_count.mean(),0),\n",
    "                                          np.round(group2.view_count.mean(),0)))"
   ]
  },
  {
   "cell_type": "code",
   "execution_count": 29,
   "id": "e455a294",
   "metadata": {
    "scrolled": true
   },
   "outputs": [
    {
     "name": "stdout",
     "output_type": "stream",
     "text": [
      "likes Comparision\n",
      "\n",
      "group1 : 62498.0 vs group2 74806.0\n",
      "-------------------------------------------------- \n",
      "\n",
      "dislikes Comparision\n",
      "\n",
      "group1 : 926.0 vs group2 866.0\n"
     ]
    }
   ],
   "source": [
    "# 좋아요수,싫어요수 평균비교\n",
    "\n",
    "print('likes Comparision\\n')\n",
    "print('group1 : {0} vs group2 {1}'.format(np.round(group1.likes.mean()),\n",
    "                                          np.round(group2.likes.mean())))\n",
    "print('-'*50, '\\n')\n",
    "\n",
    "print('dislikes Comparision\\n')\n",
    "print('group1 : {0} vs group2 {1}'.format(np.round(group1.dislikes.mean()),\n",
    "                                          np.round(group2.dislikes.mean())))"
   ]
  },
  {
   "cell_type": "code",
   "execution_count": 36,
   "id": "9d05a181",
   "metadata": {},
   "outputs": [
    {
     "data": {
      "text/plain": [
       "0.030451351149508275"
      ]
     },
     "execution_count": 36,
     "metadata": {},
     "output_type": "execute_result"
    }
   ],
   "source": []
  },
  {
   "cell_type": "code",
   "execution_count": 45,
   "id": "4554e94d",
   "metadata": {},
   "outputs": [
    {
     "name": "stdout",
     "output_type": "stream",
     "text": [
      "likes Rate Comparision\n",
      "\n",
      "group1 : 0.03289 vs group2 0.03045\n",
      "-------------------------------------------------- \n",
      "\n",
      "dislikes Rate Comparision\n",
      "\n",
      "group1 : 0.00059 vs group2 0.00042\n"
     ]
    }
   ],
   "source": [
    "# 조회수대비 좋아요, 싫어요 비율의 평균비교\n",
    "\n",
    "print('likes Rate Comparision\\n')\n",
    "print('group1 : {0} vs group2 {1}'.format(\n",
    "    np.round((group1.likes.values / group1.view_count.values).mean(),5),\n",
    "    np.round((group2.likes.values / group2.view_count.values).mean(),5)))\n",
    "print('-'*50, '\\n')\n",
    "\n",
    "print('dislikes Rate Comparision\\n')\n",
    "print('group1 : {0} vs group2 {1}'.format(\n",
    "    np.round((group1.dislikes.values / group1.view_count.values).mean(),5), \n",
    "    np.round((group2.dislikes.values / group2.view_count.values).mean(),5)))"
   ]
  },
  {
   "cell_type": "markdown",
   "id": "5a801a2a",
   "metadata": {},
   "source": [
    "### 아주 근소하게 Group1(인기동영상이 여러개인 채널)이\n",
    "### Group2(인기동영상이 1개인 채널)보다 조회수, 좋아요수, 싫어요수, 좋아요비율, 싫어요비율이 약간 더 높다."
   ]
  }
 ],
 "metadata": {
  "kernelspec": {
   "display_name": "Python 3 (ipykernel)",
   "language": "python",
   "name": "python3"
  },
  "language_info": {
   "codemirror_mode": {
    "name": "ipython",
    "version": 3
   },
   "file_extension": ".py",
   "mimetype": "text/x-python",
   "name": "python",
   "nbconvert_exporter": "python",
   "pygments_lexer": "ipython3",
   "version": "3.9.12"
  }
 },
 "nbformat": 4,
 "nbformat_minor": 5
}

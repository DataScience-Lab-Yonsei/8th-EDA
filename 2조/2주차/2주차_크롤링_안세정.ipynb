{
 "cells": [
  {
   "cell_type": "code",
   "execution_count": 9,
   "id": "27708784",
   "metadata": {},
   "outputs": [],
   "source": [
    "from selenium import webdriver\n",
    "\n",
    "from selenium.webdriver.chrome.service import Service\n",
    "from webdriver_manager.chrome import ChromeDriverManager\n",
    "\n",
    "from selenium.webdriver.support.ui import WebDriverWait\n",
    "\n",
    "from selenium.webdriver.support import expected_conditions as EC\n",
    "from selenium.webdriver.common.by import By"
   ]
  },
  {
   "cell_type": "code",
   "execution_count": 13,
   "id": "e8a3e812",
   "metadata": {},
   "outputs": [
    {
     "name": "stdout",
     "output_type": "stream",
     "text": [
      "\n",
      "LifeSG\n",
      "Telegram\n",
      "TikTok\n",
      "Craft School: Monster Class\n",
      "Singpass\n",
      "Instagram\n",
      "WhatsApp Messenger\n",
      "CapCut - Video Editor\n",
      "Facebook\n",
      "1.1.1.1: Faster & Safer Internet\n",
      "Facebook Lite\n",
      "shopFarEast\n",
      "MySejahtera\n",
      "Messenger\n",
      "Twee -Save Twitter Video&GIF\n",
      "QR & Barcode Scanner\n",
      "Shopee: Shop and Get Cashback\n",
      "Snapchat\n",
      "MyICA Mobile\n",
      "Hyper Front\n",
      "JobStreet: Build Your Career\n",
      "FairPrice: Fast, Reliable\n",
      "WhatsApp Business\n",
      "Bravo Booster: One-tap Cleaner\n",
      "Stumble Guys\n",
      "Garena Free Fire: 5th Anniv.\n",
      "Private Video Downloader\n",
      "Ludo King™\n",
      "ZOOM Cloud Meetings\n",
      "Woodoku\n",
      "MX Player\n",
      "Easy Scanner\n",
      "File Recovery - Restore Files\n",
      "Speed Booster-Phone Cleaner\n",
      "Bravo Cleaner: Speed Booster\n",
      "Secure VPN－Safer Internet\n",
      "Garena Free Fire MAX\n",
      "ZArchiver\n",
      "Kris+ by Singapore Airlines\n",
      "My SIMBA\n",
      "ATOM Store, Myanmar\n",
      "Spotify: Music and Podcasts\n",
      "DBS digibank\n",
      "Diablo Immortal\n",
      "Candy Crush Saga\n",
      "Subway Surfers\n",
      "SuperVPN Fast VPN Client\n",
      "atome SG - Buy Now. Pay Later\n",
      "Google Translate\n",
      "Thunder VPN - Fast, Safe VPN\n"
     ]
    }
   ],
   "source": [
    "browser = webdriver.Chrome(service = Service(ChromeDriverManager().install()))\n",
    "browser.get('https://play.google.com/store/apps/collection/topselling_free')\n",
    "top_apps = browser.find_elements(By.CLASS_NAME, \"Epkrse\")\n",
    "\n",
    "for app in top_apps:\n",
    "    print(app.text)"
   ]
  },
  {
   "cell_type": "code",
   "execution_count": 23,
   "id": "722964e3",
   "metadata": {},
   "outputs": [],
   "source": [
    "from datetime import datetime\n",
    "\n",
    "def top_games(\n",
    "    web_driver,\n",
    "    device: str = '',\n",
    "    limit: int = 10\n",
    "):\n",
    "    device_url = f'/games?device={device}'\n",
    "    game_rank_url = f'https://play.google.com/store{device_url}'\n",
    "\n",
    "    web_driver.get(game_rank_url)\n",
    "    top_apps = browser.find_elements(By.CLASS_NAME, \"Epkrse\")\n",
    "\n",
    "    for idx, app in enumerate(top_apps[:limit]):\n",
    "        content = app.text.split('. ')[-1]\n",
    "\n",
    "        app_title = content.split('\\n')[0]\n",
    "        corp = content.split('\\n')[-1]\n",
    "\n",
    "        print(f'{idx + 1}위 {app_title} - {corp}')"
   ]
  },
  {
   "cell_type": "code",
   "execution_count": 24,
   "id": "8a71ff5c",
   "metadata": {
    "scrolled": false
   },
   "outputs": [
    {
     "name": "stdout",
     "output_type": "stream",
     "text": [
      "\n",
      "------------------------------------------------------------\n",
      "2022-07-25 Top 10 Apps for phone\n",
      "------------------------------------------------------------\n",
      "------------------------------------------------------------\n",
      "2022-07-25 Top 10 Apps for tablet\n",
      "------------------------------------------------------------\n",
      "1위 Avakin Life - 3D Virtual World - Avakin Life - 3D Virtual World\n",
      "2위 BTS Island: In the SEOM - BTS Island: In the SEOM\n",
      "3위 Hero Wars – Fantasy Battles - Hero Wars – Fantasy Battles\n",
      "4위 Mini Basketball - Mini Basketball\n",
      "5위 Garena Blockman GO - Garena Blockman GO\n",
      "6위 Royal Farm - Royal Farm\n",
      "7위 Bleach: Brave Souls Anime Game - Bleach: Brave Souls Anime Game\n",
      "8위 Time Princess: Story Traveler - Time Princess: Story Traveler\n",
      "9위 Road to Valor: Empires - Road to Valor: Empires\n",
      "10위 新三國 漢室復興 - 新三國 漢室復興\n",
      "------------------------------------------------------------\n",
      "2022-07-25 Top 10 Apps for tv\n",
      "------------------------------------------------------------\n",
      "------------------------------------------------------------\n",
      "2022-07-25 Top 10 Apps for chromebook\n",
      "------------------------------------------------------------\n"
     ]
    }
   ],
   "source": [
    "if __name__ == '__main__':\n",
    "    top_n = 10\n",
    "    devices = [\n",
    "        'phone',\n",
    "        'tablet',\n",
    "        'tv',\n",
    "        'chromebook'\n",
    "    ]\n",
    "\n",
    "    browser = webdriver.Chrome(service = Service(ChromeDriverManager().install()))\n",
    "\n",
    "    today = datetime.now().strftime('%Y-%m-%d')\n",
    "\n",
    "    for device in devices:\n",
    "        print('-' * 60)\n",
    "        print(f'{today} Top {top_n} Games for {device}')\n",
    "        print('-' * 60)\n",
    "        top_games(browser, device, top_n)"
   ]
  }
 ],
 "metadata": {
  "kernelspec": {
   "display_name": "Python 3 (ipykernel)",
   "language": "python",
   "name": "python3"
  },
  "language_info": {
   "codemirror_mode": {
    "name": "ipython",
    "version": 3
   },
   "file_extension": ".py",
   "mimetype": "text/x-python",
   "name": "python",
   "nbconvert_exporter": "python",
   "pygments_lexer": "ipython3",
   "version": "3.10.5"
  },
  "toc": {
   "base_numbering": 1,
   "nav_menu": {},
   "number_sections": true,
   "sideBar": true,
   "skip_h1_title": false,
   "title_cell": "Table of Contents",
   "title_sidebar": "Contents",
   "toc_cell": false,
   "toc_position": {},
   "toc_section_display": true,
   "toc_window_display": false
  }
 },
 "nbformat": 4,
 "nbformat_minor": 5
}
